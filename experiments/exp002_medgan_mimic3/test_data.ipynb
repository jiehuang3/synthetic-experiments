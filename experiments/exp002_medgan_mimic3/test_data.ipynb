{
 "cells": [
  {
   "cell_type": "code",
   "execution_count": 10,
   "id": "bb8a61cd",
   "metadata": {},
   "outputs": [
    {
     "name": "stdout",
     "output_type": "stream",
     "text": [
      "(46520, 6985) float32\n",
      "[[1. 1. 1. ... 0. 0. 0.]\n",
      " [0. 0. 0. ... 0. 0. 0.]\n",
      " [0. 0. 0. ... 0. 0. 0.]\n",
      " [0. 0. 0. ... 0. 0. 0.]\n",
      " [0. 0. 0. ... 0. 0. 0.]]\n"
     ]
    }
   ],
   "source": [
    "import numpy as np\n",
    "import _pickle as pickle\n",
    "\n",
    "real_data = np.load(\"data/train_mimic3.npy\")\n",
    "print(real_data.shape, real_data.dtype)\n",
    "print(real_data[:5])"
   ]
  },
  {
   "cell_type": "code",
   "execution_count": 3,
   "id": "5f57292a",
   "metadata": {},
   "outputs": [
    {
     "name": "stdout",
     "output_type": "stream",
     "text": [
      "(69700, 6985) int8\n",
      "[[0 0 0 ... 0 0 0]\n",
      " [0 0 0 ... 0 0 0]\n",
      " [0 0 0 ... 1 1 0]\n",
      " [0 0 0 ... 0 1 0]\n",
      " [0 0 0 ... 0 0 0]]\n"
     ]
    }
   ],
   "source": [
    "syn_data_mimic = np.load(\"syn/medgan_mimic3_1.npy\")\n",
    "print(syn_data_mimic.shape, syn_data_mimic.dtype)\n",
    "print(syn_data_mimic[:5])"
   ]
  },
  {
   "cell_type": "code",
   "execution_count": 4,
   "id": "c739104b",
   "metadata": {},
   "outputs": [
    {
     "name": "stdout",
     "output_type": "stream",
     "text": [
      "全为0的行数: 0\n",
      "总行数: 69700\n",
      "全为0的行占比: 0.0000\n"
     ]
    }
   ],
   "source": [
    "# 方法1：使用np.all()和np.sum()统计全为0的行数\n",
    "zero_rows_count = np.sum(np.all(syn_data_mimic == 0, axis=1))\n",
    "print(f\"全为0的行数: {zero_rows_count}\")\n",
    "print(f\"总行数: {syn_data_mimic.shape[0]}\")\n",
    "print(f\"全为0的行占比: {zero_rows_count / syn_data_mimic.shape[0]:.4f}\")\n"
   ]
  },
  {
   "cell_type": "code",
   "execution_count": 12,
   "id": "08624f89",
   "metadata": {},
   "outputs": [
    {
     "name": "stdout",
     "output_type": "stream",
     "text": [
      "每行和的最小值: 3748\n",
      "每行和的最大值: 4000\n",
      "每行和的平均值: 3876.92\n"
     ]
    }
   ],
   "source": [
    "# 方法4：如果你想要更详细的统计信息\n",
    "row_sums = np.sum(syn_data_mimic, axis=1)\n",
    "print(f\"每行和的最小值: {np.min(row_sums)}\")\n",
    "print(f\"每行和的最大值: {np.max(row_sums)}\")\n",
    "print(f\"每行和的平均值: {np.mean(row_sums):.2f}\")\n",
    "\n",
    "# 统计不同和值的分布\n",
    "# unique_sums, counts = np.unique(row_sums, return_counts=True)\n",
    "# print(f\"\\\\n前10个最常见的行和值:\")\n",
    "# for sum_val, count in zip(unique_sums[:10], counts[:10]):\n",
    "#     print(f\"  和为 {sum_val} 的行数: {count}\")\n"
   ]
  },
  {
   "cell_type": "code",
   "execution_count": null,
   "id": "b820da93",
   "metadata": {},
   "outputs": [
    {
     "name": "stdout",
     "output_type": "stream",
     "text": [
      "每行和的最小值: 1.0\n",
      "每行和的最大值: 144.0\n",
      "每行和的平均值: 12.62\n"
     ]
    }
   ],
   "source": [
    "# 真实mimic数据的统计值\n",
    "row_sums = np.sum(real_data, axis=1)\n",
    "print(f\"每行和的最小值: {np.min(row_sums)}\")\n",
    "print(f\"每行和的最大值: {np.max(row_sums)}\")\n",
    "print(f\"每行和的平均值: {np.mean(row_sums):.2f}\")"
   ]
  },
  {
   "cell_type": "code",
   "execution_count": 6,
   "id": "4c30f5a0",
   "metadata": {},
   "outputs": [
    {
     "name": "stdout",
     "output_type": "stream",
     "text": [
      "   D_967.8 -> 0\n",
      "   D_969.3 -> 1\n",
      "   D_E950.2 -> 2\n",
      "   D_E950.3 -> 3\n",
      "   D_348.8 -> 4\n"
     ]
    }
   ],
   "source": [
    "with open('processed_mimic.types', 'rb') as f:\n",
    "    types = pickle.load(f)\n",
    "\n",
    "for i, (code, idx) in enumerate(list(types.items())[:5]):\n",
    "    print(f\"   {code} -> {idx}\")"
   ]
  },
  {
   "cell_type": "code",
   "execution_count": 8,
   "id": "24532272",
   "metadata": {},
   "outputs": [
    {
     "name": "stdout",
     "output_type": "stream",
     "text": [
      "正在加载数据...\n",
      "合成数据形状: (69700, 6985)\n",
      "疾病代码数量: 6985\n",
      "前10个列名: ['D_967.8', 'D_969.3', 'D_E950.2', 'D_E950.3', 'D_348.8', 'D_296.20', 'D_401.9', 'D_414.01', 'D_411.1', 'D_424.1']\n",
      "正在创建DataFrame...\n",
      "DataFrame形状: (69700, 6985)\n",
      "非零值数量: 270221602\n",
      "数据范围: 0 到 1\n",
      "前3行前10列:\n",
      "   D_967.8  D_969.3  D_E950.2  D_E950.3  D_348.8  D_296.20  D_401.9  D_414.01  \\\n",
      "0        0        0         0         0        1         0        1         1   \n",
      "1        0        0         0         1        1         1        1         1   \n",
      "2        0        0         0         1        1         1        1         1   \n",
      "\n",
      "   D_411.1  D_424.1  \n",
      "0        1        1  \n",
      "1        1        1  \n",
      "2        1        1  \n",
      "正在保存DataFrame到 syn_data_mimic3_dataframe.pkl...\n",
      "保存完成！\n",
      "转换完成！\n"
     ]
    }
   ],
   "source": [
    "import pandas as pd\n",
    "\n",
    "print('正在加载数据...')\n",
    "\n",
    "# 加载合成数据\n",
    "print(f'合成数据形状: {syn_data_mimic.shape}')\n",
    "\n",
    "# 加载疾病代码映射\n",
    "with open('processed_mimic.types', 'rb') as f:\n",
    "    disease_codes_dict = pickle.load(f)\n",
    "\n",
    "print(f'疾病代码数量: {len(disease_codes_dict)}')\n",
    "\n",
    "# 创建列名列表（按索引顺序）\n",
    "column_names = [None] * len(disease_codes_dict)\n",
    "for disease_code, index in disease_codes_dict.items():\n",
    "    column_names[index] = disease_code\n",
    "\n",
    "print('前10个列名:', column_names[:10])\n",
    "\n",
    "# 创建DataFrame\n",
    "print('正在创建DataFrame...')\n",
    "df = pd.DataFrame(syn_data_mimic, columns=column_names)\n",
    "\n",
    "print(f'DataFrame形状: {df.shape}')\n",
    "print(f'非零值数量: {(df != 0).sum().sum()}')\n",
    "print(f'数据范围: {df.min().min()} 到 {df.max().max()}')\n",
    "\n",
    "# 显示前几行和前几列\n",
    "print('前3行前10列:')\n",
    "print(df.iloc[:3, :10])\n",
    "\n",
    "# 保存DataFrame\n",
    "output_file = 'syn_data_mimic3_dataframe.pkl'\n",
    "print(f'正在保存DataFrame到 {output_file}...')\n",
    "df.to_pickle(output_file)\n",
    "print('保存完成！')\n",
    "\n",
    "print('转换完成！')"
   ]
  },
  {
   "cell_type": "code",
   "execution_count": 14,
   "id": "6fc03999",
   "metadata": {},
   "outputs": [
    {
     "name": "stdout",
     "output_type": "stream",
     "text": [
      "(69700, 6985)\n"
     ]
    }
   ],
   "source": [
    "with open('syn_data_mimic3_dataframe.pkl', 'rb') as f:\n",
    "    syn_data_mimic3_dataframe = pickle.load(f)\n",
    "\n",
    "print(syn_data_mimic3_dataframe.shape)"
   ]
  },
  {
   "cell_type": "code",
   "execution_count": null,
   "id": "ce7159e1",
   "metadata": {},
   "outputs": [],
   "source": []
  }
 ],
 "metadata": {
  "kernelspec": {
   "display_name": "Python 3",
   "language": "python",
   "name": "python3"
  },
  "language_info": {
   "codemirror_mode": {
    "name": "ipython",
    "version": 3
   },
   "file_extension": ".py",
   "mimetype": "text/x-python",
   "name": "python",
   "nbconvert_exporter": "python",
   "pygments_lexer": "ipython3",
   "version": "3.11.11"
  }
 },
 "nbformat": 4,
 "nbformat_minor": 5
}
