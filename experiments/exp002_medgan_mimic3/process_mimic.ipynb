{
 "cells": [
  {
   "cell_type": "code",
   "execution_count": 1,
   "id": "3f710a96",
   "metadata": {},
   "outputs": [],
   "source": [
    "import sys\n",
    "import _pickle as pickle\n",
    "import numpy as np\n",
    "from datetime import datetime"
   ]
  },
  {
   "cell_type": "code",
   "execution_count": null,
   "id": "517357e9",
   "metadata": {},
   "outputs": [],
   "source": [
    "def convert_to_icd9(dxStr):\n",
    "    # \"E1234\" -> \"E123.4\"\n",
    "    if dxStr.startswith('E'):\n",
    "        if len(dxStr) > 4:\n",
    "            return dxStr[:4] + '.' + dxStr[4:]\n",
    "        else:\n",
    "            return dxStr\n",
    "    else:\n",
    "        # \"1234\" -> \"123.4\"\n",
    "        if len(dxStr) > 3: \n",
    "            return dxStr[:3] + '.' + dxStr[3:]\n",
    "        else:\n",
    "            return dxStr"
   ]
  },
  {
   "cell_type": "code",
   "execution_count": 4,
   "id": "0ff07aa2",
   "metadata": {},
   "outputs": [],
   "source": [
    "def convert_to_3digit_icd9(dxStr):\n",
    "    if dxStr.startswith('E'):\n",
    "        if len(dxStr) > 4:\n",
    "            return dxStr[:4]\n",
    "        else:\n",
    "            return dxStr\n",
    "    else:\n",
    "        if len(dxStr) > 3: \n",
    "            return dxStr[:3]\n",
    "        else:\n",
    "            return dxStr"
   ]
  },
  {
   "cell_type": "code",
   "execution_count": 5,
   "id": "a46ce903",
   "metadata": {},
   "outputs": [],
   "source": [
    "raw_data_dir = 'mimic/'\n",
    "processed_data_dir = 'processed_mimic/'\n",
    "admissionFile = raw_data_dir + 'ADMISSIONS.csv'\n",
    "diagnosisFile = raw_data_dir + 'DIAGNOSES_ICD.csv'\n",
    "outFile = processed_data_dir + 'processed_mimic'"
   ]
  },
  {
   "cell_type": "code",
   "execution_count": 7,
   "id": "b3a1535f",
   "metadata": {},
   "outputs": [],
   "source": [
    "# input arguments\n",
    "binary_count = 'binary'"
   ]
  },
  {
   "cell_type": "code",
   "execution_count": 8,
   "id": "a2f6059e",
   "metadata": {},
   "outputs": [
    {
     "name": "stdout",
     "output_type": "stream",
     "text": [
      "Building pid-admission mapping, admission-date mapping\n",
      "Building admission-dxList mapping\n",
      "Building pid-sortedVisits mapping\n",
      "Building pids, dates, strSeqs\n",
      "Converting strSeqs to intSeqs, and making types\n",
      "Constructing the matrix\n"
     ]
    }
   ],
   "source": [
    "print('Building pid-admission mapping, admission-date mapping')\n",
    "pidAdmMap = {}\n",
    "admDateMap = {}\n",
    "infd = open(admissionFile, 'r')\n",
    "infd.readline()\n",
    "for line in infd:\n",
    "    tokens = line.strip().split(',')\n",
    "    pid = int(tokens[1])\n",
    "    admId = int(tokens[2])\n",
    "    admTime = datetime.strptime(tokens[3], '%Y-%m-%d %H:%M:%S')\n",
    "    admDateMap[admId] = admTime\n",
    "    if pid in pidAdmMap: pidAdmMap[pid].append(admId)\n",
    "    else: pidAdmMap[pid] = [admId]\n",
    "infd.close()\n",
    "\n",
    "print('Building admission-dxList mapping')\n",
    "admDxMap = {}\n",
    "infd = open(diagnosisFile, 'r')\n",
    "infd.readline()\n",
    "for line in infd:\n",
    "    tokens = line.strip().split(',')\n",
    "    admId = int(tokens[2])\n",
    "    # Uncomment this line and comment the line below, if you want to use the entire ICD9 digits.\n",
    "    dxStr = 'D_' + convert_to_icd9(tokens[4][1:-1])\n",
    "    #dxStr = 'D_' + convert_to_3digit_icd9(tokens[4][1:-1])\n",
    "    if admId in admDxMap: admDxMap[admId].append(dxStr)\n",
    "    else: admDxMap[admId] = [dxStr]\n",
    "infd.close()\n",
    "\n",
    "print('Building pid-sortedVisits mapping')\n",
    "pidSeqMap = {}\n",
    "for pid, admIdList in pidAdmMap.items():\n",
    "    #if len(admIdList) < 2: continue\n",
    "    sortedList = sorted([(admDateMap[admId], admDxMap[admId]) for admId in admIdList])\n",
    "    pidSeqMap[pid] = sortedList\n",
    "\n",
    "print('Building pids, dates, strSeqs')\n",
    "pids = []\n",
    "dates = []\n",
    "seqs = []\n",
    "for pid, visits in pidSeqMap.items():\n",
    "    pids.append(pid)\n",
    "    seq = []\n",
    "    date = []\n",
    "    for visit in visits:\n",
    "        date.append(visit[0])\n",
    "        seq.append(visit[1])\n",
    "    dates.append(date)\n",
    "    seqs.append(seq)\n",
    "\n",
    "print('Converting strSeqs to intSeqs, and making types')\n",
    "types = {}\n",
    "newSeqs = []\n",
    "for patient in seqs:\n",
    "    newPatient = []\n",
    "    for visit in patient:\n",
    "        newVisit = []\n",
    "        for code in visit:\n",
    "            if code in types:\n",
    "                newVisit.append(types[code])\n",
    "            else:\n",
    "                types[code] = len(types)\n",
    "                newVisit.append(types[code])\n",
    "        newPatient.append(newVisit)\n",
    "    newSeqs.append(newPatient)\n",
    "\n",
    "print('Constructing the matrix')\n",
    "numPatients = len(newSeqs)\n",
    "numCodes = len(types)\n",
    "matrix = np.zeros((numPatients, numCodes)).astype('float32')\n",
    "for i, patient in enumerate(newSeqs):\n",
    "    for visit in patient:\n",
    "        for code in visit:\n",
    "            if binary_count == 'binary':\n",
    "                matrix[i][code] = 1.\n",
    "            else:\n",
    "                matrix[i][code] += 1.\n",
    "\n",
    "pickle.dump(pids, open(outFile+'.pids', 'wb'), -1)\n",
    "pickle.dump(matrix, open(outFile+'.matrix', 'wb'), -1)\n",
    "pickle.dump(types, open(outFile+'.types', 'wb'), -1)"
   ]
  },
  {
   "cell_type": "code",
   "execution_count": 9,
   "id": "be95acef",
   "metadata": {},
   "outputs": [],
   "source": [
    "with open('processed_mimic/processed_mimic.types', 'rb') as f:\n",
    "    types = pickle.load(f)\n",
    "\n",
    "with open('processed_mimic/processed_mimic.pids', 'rb') as f:\n",
    "    pids = pickle.load(f)\n",
    "\n",
    "with open('processed_mimic/processed_mimic.matrix', 'rb') as f:\n",
    "    matrix = pickle.load(f)"
   ]
  },
  {
   "cell_type": "code",
   "execution_count": 13,
   "id": "0c14d60c",
   "metadata": {},
   "outputs": [
    {
     "name": "stdout",
     "output_type": "stream",
     "text": [
      "   D_240 -> 280\n",
      "   D_284 -> 281\n",
      "   D_159 -> 282\n",
      "   D_890 -> 283\n",
      "   D_265 -> 284\n",
      "   D_118 -> 285\n",
      "   D_625 -> 286\n",
      "   D_349 -> 287\n",
      "   D_937 -> 288\n",
      "   D_319 -> 289\n",
      "   D_13 -> 290\n",
      "   D_169 -> 291\n",
      "   D_873 -> 292\n",
      "   D_942 -> 293\n",
      "   D_518 -> 294\n"
     ]
    }
   ],
   "source": [
    "for i, (code, idx) in enumerate(list(types.items())[280:]):\n",
    "    print(f\"   {code} -> {idx}\")"
   ]
  },
  {
   "cell_type": "code",
   "execution_count": null,
   "id": "8961768d",
   "metadata": {},
   "outputs": [],
   "source": []
  },
  {
   "cell_type": "code",
   "execution_count": null,
   "id": "8e959dc7",
   "metadata": {},
   "outputs": [],
   "source": []
  }
 ],
 "metadata": {
  "kernelspec": {
   "display_name": ".venv",
   "language": "python",
   "name": "python3"
  },
  "language_info": {
   "codemirror_mode": {
    "name": "ipython",
    "version": 3
   },
   "file_extension": ".py",
   "mimetype": "text/x-python",
   "name": "python",
   "nbconvert_exporter": "python",
   "pygments_lexer": "ipython3",
   "version": "3.11.11"
  }
 },
 "nbformat": 4,
 "nbformat_minor": 5
}
