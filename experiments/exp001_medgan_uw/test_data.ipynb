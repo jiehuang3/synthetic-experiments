{
 "cells": [
  {
   "cell_type": "code",
   "execution_count": 2,
   "id": "bb8a61cd",
   "metadata": {},
   "outputs": [
    {
     "name": "stdout",
     "output_type": "stream",
     "text": [
      "(13213, 2670) bool\n",
      "[[False  True  True ...  True  True  True]\n",
      " [ True False  True ...  True  True False]\n",
      " [ True  True False ... False False  True]\n",
      " [ True  True  True ... False False False]\n",
      " [ True False False ...  True False  True]]\n"
     ]
    }
   ],
   "source": [
    "import numpy as np\n",
    "\n",
    "data = np.load(\"data/train_uw.npy\")\n",
    "print(data.shape, data.dtype)\n",
    "print(data[:5])"
   ]
  },
  {
   "cell_type": "code",
   "execution_count": 3,
   "id": "ca6ab1c8",
   "metadata": {},
   "outputs": [
    {
     "name": "stdout",
     "output_type": "stream",
     "text": [
      "(19800, 2670) int8\n",
      "[[1 1 1 ... 1 0 1]\n",
      " [1 1 1 ... 1 1 1]\n",
      " [1 1 1 ... 1 1 1]\n",
      " [1 1 1 ... 1 0 1]\n",
      " [1 1 1 ... 1 1 1]]\n"
     ]
    }
   ],
   "source": [
    "syn_data = np.load(\"syn/medgan_uw_1.npy\")\n",
    "print(syn_data.shape, syn_data.dtype)\n",
    "print(syn_data[:5])"
   ]
  },
  {
   "cell_type": "code",
   "execution_count": null,
   "id": "2fc7a4e0",
   "metadata": {},
   "outputs": [],
   "source": []
  }
 ],
 "metadata": {
  "kernelspec": {
   "display_name": ".venv",
   "language": "python",
   "name": "python3"
  },
  "language_info": {
   "codemirror_mode": {
    "name": "ipython",
    "version": 3
   },
   "file_extension": ".py",
   "mimetype": "text/x-python",
   "name": "python",
   "nbconvert_exporter": "python",
   "pygments_lexer": "ipython3",
   "version": "3.10.11"
  }
 },
 "nbformat": 4,
 "nbformat_minor": 5
}
