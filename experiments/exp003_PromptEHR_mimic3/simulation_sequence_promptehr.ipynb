{
  "nbformat": 4,
  "nbformat_minor": 0,
  "metadata": {
    "colab": {
      "provenance": [],
      "collapsed_sections": [
        "k9CpSQKc-crq",
        "n3j21A4u9O07"
      ]
    },
    "kernelspec": {
      "name": "python3",
      "display_name": "Python 3"
    },
    "language_info": {
      "name": "python"
    },
    "accelerator": "GPU",
    "gpuClass": "standard",
    "widgets": {
      "application/vnd.jupyter.widget-state+json": {
        "ba6762eaf22941078734e3eb5ac51928": {
          "model_module": "@jupyter-widgets/controls",
          "model_name": "HBoxModel",
          "model_module_version": "1.5.0",
          "state": {
            "_dom_classes": [],
            "_model_module": "@jupyter-widgets/controls",
            "_model_module_version": "1.5.0",
            "_model_name": "HBoxModel",
            "_view_count": null,
            "_view_module": "@jupyter-widgets/controls",
            "_view_module_version": "1.5.0",
            "_view_name": "HBoxView",
            "box_style": "",
            "children": [
              "IPY_MODEL_2296a8ad19c1451d98dd153376dc5429",
              "IPY_MODEL_a9329c3916244954ad7948d84746c4e7",
              "IPY_MODEL_3833751f35e6452bb2adeb6e40aad008"
            ],
            "layout": "IPY_MODEL_d1a1abbe845d4ae58d1d54c6a89cf0a9"
          }
        },
        "2296a8ad19c1451d98dd153376dc5429": {
          "model_module": "@jupyter-widgets/controls",
          "model_name": "HTMLModel",
          "model_module_version": "1.5.0",
          "state": {
            "_dom_classes": [],
            "_model_module": "@jupyter-widgets/controls",
            "_model_module_version": "1.5.0",
            "_model_name": "HTMLModel",
            "_view_count": null,
            "_view_module": "@jupyter-widgets/controls",
            "_view_module_version": "1.5.0",
            "_view_name": "HTMLView",
            "description": "",
            "description_tooltip": null,
            "layout": "IPY_MODEL_23ca743fd46645309c4be281a4e1d7b6",
            "placeholder": "​",
            "style": "IPY_MODEL_5742b7add1954834abe2bf611cfb1ff8",
            "value": "Downloading: 100%"
          }
        },
        "a9329c3916244954ad7948d84746c4e7": {
          "model_module": "@jupyter-widgets/controls",
          "model_name": "FloatProgressModel",
          "model_module_version": "1.5.0",
          "state": {
            "_dom_classes": [],
            "_model_module": "@jupyter-widgets/controls",
            "_model_module_version": "1.5.0",
            "_model_name": "FloatProgressModel",
            "_view_count": null,
            "_view_module": "@jupyter-widgets/controls",
            "_view_module_version": "1.5.0",
            "_view_name": "ProgressView",
            "bar_style": "success",
            "description": "",
            "description_tooltip": null,
            "layout": "IPY_MODEL_08452c674e03459d83248fe03b25a901",
            "max": 898823,
            "min": 0,
            "orientation": "horizontal",
            "style": "IPY_MODEL_d8ab204f7f994f95a6d3921c0cac7d57",
            "value": 898823
          }
        },
        "3833751f35e6452bb2adeb6e40aad008": {
          "model_module": "@jupyter-widgets/controls",
          "model_name": "HTMLModel",
          "model_module_version": "1.5.0",
          "state": {
            "_dom_classes": [],
            "_model_module": "@jupyter-widgets/controls",
            "_model_module_version": "1.5.0",
            "_model_name": "HTMLModel",
            "_view_count": null,
            "_view_module": "@jupyter-widgets/controls",
            "_view_module_version": "1.5.0",
            "_view_name": "HTMLView",
            "description": "",
            "description_tooltip": null,
            "layout": "IPY_MODEL_aebf0cfc8b114c3ba4cef6c539362f13",
            "placeholder": "​",
            "style": "IPY_MODEL_0fb9cf937c464dd79e3de8d6b7a7dc4a",
            "value": " 899k/899k [00:00&lt;00:00, 1.56MB/s]"
          }
        },
        "d1a1abbe845d4ae58d1d54c6a89cf0a9": {
          "model_module": "@jupyter-widgets/base",
          "model_name": "LayoutModel",
          "model_module_version": "1.2.0",
          "state": {
            "_model_module": "@jupyter-widgets/base",
            "_model_module_version": "1.2.0",
            "_model_name": "LayoutModel",
            "_view_count": null,
            "_view_module": "@jupyter-widgets/base",
            "_view_module_version": "1.2.0",
            "_view_name": "LayoutView",
            "align_content": null,
            "align_items": null,
            "align_self": null,
            "border": null,
            "bottom": null,
            "display": null,
            "flex": null,
            "flex_flow": null,
            "grid_area": null,
            "grid_auto_columns": null,
            "grid_auto_flow": null,
            "grid_auto_rows": null,
            "grid_column": null,
            "grid_gap": null,
            "grid_row": null,
            "grid_template_areas": null,
            "grid_template_columns": null,
            "grid_template_rows": null,
            "height": null,
            "justify_content": null,
            "justify_items": null,
            "left": null,
            "margin": null,
            "max_height": null,
            "max_width": null,
            "min_height": null,
            "min_width": null,
            "object_fit": null,
            "object_position": null,
            "order": null,
            "overflow": null,
            "overflow_x": null,
            "overflow_y": null,
            "padding": null,
            "right": null,
            "top": null,
            "visibility": null,
            "width": null
          }
        },
        "23ca743fd46645309c4be281a4e1d7b6": {
          "model_module": "@jupyter-widgets/base",
          "model_name": "LayoutModel",
          "model_module_version": "1.2.0",
          "state": {
            "_model_module": "@jupyter-widgets/base",
            "_model_module_version": "1.2.0",
            "_model_name": "LayoutModel",
            "_view_count": null,
            "_view_module": "@jupyter-widgets/base",
            "_view_module_version": "1.2.0",
            "_view_name": "LayoutView",
            "align_content": null,
            "align_items": null,
            "align_self": null,
            "border": null,
            "bottom": null,
            "display": null,
            "flex": null,
            "flex_flow": null,
            "grid_area": null,
            "grid_auto_columns": null,
            "grid_auto_flow": null,
            "grid_auto_rows": null,
            "grid_column": null,
            "grid_gap": null,
            "grid_row": null,
            "grid_template_areas": null,
            "grid_template_columns": null,
            "grid_template_rows": null,
            "height": null,
            "justify_content": null,
            "justify_items": null,
            "left": null,
            "margin": null,
            "max_height": null,
            "max_width": null,
            "min_height": null,
            "min_width": null,
            "object_fit": null,
            "object_position": null,
            "order": null,
            "overflow": null,
            "overflow_x": null,
            "overflow_y": null,
            "padding": null,
            "right": null,
            "top": null,
            "visibility": null,
            "width": null
          }
        },
        "5742b7add1954834abe2bf611cfb1ff8": {
          "model_module": "@jupyter-widgets/controls",
          "model_name": "DescriptionStyleModel",
          "model_module_version": "1.5.0",
          "state": {
            "_model_module": "@jupyter-widgets/controls",
            "_model_module_version": "1.5.0",
            "_model_name": "DescriptionStyleModel",
            "_view_count": null,
            "_view_module": "@jupyter-widgets/base",
            "_view_module_version": "1.2.0",
            "_view_name": "StyleView",
            "description_width": ""
          }
        },
        "08452c674e03459d83248fe03b25a901": {
          "model_module": "@jupyter-widgets/base",
          "model_name": "LayoutModel",
          "model_module_version": "1.2.0",
          "state": {
            "_model_module": "@jupyter-widgets/base",
            "_model_module_version": "1.2.0",
            "_model_name": "LayoutModel",
            "_view_count": null,
            "_view_module": "@jupyter-widgets/base",
            "_view_module_version": "1.2.0",
            "_view_name": "LayoutView",
            "align_content": null,
            "align_items": null,
            "align_self": null,
            "border": null,
            "bottom": null,
            "display": null,
            "flex": null,
            "flex_flow": null,
            "grid_area": null,
            "grid_auto_columns": null,
            "grid_auto_flow": null,
            "grid_auto_rows": null,
            "grid_column": null,
            "grid_gap": null,
            "grid_row": null,
            "grid_template_areas": null,
            "grid_template_columns": null,
            "grid_template_rows": null,
            "height": null,
            "justify_content": null,
            "justify_items": null,
            "left": null,
            "margin": null,
            "max_height": null,
            "max_width": null,
            "min_height": null,
            "min_width": null,
            "object_fit": null,
            "object_position": null,
            "order": null,
            "overflow": null,
            "overflow_x": null,
            "overflow_y": null,
            "padding": null,
            "right": null,
            "top": null,
            "visibility": null,
            "width": null
          }
        },
        "d8ab204f7f994f95a6d3921c0cac7d57": {
          "model_module": "@jupyter-widgets/controls",
          "model_name": "ProgressStyleModel",
          "model_module_version": "1.5.0",
          "state": {
            "_model_module": "@jupyter-widgets/controls",
            "_model_module_version": "1.5.0",
            "_model_name": "ProgressStyleModel",
            "_view_count": null,
            "_view_module": "@jupyter-widgets/base",
            "_view_module_version": "1.2.0",
            "_view_name": "StyleView",
            "bar_color": null,
            "description_width": ""
          }
        },
        "aebf0cfc8b114c3ba4cef6c539362f13": {
          "model_module": "@jupyter-widgets/base",
          "model_name": "LayoutModel",
          "model_module_version": "1.2.0",
          "state": {
            "_model_module": "@jupyter-widgets/base",
            "_model_module_version": "1.2.0",
            "_model_name": "LayoutModel",
            "_view_count": null,
            "_view_module": "@jupyter-widgets/base",
            "_view_module_version": "1.2.0",
            "_view_name": "LayoutView",
            "align_content": null,
            "align_items": null,
            "align_self": null,
            "border": null,
            "bottom": null,
            "display": null,
            "flex": null,
            "flex_flow": null,
            "grid_area": null,
            "grid_auto_columns": null,
            "grid_auto_flow": null,
            "grid_auto_rows": null,
            "grid_column": null,
            "grid_gap": null,
            "grid_row": null,
            "grid_template_areas": null,
            "grid_template_columns": null,
            "grid_template_rows": null,
            "height": null,
            "justify_content": null,
            "justify_items": null,
            "left": null,
            "margin": null,
            "max_height": null,
            "max_width": null,
            "min_height": null,
            "min_width": null,
            "object_fit": null,
            "object_position": null,
            "order": null,
            "overflow": null,
            "overflow_x": null,
            "overflow_y": null,
            "padding": null,
            "right": null,
            "top": null,
            "visibility": null,
            "width": null
          }
        },
        "0fb9cf937c464dd79e3de8d6b7a7dc4a": {
          "model_module": "@jupyter-widgets/controls",
          "model_name": "DescriptionStyleModel",
          "model_module_version": "1.5.0",
          "state": {
            "_model_module": "@jupyter-widgets/controls",
            "_model_module_version": "1.5.0",
            "_model_name": "DescriptionStyleModel",
            "_view_count": null,
            "_view_module": "@jupyter-widgets/base",
            "_view_module_version": "1.2.0",
            "_view_name": "StyleView",
            "description_width": ""
          }
        },
        "aa50c9fdbb134bc2b6071692f43d77f0": {
          "model_module": "@jupyter-widgets/controls",
          "model_name": "HBoxModel",
          "model_module_version": "1.5.0",
          "state": {
            "_dom_classes": [],
            "_model_module": "@jupyter-widgets/controls",
            "_model_module_version": "1.5.0",
            "_model_name": "HBoxModel",
            "_view_count": null,
            "_view_module": "@jupyter-widgets/controls",
            "_view_module_version": "1.5.0",
            "_view_name": "HBoxView",
            "box_style": "",
            "children": [
              "IPY_MODEL_c58a523a403f4a228ecc0490a9b6fc48",
              "IPY_MODEL_c8b3be08caf2439086d4e4973703cd01",
              "IPY_MODEL_ccd42e4fa1a04c1aab3d39ab50b96e2c"
            ],
            "layout": "IPY_MODEL_1c83b7be83c1484081e3ef2e4826e41c"
          }
        },
        "c58a523a403f4a228ecc0490a9b6fc48": {
          "model_module": "@jupyter-widgets/controls",
          "model_name": "HTMLModel",
          "model_module_version": "1.5.0",
          "state": {
            "_dom_classes": [],
            "_model_module": "@jupyter-widgets/controls",
            "_model_module_version": "1.5.0",
            "_model_name": "HTMLModel",
            "_view_count": null,
            "_view_module": "@jupyter-widgets/controls",
            "_view_module_version": "1.5.0",
            "_view_name": "HTMLView",
            "description": "",
            "description_tooltip": null,
            "layout": "IPY_MODEL_99285c3809df45bfaa4168b3aaee575a",
            "placeholder": "​",
            "style": "IPY_MODEL_968c4bde5cde4d60979c6fe10d68d88a",
            "value": "Downloading: 100%"
          }
        },
        "c8b3be08caf2439086d4e4973703cd01": {
          "model_module": "@jupyter-widgets/controls",
          "model_name": "FloatProgressModel",
          "model_module_version": "1.5.0",
          "state": {
            "_dom_classes": [],
            "_model_module": "@jupyter-widgets/controls",
            "_model_module_version": "1.5.0",
            "_model_name": "FloatProgressModel",
            "_view_count": null,
            "_view_module": "@jupyter-widgets/controls",
            "_view_module_version": "1.5.0",
            "_view_name": "ProgressView",
            "bar_style": "success",
            "description": "",
            "description_tooltip": null,
            "layout": "IPY_MODEL_7306e88354fd4677817e456a557e597b",
            "max": 456318,
            "min": 0,
            "orientation": "horizontal",
            "style": "IPY_MODEL_49df2c382cd4495296f0ddec0a2953e9",
            "value": 456318
          }
        },
        "ccd42e4fa1a04c1aab3d39ab50b96e2c": {
          "model_module": "@jupyter-widgets/controls",
          "model_name": "HTMLModel",
          "model_module_version": "1.5.0",
          "state": {
            "_dom_classes": [],
            "_model_module": "@jupyter-widgets/controls",
            "_model_module_version": "1.5.0",
            "_model_name": "HTMLModel",
            "_view_count": null,
            "_view_module": "@jupyter-widgets/controls",
            "_view_module_version": "1.5.0",
            "_view_name": "HTMLView",
            "description": "",
            "description_tooltip": null,
            "layout": "IPY_MODEL_c591b45de81c403a9bfed2b59ffe9673",
            "placeholder": "​",
            "style": "IPY_MODEL_663a2745ea424b0291b9e2cadce7b7fe",
            "value": " 456k/456k [00:00&lt;00:00, 1.19MB/s]"
          }
        },
        "1c83b7be83c1484081e3ef2e4826e41c": {
          "model_module": "@jupyter-widgets/base",
          "model_name": "LayoutModel",
          "model_module_version": "1.2.0",
          "state": {
            "_model_module": "@jupyter-widgets/base",
            "_model_module_version": "1.2.0",
            "_model_name": "LayoutModel",
            "_view_count": null,
            "_view_module": "@jupyter-widgets/base",
            "_view_module_version": "1.2.0",
            "_view_name": "LayoutView",
            "align_content": null,
            "align_items": null,
            "align_self": null,
            "border": null,
            "bottom": null,
            "display": null,
            "flex": null,
            "flex_flow": null,
            "grid_area": null,
            "grid_auto_columns": null,
            "grid_auto_flow": null,
            "grid_auto_rows": null,
            "grid_column": null,
            "grid_gap": null,
            "grid_row": null,
            "grid_template_areas": null,
            "grid_template_columns": null,
            "grid_template_rows": null,
            "height": null,
            "justify_content": null,
            "justify_items": null,
            "left": null,
            "margin": null,
            "max_height": null,
            "max_width": null,
            "min_height": null,
            "min_width": null,
            "object_fit": null,
            "object_position": null,
            "order": null,
            "overflow": null,
            "overflow_x": null,
            "overflow_y": null,
            "padding": null,
            "right": null,
            "top": null,
            "visibility": null,
            "width": null
          }
        },
        "99285c3809df45bfaa4168b3aaee575a": {
          "model_module": "@jupyter-widgets/base",
          "model_name": "LayoutModel",
          "model_module_version": "1.2.0",
          "state": {
            "_model_module": "@jupyter-widgets/base",
            "_model_module_version": "1.2.0",
            "_model_name": "LayoutModel",
            "_view_count": null,
            "_view_module": "@jupyter-widgets/base",
            "_view_module_version": "1.2.0",
            "_view_name": "LayoutView",
            "align_content": null,
            "align_items": null,
            "align_self": null,
            "border": null,
            "bottom": null,
            "display": null,
            "flex": null,
            "flex_flow": null,
            "grid_area": null,
            "grid_auto_columns": null,
            "grid_auto_flow": null,
            "grid_auto_rows": null,
            "grid_column": null,
            "grid_gap": null,
            "grid_row": null,
            "grid_template_areas": null,
            "grid_template_columns": null,
            "grid_template_rows": null,
            "height": null,
            "justify_content": null,
            "justify_items": null,
            "left": null,
            "margin": null,
            "max_height": null,
            "max_width": null,
            "min_height": null,
            "min_width": null,
            "object_fit": null,
            "object_position": null,
            "order": null,
            "overflow": null,
            "overflow_x": null,
            "overflow_y": null,
            "padding": null,
            "right": null,
            "top": null,
            "visibility": null,
            "width": null
          }
        },
        "968c4bde5cde4d60979c6fe10d68d88a": {
          "model_module": "@jupyter-widgets/controls",
          "model_name": "DescriptionStyleModel",
          "model_module_version": "1.5.0",
          "state": {
            "_model_module": "@jupyter-widgets/controls",
            "_model_module_version": "1.5.0",
            "_model_name": "DescriptionStyleModel",
            "_view_count": null,
            "_view_module": "@jupyter-widgets/base",
            "_view_module_version": "1.2.0",
            "_view_name": "StyleView",
            "description_width": ""
          }
        },
        "7306e88354fd4677817e456a557e597b": {
          "model_module": "@jupyter-widgets/base",
          "model_name": "LayoutModel",
          "model_module_version": "1.2.0",
          "state": {
            "_model_module": "@jupyter-widgets/base",
            "_model_module_version": "1.2.0",
            "_model_name": "LayoutModel",
            "_view_count": null,
            "_view_module": "@jupyter-widgets/base",
            "_view_module_version": "1.2.0",
            "_view_name": "LayoutView",
            "align_content": null,
            "align_items": null,
            "align_self": null,
            "border": null,
            "bottom": null,
            "display": null,
            "flex": null,
            "flex_flow": null,
            "grid_area": null,
            "grid_auto_columns": null,
            "grid_auto_flow": null,
            "grid_auto_rows": null,
            "grid_column": null,
            "grid_gap": null,
            "grid_row": null,
            "grid_template_areas": null,
            "grid_template_columns": null,
            "grid_template_rows": null,
            "height": null,
            "justify_content": null,
            "justify_items": null,
            "left": null,
            "margin": null,
            "max_height": null,
            "max_width": null,
            "min_height": null,
            "min_width": null,
            "object_fit": null,
            "object_position": null,
            "order": null,
            "overflow": null,
            "overflow_x": null,
            "overflow_y": null,
            "padding": null,
            "right": null,
            "top": null,
            "visibility": null,
            "width": null
          }
        },
        "49df2c382cd4495296f0ddec0a2953e9": {
          "model_module": "@jupyter-widgets/controls",
          "model_name": "ProgressStyleModel",
          "model_module_version": "1.5.0",
          "state": {
            "_model_module": "@jupyter-widgets/controls",
            "_model_module_version": "1.5.0",
            "_model_name": "ProgressStyleModel",
            "_view_count": null,
            "_view_module": "@jupyter-widgets/base",
            "_view_module_version": "1.2.0",
            "_view_name": "StyleView",
            "bar_color": null,
            "description_width": ""
          }
        },
        "c591b45de81c403a9bfed2b59ffe9673": {
          "model_module": "@jupyter-widgets/base",
          "model_name": "LayoutModel",
          "model_module_version": "1.2.0",
          "state": {
            "_model_module": "@jupyter-widgets/base",
            "_model_module_version": "1.2.0",
            "_model_name": "LayoutModel",
            "_view_count": null,
            "_view_module": "@jupyter-widgets/base",
            "_view_module_version": "1.2.0",
            "_view_name": "LayoutView",
            "align_content": null,
            "align_items": null,
            "align_self": null,
            "border": null,
            "bottom": null,
            "display": null,
            "flex": null,
            "flex_flow": null,
            "grid_area": null,
            "grid_auto_columns": null,
            "grid_auto_flow": null,
            "grid_auto_rows": null,
            "grid_column": null,
            "grid_gap": null,
            "grid_row": null,
            "grid_template_areas": null,
            "grid_template_columns": null,
            "grid_template_rows": null,
            "height": null,
            "justify_content": null,
            "justify_items": null,
            "left": null,
            "margin": null,
            "max_height": null,
            "max_width": null,
            "min_height": null,
            "min_width": null,
            "object_fit": null,
            "object_position": null,
            "order": null,
            "overflow": null,
            "overflow_x": null,
            "overflow_y": null,
            "padding": null,
            "right": null,
            "top": null,
            "visibility": null,
            "width": null
          }
        },
        "663a2745ea424b0291b9e2cadce7b7fe": {
          "model_module": "@jupyter-widgets/controls",
          "model_name": "DescriptionStyleModel",
          "model_module_version": "1.5.0",
          "state": {
            "_model_module": "@jupyter-widgets/controls",
            "_model_module_version": "1.5.0",
            "_model_name": "DescriptionStyleModel",
            "_view_count": null,
            "_view_module": "@jupyter-widgets/base",
            "_view_module_version": "1.2.0",
            "_view_name": "StyleView",
            "description_width": ""
          }
        },
        "c294eb49b3db496ead60d60f1933bbe6": {
          "model_module": "@jupyter-widgets/controls",
          "model_name": "HBoxModel",
          "model_module_version": "1.5.0",
          "state": {
            "_dom_classes": [],
            "_model_module": "@jupyter-widgets/controls",
            "_model_module_version": "1.5.0",
            "_model_name": "HBoxModel",
            "_view_count": null,
            "_view_module": "@jupyter-widgets/controls",
            "_view_module_version": "1.5.0",
            "_view_name": "HBoxView",
            "box_style": "",
            "children": [
              "IPY_MODEL_a590cf8ac9124c3ab2393dd45676b615",
              "IPY_MODEL_f2ef9c4318bf4349aea79da08ca72c93",
              "IPY_MODEL_829bd2a0006141bbbb4d86ded460054e"
            ],
            "layout": "IPY_MODEL_f981aa0e6f8546cca9664b0b371f8a11"
          }
        },
        "a590cf8ac9124c3ab2393dd45676b615": {
          "model_module": "@jupyter-widgets/controls",
          "model_name": "HTMLModel",
          "model_module_version": "1.5.0",
          "state": {
            "_dom_classes": [],
            "_model_module": "@jupyter-widgets/controls",
            "_model_module_version": "1.5.0",
            "_model_name": "HTMLModel",
            "_view_count": null,
            "_view_module": "@jupyter-widgets/controls",
            "_view_module_version": "1.5.0",
            "_view_name": "HTMLView",
            "description": "",
            "description_tooltip": null,
            "layout": "IPY_MODEL_cd62f95a1c4849d59f152d9ef49bd099",
            "placeholder": "​",
            "style": "IPY_MODEL_949bb59b44ce4dd1bed63cf3a3861d95",
            "value": "Downloading: 100%"
          }
        },
        "f2ef9c4318bf4349aea79da08ca72c93": {
          "model_module": "@jupyter-widgets/controls",
          "model_name": "FloatProgressModel",
          "model_module_version": "1.5.0",
          "state": {
            "_dom_classes": [],
            "_model_module": "@jupyter-widgets/controls",
            "_model_module_version": "1.5.0",
            "_model_name": "FloatProgressModel",
            "_view_count": null,
            "_view_module": "@jupyter-widgets/controls",
            "_view_module_version": "1.5.0",
            "_view_name": "ProgressView",
            "bar_style": "success",
            "description": "",
            "description_tooltip": null,
            "layout": "IPY_MODEL_4ea5d969b4d54faba2a6826598a183dd",
            "max": 1716,
            "min": 0,
            "orientation": "horizontal",
            "style": "IPY_MODEL_46bff17ff66a4bb88691e02a3d3acf34",
            "value": 1716
          }
        },
        "829bd2a0006141bbbb4d86ded460054e": {
          "model_module": "@jupyter-widgets/controls",
          "model_name": "HTMLModel",
          "model_module_version": "1.5.0",
          "state": {
            "_dom_classes": [],
            "_model_module": "@jupyter-widgets/controls",
            "_model_module_version": "1.5.0",
            "_model_name": "HTMLModel",
            "_view_count": null,
            "_view_module": "@jupyter-widgets/controls",
            "_view_module_version": "1.5.0",
            "_view_name": "HTMLView",
            "description": "",
            "description_tooltip": null,
            "layout": "IPY_MODEL_fa7689ad3af74733ad4a82a03ef892c6",
            "placeholder": "​",
            "style": "IPY_MODEL_4965b57425934ea09b0c2d0d227eba48",
            "value": " 1.72k/1.72k [00:00&lt;00:00, 49.8kB/s]"
          }
        },
        "f981aa0e6f8546cca9664b0b371f8a11": {
          "model_module": "@jupyter-widgets/base",
          "model_name": "LayoutModel",
          "model_module_version": "1.2.0",
          "state": {
            "_model_module": "@jupyter-widgets/base",
            "_model_module_version": "1.2.0",
            "_model_name": "LayoutModel",
            "_view_count": null,
            "_view_module": "@jupyter-widgets/base",
            "_view_module_version": "1.2.0",
            "_view_name": "LayoutView",
            "align_content": null,
            "align_items": null,
            "align_self": null,
            "border": null,
            "bottom": null,
            "display": null,
            "flex": null,
            "flex_flow": null,
            "grid_area": null,
            "grid_auto_columns": null,
            "grid_auto_flow": null,
            "grid_auto_rows": null,
            "grid_column": null,
            "grid_gap": null,
            "grid_row": null,
            "grid_template_areas": null,
            "grid_template_columns": null,
            "grid_template_rows": null,
            "height": null,
            "justify_content": null,
            "justify_items": null,
            "left": null,
            "margin": null,
            "max_height": null,
            "max_width": null,
            "min_height": null,
            "min_width": null,
            "object_fit": null,
            "object_position": null,
            "order": null,
            "overflow": null,
            "overflow_x": null,
            "overflow_y": null,
            "padding": null,
            "right": null,
            "top": null,
            "visibility": null,
            "width": null
          }
        },
        "cd62f95a1c4849d59f152d9ef49bd099": {
          "model_module": "@jupyter-widgets/base",
          "model_name": "LayoutModel",
          "model_module_version": "1.2.0",
          "state": {
            "_model_module": "@jupyter-widgets/base",
            "_model_module_version": "1.2.0",
            "_model_name": "LayoutModel",
            "_view_count": null,
            "_view_module": "@jupyter-widgets/base",
            "_view_module_version": "1.2.0",
            "_view_name": "LayoutView",
            "align_content": null,
            "align_items": null,
            "align_self": null,
            "border": null,
            "bottom": null,
            "display": null,
            "flex": null,
            "flex_flow": null,
            "grid_area": null,
            "grid_auto_columns": null,
            "grid_auto_flow": null,
            "grid_auto_rows": null,
            "grid_column": null,
            "grid_gap": null,
            "grid_row": null,
            "grid_template_areas": null,
            "grid_template_columns": null,
            "grid_template_rows": null,
            "height": null,
            "justify_content": null,
            "justify_items": null,
            "left": null,
            "margin": null,
            "max_height": null,
            "max_width": null,
            "min_height": null,
            "min_width": null,
            "object_fit": null,
            "object_position": null,
            "order": null,
            "overflow": null,
            "overflow_x": null,
            "overflow_y": null,
            "padding": null,
            "right": null,
            "top": null,
            "visibility": null,
            "width": null
          }
        },
        "949bb59b44ce4dd1bed63cf3a3861d95": {
          "model_module": "@jupyter-widgets/controls",
          "model_name": "DescriptionStyleModel",
          "model_module_version": "1.5.0",
          "state": {
            "_model_module": "@jupyter-widgets/controls",
            "_model_module_version": "1.5.0",
            "_model_name": "DescriptionStyleModel",
            "_view_count": null,
            "_view_module": "@jupyter-widgets/base",
            "_view_module_version": "1.2.0",
            "_view_name": "StyleView",
            "description_width": ""
          }
        },
        "4ea5d969b4d54faba2a6826598a183dd": {
          "model_module": "@jupyter-widgets/base",
          "model_name": "LayoutModel",
          "model_module_version": "1.2.0",
          "state": {
            "_model_module": "@jupyter-widgets/base",
            "_model_module_version": "1.2.0",
            "_model_name": "LayoutModel",
            "_view_count": null,
            "_view_module": "@jupyter-widgets/base",
            "_view_module_version": "1.2.0",
            "_view_name": "LayoutView",
            "align_content": null,
            "align_items": null,
            "align_self": null,
            "border": null,
            "bottom": null,
            "display": null,
            "flex": null,
            "flex_flow": null,
            "grid_area": null,
            "grid_auto_columns": null,
            "grid_auto_flow": null,
            "grid_auto_rows": null,
            "grid_column": null,
            "grid_gap": null,
            "grid_row": null,
            "grid_template_areas": null,
            "grid_template_columns": null,
            "grid_template_rows": null,
            "height": null,
            "justify_content": null,
            "justify_items": null,
            "left": null,
            "margin": null,
            "max_height": null,
            "max_width": null,
            "min_height": null,
            "min_width": null,
            "object_fit": null,
            "object_position": null,
            "order": null,
            "overflow": null,
            "overflow_x": null,
            "overflow_y": null,
            "padding": null,
            "right": null,
            "top": null,
            "visibility": null,
            "width": null
          }
        },
        "46bff17ff66a4bb88691e02a3d3acf34": {
          "model_module": "@jupyter-widgets/controls",
          "model_name": "ProgressStyleModel",
          "model_module_version": "1.5.0",
          "state": {
            "_model_module": "@jupyter-widgets/controls",
            "_model_module_version": "1.5.0",
            "_model_name": "ProgressStyleModel",
            "_view_count": null,
            "_view_module": "@jupyter-widgets/base",
            "_view_module_version": "1.2.0",
            "_view_name": "StyleView",
            "bar_color": null,
            "description_width": ""
          }
        },
        "fa7689ad3af74733ad4a82a03ef892c6": {
          "model_module": "@jupyter-widgets/base",
          "model_name": "LayoutModel",
          "model_module_version": "1.2.0",
          "state": {
            "_model_module": "@jupyter-widgets/base",
            "_model_module_version": "1.2.0",
            "_model_name": "LayoutModel",
            "_view_count": null,
            "_view_module": "@jupyter-widgets/base",
            "_view_module_version": "1.2.0",
            "_view_name": "LayoutView",
            "align_content": null,
            "align_items": null,
            "align_self": null,
            "border": null,
            "bottom": null,
            "display": null,
            "flex": null,
            "flex_flow": null,
            "grid_area": null,
            "grid_auto_columns": null,
            "grid_auto_flow": null,
            "grid_auto_rows": null,
            "grid_column": null,
            "grid_gap": null,
            "grid_row": null,
            "grid_template_areas": null,
            "grid_template_columns": null,
            "grid_template_rows": null,
            "height": null,
            "justify_content": null,
            "justify_items": null,
            "left": null,
            "margin": null,
            "max_height": null,
            "max_width": null,
            "min_height": null,
            "min_width": null,
            "object_fit": null,
            "object_position": null,
            "order": null,
            "overflow": null,
            "overflow_x": null,
            "overflow_y": null,
            "padding": null,
            "right": null,
            "top": null,
            "visibility": null,
            "width": null
          }
        },
        "4965b57425934ea09b0c2d0d227eba48": {
          "model_module": "@jupyter-widgets/controls",
          "model_name": "DescriptionStyleModel",
          "model_module_version": "1.5.0",
          "state": {
            "_model_module": "@jupyter-widgets/controls",
            "_model_module_version": "1.5.0",
            "_model_name": "DescriptionStyleModel",
            "_view_count": null,
            "_view_module": "@jupyter-widgets/base",
            "_view_module_version": "1.2.0",
            "_view_name": "StyleView",
            "description_width": ""
          }
        }
      }
    }
  },
  "cells": [
    {
      "cell_type": "code",
      "execution_count": null,
      "metadata": {
        "colab": {
          "base_uri": "https://localhost:8080/"
        },
        "id": "48g8idKO-JLG",
        "outputId": "9c91e56d-7909-42fa-fc8b-1a1ca0706f1c"
      },
      "outputs": [
        {
          "output_type": "stream",
          "name": "stdout",
          "text": [
            "Wed Nov 16 22:30:16 2022       \n",
            "+-----------------------------------------------------------------------------+\n",
            "| NVIDIA-SMI 460.32.03    Driver Version: 460.32.03    CUDA Version: 11.2     |\n",
            "|-------------------------------+----------------------+----------------------+\n",
            "| GPU  Name        Persistence-M| Bus-Id        Disp.A | Volatile Uncorr. ECC |\n",
            "| Fan  Temp  Perf  Pwr:Usage/Cap|         Memory-Usage | GPU-Util  Compute M. |\n",
            "|                               |                      |               MIG M. |\n",
            "|===============================+======================+======================|\n",
            "|   0  Tesla T4            Off  | 00000000:00:04.0 Off |                    0 |\n",
            "| N/A   51C    P8    10W /  70W |      0MiB / 15109MiB |      0%      Default |\n",
            "|                               |                      |                  N/A |\n",
            "+-------------------------------+----------------------+----------------------+\n",
            "                                                                               \n",
            "+-----------------------------------------------------------------------------+\n",
            "| Processes:                                                                  |\n",
            "|  GPU   GI   CI        PID   Type   Process name                  GPU Memory |\n",
            "|        ID   ID                                                   Usage      |\n",
            "|=============================================================================|\n",
            "|  No running processes found                                                 |\n",
            "+-----------------------------------------------------------------------------+\n",
            "Mounted at /content/gdrive\n",
            "/content/gdrive/MyDrive/PyTrial_dev_group/tutorials\n",
            "/content/gdrive/MyDrive/PyTrial_dev_group/tutorials/trial_simulation/sequence\n",
            "trial_simulation.sequence.eva.ipynb\n",
            "trial_simulation.sequence.promptehr.ipynb\n",
            "trial_simulation.sequence.rnn_gan.ipynb\n",
            "trial_simulation.sequence.synteg.ipynb\n"
          ]
        }
      ],
      "source": [
        "# Environment configuration\n",
        "!nvidia-smi\n",
        "from google.colab import drive\n",
        "drive.mount('/content/gdrive')\n",
        "%cd /content/gdrive/MyDrive/PyTrial_dev_group/tutorials\n",
        "%cd ./trial_simulation/sequence\n",
        "%ls"
      ]
    },
    {
      "cell_type": "markdown",
      "source": [
        "### Configure python environment"
      ],
      "metadata": {
        "id": "k9CpSQKc-crq"
      }
    },
    {
      "cell_type": "code",
      "source": [
        "# move working dir\n",
        "import os\n",
        "os.chdir('../..')\n",
        "\n",
        "# configure the environment for PyTrial\n",
        "!python --version\n",
        "!pip install --upgrade pip\n",
        "!pip install -r pytrial/requirements.txt"
      ],
      "metadata": {
        "colab": {
          "base_uri": "https://localhost:8080/"
        },
        "id": "tb98_2iJ-b78",
        "outputId": "fc3fd126-e579-45bc-f584-30f8fe7b1a48"
      },
      "execution_count": null,
      "outputs": [
        {
          "output_type": "stream",
          "name": "stdout",
          "text": [
            "Python 3.7.15\n",
            "Looking in indexes: https://pypi.org/simple, https://us-python.pkg.dev/colab-wheels/public/simple/\n",
            "Requirement already satisfied: pip in /usr/local/lib/python3.7/dist-packages (21.1.3)\n",
            "Collecting pip\n",
            "  Downloading pip-22.3.1-py3-none-any.whl (2.1 MB)\n",
            "\u001b[K     |████████████████████████████████| 2.1 MB 5.0 MB/s \n",
            "\u001b[?25hInstalling collected packages: pip\n",
            "  Attempting uninstall: pip\n",
            "    Found existing installation: pip 21.1.3\n",
            "    Uninstalling pip-21.1.3:\n",
            "      Successfully uninstalled pip-21.1.3\n",
            "Successfully installed pip-22.3.1\n",
            "Looking in indexes: https://pypi.org/simple, https://us-python.pkg.dev/colab-wheels/public/simple/\n",
            "Collecting git+https://github.com/RyanWangZf/transtab.git@main (from -r pytrial/requirements.txt (line 24))\n",
            "  Cloning https://github.com/RyanWangZf/transtab.git (to revision main) to /tmp/pip-req-build-vn2fpzof\n",
            "  Running command git clone --filter=blob:none --quiet https://github.com/RyanWangZf/transtab.git /tmp/pip-req-build-vn2fpzof\n",
            "  Resolved https://github.com/RyanWangZf/transtab.git to commit 267bb47c007e45b4854ef3678a5ca73097a1e71b\n",
            "  Preparing metadata (setup.py) ... \u001b[?25l\u001b[?25hdone\n",
            "Collecting git+https://github.com/RyanWangZf/promptehr.git@main (from -r pytrial/requirements.txt (line 25))\n",
            "  Cloning https://github.com/RyanWangZf/promptehr.git (to revision main) to /tmp/pip-req-build-clejn45s\n",
            "  Running command git clone --filter=blob:none --quiet https://github.com/RyanWangZf/promptehr.git /tmp/pip-req-build-clejn45s\n",
            "  Resolved https://github.com/RyanWangZf/promptehr.git to commit 2f62d60ff3ef00f6a011d5982b76a52ce5a35138\n",
            "  Preparing metadata (setup.py) ... \u001b[?25l\u001b[?25hdone\n",
            "Collecting git+https://github.com/RyanWangZf/trial2vec.git@main (from -r pytrial/requirements.txt (line 26))\n",
            "  Cloning https://github.com/RyanWangZf/trial2vec.git (to revision main) to /tmp/pip-req-build-vwljlbz0\n",
            "  Running command git clone --filter=blob:none --quiet https://github.com/RyanWangZf/trial2vec.git /tmp/pip-req-build-vwljlbz0\n",
            "  Resolved https://github.com/RyanWangZf/trial2vec.git to commit aa0e2daa4d4c7a33ad4fd476e87fd187de8cffd6\n",
            "  Preparing metadata (setup.py) ... \u001b[?25l\u001b[?25hdone\n",
            "Collecting copulas==0.7.0\n",
            "  Downloading copulas-0.7.0-py2.py3-none-any.whl (53 kB)\n",
            "\u001b[2K     \u001b[90m━━━━━━━━━━━━━━━━━━━━━━━━━━━━━━━━━━━━━━━━\u001b[0m \u001b[32m53.2/53.2 kB\u001b[0m \u001b[31m2.9 MB/s\u001b[0m eta \u001b[36m0:00:00\u001b[0m\n",
            "\u001b[?25hCollecting ctgan==0.5.2\n",
            "  Downloading ctgan-0.5.2-py2.py3-none-any.whl (24 kB)\n",
            "Collecting datasets==2.3.2\n",
            "  Downloading datasets-2.3.2-py3-none-any.whl (362 kB)\n",
            "\u001b[2K     \u001b[90m━━━━━━━━━━━━━━━━━━━━━━━━━━━━━━━━━━━━━━\u001b[0m \u001b[32m362.3/362.3 kB\u001b[0m \u001b[31m12.4 MB/s\u001b[0m eta \u001b[36m0:00:00\u001b[0m\n",
            "\u001b[?25hCollecting dill==0.3.5.1\n",
            "  Downloading dill-0.3.5.1-py2.py3-none-any.whl (95 kB)\n",
            "\u001b[2K     \u001b[90m━━━━━━━━━━━━━━━━━━━━━━━━━━━━━━━━━━━━━━━━\u001b[0m \u001b[32m95.8/95.8 kB\u001b[0m \u001b[31m13.3 MB/s\u001b[0m eta \u001b[36m0:00:00\u001b[0m\n",
            "\u001b[?25hCollecting gensim==4.2.0\n",
            "  Downloading gensim-4.2.0-cp37-cp37m-manylinux_2_12_x86_64.manylinux2010_x86_64.whl (24.1 MB)\n",
            "\u001b[2K     \u001b[90m━━━━━━━━━━━━━━━━━━━━━━━━━━━━━━━━━━━━━━━━\u001b[0m \u001b[32m24.1/24.1 MB\u001b[0m \u001b[31m53.2 MB/s\u001b[0m eta \u001b[36m0:00:00\u001b[0m\n",
            "\u001b[?25hCollecting joblib==1.1.0\n",
            "  Downloading joblib-1.1.0-py2.py3-none-any.whl (306 kB)\n",
            "\u001b[2K     \u001b[90m━━━━━━━━━━━━━━━━━━━━━━━━━━━━━━━━━━━━━━\u001b[0m \u001b[32m307.0/307.0 kB\u001b[0m \u001b[31m30.9 MB/s\u001b[0m eta \u001b[36m0:00:00\u001b[0m\n",
            "\u001b[?25hCollecting matplotlib>=3.5.3\n",
            "  Downloading matplotlib-3.5.3-cp37-cp37m-manylinux_2_5_x86_64.manylinux1_x86_64.whl (11.2 MB)\n",
            "\u001b[2K     \u001b[90m━━━━━━━━━━━━━━━━━━━━━━━━━━━━━━━━━━━━━━━━\u001b[0m \u001b[32m11.2/11.2 MB\u001b[0m \u001b[31m88.6 MB/s\u001b[0m eta \u001b[36m0:00:00\u001b[0m\n",
            "\u001b[?25hRequirement already satisfied: networkx>=2.6.3 in /usr/local/lib/python3.7/dist-packages (from -r pytrial/requirements.txt (line 9)) (2.6.3)\n",
            "Requirement already satisfied: nltk==3.7 in /usr/local/lib/python3.7/dist-packages (from -r pytrial/requirements.txt (line 10)) (3.7)\n",
            "Requirement already satisfied: numpy>=1.21.6 in /usr/local/lib/python3.7/dist-packages (from -r pytrial/requirements.txt (line 11)) (1.21.6)\n",
            "Requirement already satisfied: pandas>=1.3.5 in /usr/local/lib/python3.7/dist-packages (from -r pytrial/requirements.txt (line 12)) (1.3.5)\n",
            "Collecting rdkit==2022.9.1\n",
            "  Downloading rdkit-2022.9.1-cp37-cp37m-manylinux_2_17_x86_64.manylinux2014_x86_64.whl (29.5 MB)\n",
            "\u001b[2K     \u001b[90m━━━━━━━━━━━━━━━━━━━━━━━━━━━━━━━━━━━━━━━━\u001b[0m \u001b[32m29.5/29.5 MB\u001b[0m \u001b[31m15.5 MB/s\u001b[0m eta \u001b[36m0:00:00\u001b[0m\n",
            "\u001b[?25hCollecting rdt==1.2.1\n",
            "  Downloading rdt-1.2.1-py2.py3-none-any.whl (61 kB)\n",
            "\u001b[2K     \u001b[90m━━━━━━━━━━━━━━━━━━━━━━━━━━━━━━━━━━━━━━━━\u001b[0m \u001b[32m61.8/61.8 kB\u001b[0m \u001b[31m8.0 MB/s\u001b[0m eta \u001b[36m0:00:00\u001b[0m\n",
            "\u001b[?25hCollecting requests==2.28.1\n",
            "  Downloading requests-2.28.1-py3-none-any.whl (62 kB)\n",
            "\u001b[2K     \u001b[90m━━━━━━━━━━━━━━━━━━━━━━━━━━━━━━━━━━━━━━━━\u001b[0m \u001b[32m62.8/62.8 kB\u001b[0m \u001b[31m9.1 MB/s\u001b[0m eta \u001b[36m0:00:00\u001b[0m\n",
            "\u001b[?25hRequirement already satisfied: scikit_learn>=1.0.2 in /usr/local/lib/python3.7/dist-packages (from -r pytrial/requirements.txt (line 16)) (1.0.2)\n",
            "Collecting sdmetrics==0.6.0\n",
            "  Downloading sdmetrics-0.6.0-py2.py3-none-any.whl (113 kB)\n",
            "\u001b[2K     \u001b[90m━━━━━━━━━━━━━━━━━━━━━━━━━━━━━━━━━━━━━━\u001b[0m \u001b[32m113.0/113.0 kB\u001b[0m \u001b[31m15.6 MB/s\u001b[0m eta \u001b[36m0:00:00\u001b[0m\n",
            "\u001b[?25hCollecting seaborn==0.12.1\n",
            "  Downloading seaborn-0.12.1-py3-none-any.whl (288 kB)\n",
            "\u001b[2K     \u001b[90m━━━━━━━━━━━━━━━━━━━━━━━━━━━━━━━━━━━━━━\u001b[0m \u001b[32m288.2/288.2 kB\u001b[0m \u001b[31m30.8 MB/s\u001b[0m eta \u001b[36m0:00:00\u001b[0m\n",
            "\u001b[?25hCollecting textaugment==1.3.4\n",
            "  Downloading textaugment-1.3.4-py3-none-any.whl (16 kB)\n",
            "Collecting tqdm==4.64.0\n",
            "  Downloading tqdm-4.64.0-py2.py3-none-any.whl (78 kB)\n",
            "\u001b[2K     \u001b[90m━━━━━━━━━━━━━━━━━━━━━━━━━━━━━━━━━━━━━━━━\u001b[0m \u001b[32m78.4/78.4 kB\u001b[0m \u001b[31m11.3 MB/s\u001b[0m eta \u001b[36m0:00:00\u001b[0m\n",
            "\u001b[?25hCollecting transformers==4.24.0\n",
            "  Downloading transformers-4.24.0-py3-none-any.whl (5.5 MB)\n",
            "\u001b[2K     \u001b[90m━━━━━━━━━━━━━━━━━━━━━━━━━━━━━━━━━━━━━━━━\u001b[0m \u001b[32m5.5/5.5 MB\u001b[0m \u001b[31m92.7 MB/s\u001b[0m eta \u001b[36m0:00:00\u001b[0m\n",
            "\u001b[?25hCollecting wget==3.2\n",
            "  Downloading wget-3.2.zip (10 kB)\n",
            "  Preparing metadata (setup.py) ... \u001b[?25l\u001b[?25hdone\n",
            "Collecting icd10-cm\n",
            "  Downloading icd10_cm-0.0.5-py2.py3-none-any.whl (738 kB)\n",
            "\u001b[2K     \u001b[90m━━━━━━━━━━━━━━━━━━━━━━━━━━━━━━━━━━━━━━\u001b[0m \u001b[32m738.4/738.4 kB\u001b[0m \u001b[31m48.9 MB/s\u001b[0m eta \u001b[36m0:00:00\u001b[0m\n",
            "\u001b[?25hRequirement already satisfied: scipy<2,>=1.5.4 in /usr/local/lib/python3.7/dist-packages (from copulas==0.7.0->-r pytrial/requirements.txt (line 2)) (1.7.3)\n",
            "Requirement already satisfied: torchvision<1,>=0.9.0 in /usr/local/lib/python3.7/dist-packages (from ctgan==0.5.2->-r pytrial/requirements.txt (line 3)) (0.13.1+cu113)\n",
            "Requirement already satisfied: torch<2,>=1.8.0 in /usr/local/lib/python3.7/dist-packages (from ctgan==0.5.2->-r pytrial/requirements.txt (line 3)) (1.12.1+cu113)\n",
            "Requirement already satisfied: packaging<22,>=20 in /usr/local/lib/python3.7/dist-packages (from ctgan==0.5.2->-r pytrial/requirements.txt (line 3)) (21.3)\n",
            "Requirement already satisfied: pyarrow>=6.0.0 in /usr/local/lib/python3.7/dist-packages (from datasets==2.3.2->-r pytrial/requirements.txt (line 4)) (6.0.1)\n",
            "Requirement already satisfied: aiohttp in /usr/local/lib/python3.7/dist-packages (from datasets==2.3.2->-r pytrial/requirements.txt (line 4)) (3.8.3)\n",
            "Collecting xxhash\n",
            "  Downloading xxhash-3.1.0-cp37-cp37m-manylinux_2_17_x86_64.manylinux2014_x86_64.whl (212 kB)\n",
            "\u001b[2K     \u001b[90m━━━━━━━━━━━━━━━━━━━━━━━━━━━━━━━━━━━━━━\u001b[0m \u001b[32m213.0/213.0 kB\u001b[0m \u001b[31m26.1 MB/s\u001b[0m eta \u001b[36m0:00:00\u001b[0m\n",
            "\u001b[?25hRequirement already satisfied: importlib-metadata in /usr/local/lib/python3.7/dist-packages (from datasets==2.3.2->-r pytrial/requirements.txt (line 4)) (4.13.0)\n",
            "Collecting multiprocess\n",
            "  Downloading multiprocess-0.70.14-py37-none-any.whl (115 kB)\n",
            "\u001b[2K     \u001b[90m━━━━━━━━━━━━━━━━━━━━━━━━━━━━━━━━━━━━━━\u001b[0m \u001b[32m115.7/115.7 kB\u001b[0m \u001b[31m15.7 MB/s\u001b[0m eta \u001b[36m0:00:00\u001b[0m\n",
            "\u001b[?25hCollecting huggingface-hub<1.0.0,>=0.1.0\n",
            "  Downloading huggingface_hub-0.11.0-py3-none-any.whl (182 kB)\n",
            "\u001b[2K     \u001b[90m━━━━━━━━━━━━━━━━━━━━━━━━━━━━━━━━━━━━━━\u001b[0m \u001b[32m182.1/182.1 kB\u001b[0m \u001b[31m24.8 MB/s\u001b[0m eta \u001b[36m0:00:00\u001b[0m\n",
            "\u001b[?25hCollecting responses<0.19\n",
            "  Downloading responses-0.18.0-py3-none-any.whl (38 kB)\n",
            "Requirement already satisfied: fsspec[http]>=2021.05.0 in /usr/local/lib/python3.7/dist-packages (from datasets==2.3.2->-r pytrial/requirements.txt (line 4)) (2022.10.0)\n",
            "Requirement already satisfied: smart-open>=1.8.1 in /usr/local/lib/python3.7/dist-packages (from gensim==4.2.0->-r pytrial/requirements.txt (line 6)) (5.2.1)\n",
            "Requirement already satisfied: regex>=2021.8.3 in /usr/local/lib/python3.7/dist-packages (from nltk==3.7->-r pytrial/requirements.txt (line 10)) (2022.6.2)\n",
            "Requirement already satisfied: click in /usr/local/lib/python3.7/dist-packages (from nltk==3.7->-r pytrial/requirements.txt (line 10)) (7.1.2)\n",
            "Requirement already satisfied: Pillow in /usr/local/lib/python3.7/dist-packages (from rdkit==2022.9.1->-r pytrial/requirements.txt (line 13)) (7.1.2)\n",
            "Collecting Faker>=10\n",
            "  Downloading Faker-15.3.2-py3-none-any.whl (1.6 MB)\n",
            "\u001b[2K     \u001b[90m━━━━━━━━━━━━━━━━━━━━━━━━━━━━━━━━━━━━━━━━\u001b[0m \u001b[32m1.6/1.6 MB\u001b[0m \u001b[31m76.0 MB/s\u001b[0m eta \u001b[36m0:00:00\u001b[0m\n",
            "\u001b[?25hCollecting psutil<6,>=5.7\n",
            "  Downloading psutil-5.9.4-cp36-abi3-manylinux_2_12_x86_64.manylinux2010_x86_64.manylinux_2_17_x86_64.manylinux2014_x86_64.whl (280 kB)\n",
            "\u001b[2K     \u001b[90m━━━━━━━━━━━━━━━━━━━━━━━━━━━━━━━━━━━━━━\u001b[0m \u001b[32m280.2/280.2 kB\u001b[0m \u001b[31m27.6 MB/s\u001b[0m eta \u001b[36m0:00:00\u001b[0m\n",
            "\u001b[?25hCollecting pyyaml<6,>=5.4.1\n",
            "  Downloading PyYAML-5.4.1-cp37-cp37m-manylinux1_x86_64.whl (636 kB)\n",
            "\u001b[2K     \u001b[90m━━━━━━━━━━━━━━━━━━━━━━━━━━━━━━━━━━━━━━\u001b[0m \u001b[32m636.6/636.6 kB\u001b[0m \u001b[31m44.8 MB/s\u001b[0m eta \u001b[36m0:00:00\u001b[0m\n",
            "\u001b[?25hRequirement already satisfied: certifi>=2017.4.17 in /usr/local/lib/python3.7/dist-packages (from requests==2.28.1->-r pytrial/requirements.txt (line 15)) (2022.9.24)\n",
            "Requirement already satisfied: urllib3<1.27,>=1.21.1 in /usr/local/lib/python3.7/dist-packages (from requests==2.28.1->-r pytrial/requirements.txt (line 15)) (1.24.3)\n",
            "Requirement already satisfied: charset-normalizer<3,>=2 in /usr/local/lib/python3.7/dist-packages (from requests==2.28.1->-r pytrial/requirements.txt (line 15)) (2.1.1)\n",
            "Requirement already satisfied: idna<4,>=2.5 in /usr/local/lib/python3.7/dist-packages (from requests==2.28.1->-r pytrial/requirements.txt (line 15)) (2.10)\n",
            "Requirement already satisfied: typing_extensions in /usr/local/lib/python3.7/dist-packages (from seaborn==0.12.1->-r pytrial/requirements.txt (line 18)) (4.1.1)\n",
            "Requirement already satisfied: textblob in /usr/local/lib/python3.7/dist-packages (from textaugment==1.3.4->-r pytrial/requirements.txt (line 19)) (0.15.3)\n",
            "Collecting googletrans\n",
            "  Downloading googletrans-3.0.0.tar.gz (17 kB)\n",
            "  Preparing metadata (setup.py) ... \u001b[?25l\u001b[?25hdone\n",
            "Requirement already satisfied: filelock in /usr/local/lib/python3.7/dist-packages (from transformers==4.24.0->-r pytrial/requirements.txt (line 21)) (3.8.0)\n",
            "Collecting tokenizers!=0.11.3,<0.14,>=0.11.1\n",
            "  Downloading tokenizers-0.13.2-cp37-cp37m-manylinux_2_17_x86_64.manylinux2014_x86_64.whl (7.6 MB)\n",
            "\u001b[2K     \u001b[90m━━━━━━━━━━━━━━━━━━━━━━━━━━━━━━━━━━━━━━━━\u001b[0m \u001b[32m7.6/7.6 MB\u001b[0m \u001b[31m75.5 MB/s\u001b[0m eta \u001b[36m0:00:00\u001b[0m\n",
            "\u001b[?25hRequirement already satisfied: kiwisolver>=1.0.1 in /usr/local/lib/python3.7/dist-packages (from matplotlib>=3.5.3->-r pytrial/requirements.txt (line 8)) (1.4.4)\n",
            "Collecting fonttools>=4.22.0\n",
            "  Downloading fonttools-4.38.0-py3-none-any.whl (965 kB)\n",
            "\u001b[2K     \u001b[90m━━━━━━━━━━━━━━━━━━━━━━━━━━━━━━━━━━━━━━\u001b[0m \u001b[32m965.4/965.4 kB\u001b[0m \u001b[31m57.4 MB/s\u001b[0m eta \u001b[36m0:00:00\u001b[0m\n",
            "\u001b[?25hRequirement already satisfied: cycler>=0.10 in /usr/local/lib/python3.7/dist-packages (from matplotlib>=3.5.3->-r pytrial/requirements.txt (line 8)) (0.11.0)\n",
            "Requirement already satisfied: python-dateutil>=2.7 in /usr/local/lib/python3.7/dist-packages (from matplotlib>=3.5.3->-r pytrial/requirements.txt (line 8)) (2.8.2)\n",
            "Requirement already satisfied: pyparsing>=2.2.1 in /usr/local/lib/python3.7/dist-packages (from matplotlib>=3.5.3->-r pytrial/requirements.txt (line 8)) (3.0.9)\n",
            "Requirement already satisfied: pytz>=2017.3 in /usr/local/lib/python3.7/dist-packages (from pandas>=1.3.5->-r pytrial/requirements.txt (line 12)) (2022.6)\n",
            "Requirement already satisfied: threadpoolctl>=2.0.0 in /usr/local/lib/python3.7/dist-packages (from scikit_learn>=1.0.2->-r pytrial/requirements.txt (line 16)) (3.1.0)\n",
            "Collecting loguru\n",
            "  Downloading loguru-0.6.0-py3-none-any.whl (58 kB)\n",
            "\u001b[2K     \u001b[90m━━━━━━━━━━━━━━━━━━━━━━━━━━━━━━━━━━━━━━━━\u001b[0m \u001b[32m58.3/58.3 kB\u001b[0m \u001b[31m7.9 MB/s\u001b[0m eta \u001b[36m0:00:00\u001b[0m\n",
            "\u001b[?25hRequirement already satisfied: setuptools in /usr/local/lib/python3.7/dist-packages (from transtab==0.0.2->-r pytrial/requirements.txt (line 24)) (57.4.0)\n",
            "Collecting openml>=0.10.0\n",
            "  Downloading openml-0.12.2.tar.gz (119 kB)\n",
            "\u001b[2K     \u001b[90m━━━━━━━━━━━━━━━━━━━━━━━━━━━━━━━━━━━━━━\u001b[0m \u001b[32m119.9/119.9 kB\u001b[0m \u001b[31m15.7 MB/s\u001b[0m eta \u001b[36m0:00:00\u001b[0m\n",
            "\u001b[?25h  Preparing metadata (setup.py) ... \u001b[?25l\u001b[?25hdone\n",
            "Requirement already satisfied: openpyxl in /usr/local/lib/python3.7/dist-packages (from Trial2Vec==0.0.3->-r pytrial/requirements.txt (line 26)) (3.0.10)\n",
            "Requirement already satisfied: frozenlist>=1.1.1 in /usr/local/lib/python3.7/dist-packages (from aiohttp->datasets==2.3.2->-r pytrial/requirements.txt (line 4)) (1.3.3)\n",
            "Requirement already satisfied: yarl<2.0,>=1.0 in /usr/local/lib/python3.7/dist-packages (from aiohttp->datasets==2.3.2->-r pytrial/requirements.txt (line 4)) (1.8.1)\n",
            "Requirement already satisfied: asynctest==0.13.0 in /usr/local/lib/python3.7/dist-packages (from aiohttp->datasets==2.3.2->-r pytrial/requirements.txt (line 4)) (0.13.0)\n",
            "Requirement already satisfied: async-timeout<5.0,>=4.0.0a3 in /usr/local/lib/python3.7/dist-packages (from aiohttp->datasets==2.3.2->-r pytrial/requirements.txt (line 4)) (4.0.2)\n",
            "Requirement already satisfied: attrs>=17.3.0 in /usr/local/lib/python3.7/dist-packages (from aiohttp->datasets==2.3.2->-r pytrial/requirements.txt (line 4)) (22.1.0)\n",
            "Requirement already satisfied: multidict<7.0,>=4.5 in /usr/local/lib/python3.7/dist-packages (from aiohttp->datasets==2.3.2->-r pytrial/requirements.txt (line 4)) (6.0.2)\n",
            "Requirement already satisfied: aiosignal>=1.1.2 in /usr/local/lib/python3.7/dist-packages (from aiohttp->datasets==2.3.2->-r pytrial/requirements.txt (line 4)) (1.3.1)\n",
            "Collecting liac-arff>=2.4.0\n",
            "  Downloading liac-arff-2.5.0.tar.gz (13 kB)\n",
            "  Preparing metadata (setup.py) ... \u001b[?25l\u001b[?25hdone\n",
            "Collecting xmltodict\n",
            "  Downloading xmltodict-0.13.0-py2.py3-none-any.whl (10.0 kB)\n",
            "Collecting minio\n",
            "  Downloading minio-7.1.12-py3-none-any.whl (76 kB)\n",
            "\u001b[2K     \u001b[90m━━━━━━━━━━━━━━━━━━━━━━━━━━━━━━━━━━━━━━━━\u001b[0m \u001b[32m76.2/76.2 kB\u001b[0m \u001b[31m10.8 MB/s\u001b[0m eta \u001b[36m0:00:00\u001b[0m\n",
            "\u001b[?25hRequirement already satisfied: six>=1.5 in /usr/local/lib/python3.7/dist-packages (from python-dateutil>=2.7->matplotlib>=3.5.3->-r pytrial/requirements.txt (line 8)) (1.15.0)\n",
            "Collecting urllib3<1.27,>=1.21.1\n",
            "  Downloading urllib3-1.26.12-py2.py3-none-any.whl (140 kB)\n",
            "\u001b[2K     \u001b[90m━━━━━━━━━━━━━━━━━━━━━━━━━━━━━━━━━━━━━━\u001b[0m \u001b[32m140.4/140.4 kB\u001b[0m \u001b[31m19.4 MB/s\u001b[0m eta \u001b[36m0:00:00\u001b[0m\n",
            "\u001b[?25hCollecting httpx==0.13.3\n",
            "  Downloading httpx-0.13.3-py3-none-any.whl (55 kB)\n",
            "\u001b[2K     \u001b[90m━━━━━━━━━━━━━━━━━━━━━━━━━━━━━━━━━━━━━━━━\u001b[0m \u001b[32m55.1/55.1 kB\u001b[0m \u001b[31m7.7 MB/s\u001b[0m eta \u001b[36m0:00:00\u001b[0m\n",
            "\u001b[?25hCollecting httpcore==0.9.*\n",
            "  Downloading httpcore-0.9.1-py3-none-any.whl (42 kB)\n",
            "\u001b[2K     \u001b[90m━━━━━━━━━━━━━━━━━━━━━━━━━━━━━━━━━━━━━━━━\u001b[0m \u001b[32m42.6/42.6 kB\u001b[0m \u001b[31m5.4 MB/s\u001b[0m eta \u001b[36m0:00:00\u001b[0m\n",
            "\u001b[?25hCollecting hstspreload\n",
            "  Downloading hstspreload-2022.11.1-py3-none-any.whl (1.4 MB)\n",
            "\u001b[2K     \u001b[90m━━━━━━━━━━━━━━━━━━━━━━━━━━━━━━━━━━━━━━━━\u001b[0m \u001b[32m1.4/1.4 MB\u001b[0m \u001b[31m64.8 MB/s\u001b[0m eta \u001b[36m0:00:00\u001b[0m\n",
            "\u001b[?25hCollecting rfc3986<2,>=1.3\n",
            "  Downloading rfc3986-1.5.0-py2.py3-none-any.whl (31 kB)\n",
            "Collecting sniffio\n",
            "  Downloading sniffio-1.3.0-py3-none-any.whl (10 kB)\n",
            "Requirement already satisfied: chardet==3.* in /usr/local/lib/python3.7/dist-packages (from httpx==0.13.3->googletrans->textaugment==1.3.4->-r pytrial/requirements.txt (line 19)) (3.0.4)\n",
            "Collecting h11<0.10,>=0.8\n",
            "  Downloading h11-0.9.0-py2.py3-none-any.whl (53 kB)\n",
            "\u001b[2K     \u001b[90m━━━━━━━━━━━━━━━━━━━━━━━━━━━━━━━━━━━━━━━━\u001b[0m \u001b[32m53.6/53.6 kB\u001b[0m \u001b[31m8.1 MB/s\u001b[0m eta \u001b[36m0:00:00\u001b[0m\n",
            "\u001b[?25hCollecting h2==3.*\n",
            "  Downloading h2-3.2.0-py2.py3-none-any.whl (65 kB)\n",
            "\u001b[2K     \u001b[90m━━━━━━━━━━━━━━━━━━━━━━━━━━━━━━━━━━━━━━━━\u001b[0m \u001b[32m65.0/65.0 kB\u001b[0m \u001b[31m9.8 MB/s\u001b[0m eta \u001b[36m0:00:00\u001b[0m\n",
            "\u001b[?25hCollecting hyperframe<6,>=5.2.0\n",
            "  Downloading hyperframe-5.2.0-py2.py3-none-any.whl (12 kB)\n",
            "Collecting hpack<4,>=3.0\n",
            "  Downloading hpack-3.0.0-py2.py3-none-any.whl (38 kB)\n",
            "Requirement already satisfied: zipp>=0.5 in /usr/local/lib/python3.7/dist-packages (from importlib-metadata->datasets==2.3.2->-r pytrial/requirements.txt (line 4)) (3.10.0)\n",
            "Collecting multiprocess\n",
            "  Downloading multiprocess-0.70.13-py37-none-any.whl (115 kB)\n",
            "\u001b[2K     \u001b[90m━━━━━━━━━━━━━━━━━━━━━━━━━━━━━━━━━━━━━━\u001b[0m \u001b[32m115.1/115.1 kB\u001b[0m \u001b[31m16.1 MB/s\u001b[0m eta \u001b[36m0:00:00\u001b[0m\n",
            "\u001b[?25hRequirement already satisfied: et-xmlfile in /usr/local/lib/python3.7/dist-packages (from openpyxl->Trial2Vec==0.0.3->-r pytrial/requirements.txt (line 26)) (1.1.0)\n",
            "Building wheels for collected packages: wget, transtab, PromptEHR, Trial2Vec, openml, googletrans, liac-arff\n",
            "  Building wheel for wget (setup.py) ... \u001b[?25l\u001b[?25hdone\n",
            "  Created wheel for wget: filename=wget-3.2-py3-none-any.whl size=9675 sha256=37d0ccd8c5f41919a39fef43076afb7b844f816150f978e39355e79c4ba333d0\n",
            "  Stored in directory: /root/.cache/pip/wheels/e1/e8/db/ebe4dcd7d7d11208c1e4e4ef246cea4fcc8d463c93405a6555\n",
            "  Building wheel for transtab (setup.py) ... \u001b[?25l\u001b[?25hdone\n",
            "  Created wheel for transtab: filename=transtab-0.0.2-py3-none-any.whl size=28618 sha256=de5a949844979f9d520332e71c9110a5ea3db0903b4c5a5c18547e5655181127\n",
            "  Stored in directory: /tmp/pip-ephem-wheel-cache-l5gul0qy/wheels/67/03/83/4d9e2f09f1e3b183dd7b9dd0c2c0e489919fa95ab1f2986fe8\n",
            "  Building wheel for PromptEHR (setup.py) ... \u001b[?25l\u001b[?25hdone\n",
            "  Created wheel for PromptEHR: filename=PromptEHR-0.0.3-py3-none-any.whl size=50822 sha256=c94223845be74aa4faf8e3b85db9e2c5b484c55b025f9e931c291f2ea4072a11\n",
            "  Stored in directory: /tmp/pip-ephem-wheel-cache-l5gul0qy/wheels/c1/89/0a/96d1d873e447af277e528189a17c94e0d86d19042d85a3a457\n",
            "  Building wheel for Trial2Vec (setup.py) ... \u001b[?25l\u001b[?25hdone\n",
            "  Created wheel for Trial2Vec: filename=Trial2Vec-0.0.3-py3-none-any.whl size=27103 sha256=482f10334d174c21ae03144ce292b64816be97c8733840e0d1f6eaf9055cba58\n",
            "  Stored in directory: /tmp/pip-ephem-wheel-cache-l5gul0qy/wheels/b6/9e/c6/d0e22e56950c669274d2e0706a2c7211dc45bbc3dabb37a994\n",
            "  Building wheel for openml (setup.py) ... \u001b[?25l\u001b[?25hdone\n",
            "  Created wheel for openml: filename=openml-0.12.2-py3-none-any.whl size=137412 sha256=2ab1220e0948a04fcf21ead18a24645d937d1c01e68f5ca98777e163110a182c\n",
            "  Stored in directory: /root/.cache/pip/wheels/69/4a/cf/4e4a38855a153177aa21cfbcd5c380b9c790d0fabda1490c3c\n",
            "  Building wheel for googletrans (setup.py) ... \u001b[?25l\u001b[?25hdone\n",
            "  Created wheel for googletrans: filename=googletrans-3.0.0-py3-none-any.whl size=15736 sha256=7c47b8be6f9114f4a824079c630fd7a4203d8e3b969b72cbcd8a1035a47f60b9\n",
            "  Stored in directory: /root/.cache/pip/wheels/cd/15/16/9d24ab82fc6498f8150e1b478c1891e7139afc854f00b8af5d\n",
            "  Building wheel for liac-arff (setup.py) ... \u001b[?25l\u001b[?25hdone\n",
            "  Created wheel for liac-arff: filename=liac_arff-2.5.0-py3-none-any.whl size=11730 sha256=ea4b087d47749ccd94c9c1d36c343b1f333168153f5a6cd1077067a16f9114ba\n",
            "  Stored in directory: /root/.cache/pip/wheels/9e/4d/99/7a623bbbe5345b0862a3fc7638577a7d87011de6ab1c6e5ff0\n",
            "Successfully built wget transtab PromptEHR Trial2Vec openml googletrans liac-arff\n",
            "Installing collected packages: wget, tokenizers, rfc3986, hyperframe, hpack, h11, xxhash, xmltodict, urllib3, tqdm, sniffio, rdkit, pyyaml, psutil, loguru, liac-arff, joblib, icd10-cm, hstspreload, h2, fonttools, dill, requests, multiprocess, minio, matplotlib, httpcore, gensim, Faker, seaborn, responses, rdt, openml, huggingface-hub, httpx, copulas, transformers, sdmetrics, googletrans, datasets, ctgan, transtab, textaugment, PromptEHR, Trial2Vec\n",
            "  Attempting uninstall: urllib3\n",
            "    Found existing installation: urllib3 1.24.3\n",
            "    Uninstalling urllib3-1.24.3:\n",
            "      Successfully uninstalled urllib3-1.24.3\n",
            "  Attempting uninstall: tqdm\n",
            "    Found existing installation: tqdm 4.64.1\n",
            "    Uninstalling tqdm-4.64.1:\n",
            "      Successfully uninstalled tqdm-4.64.1\n",
            "  Attempting uninstall: pyyaml\n",
            "    Found existing installation: PyYAML 6.0\n",
            "    Uninstalling PyYAML-6.0:\n",
            "      Successfully uninstalled PyYAML-6.0\n",
            "  Attempting uninstall: psutil\n",
            "    Found existing installation: psutil 5.4.8\n",
            "    Uninstalling psutil-5.4.8:\n",
            "      Successfully uninstalled psutil-5.4.8\n",
            "  Attempting uninstall: joblib\n",
            "    Found existing installation: joblib 1.2.0\n",
            "    Uninstalling joblib-1.2.0:\n",
            "      Successfully uninstalled joblib-1.2.0\n",
            "  Attempting uninstall: dill\n",
            "    Found existing installation: dill 0.3.6\n",
            "    Uninstalling dill-0.3.6:\n",
            "      Successfully uninstalled dill-0.3.6\n",
            "  Attempting uninstall: requests\n",
            "    Found existing installation: requests 2.23.0\n",
            "    Uninstalling requests-2.23.0:\n",
            "      Successfully uninstalled requests-2.23.0\n",
            "  Attempting uninstall: matplotlib\n",
            "    Found existing installation: matplotlib 3.2.2\n",
            "    Uninstalling matplotlib-3.2.2:\n",
            "      Successfully uninstalled matplotlib-3.2.2\n",
            "  Attempting uninstall: gensim\n",
            "    Found existing installation: gensim 3.6.0\n",
            "    Uninstalling gensim-3.6.0:\n",
            "      Successfully uninstalled gensim-3.6.0\n",
            "  Attempting uninstall: seaborn\n",
            "    Found existing installation: seaborn 0.11.2\n",
            "    Uninstalling seaborn-0.11.2:\n",
            "      Successfully uninstalled seaborn-0.11.2\n",
            "Successfully installed Faker-15.3.2 PromptEHR-0.0.3 Trial2Vec-0.0.3 copulas-0.7.0 ctgan-0.5.2 datasets-2.3.2 dill-0.3.5.1 fonttools-4.38.0 gensim-4.2.0 googletrans-3.0.0 h11-0.9.0 h2-3.2.0 hpack-3.0.0 hstspreload-2022.11.1 httpcore-0.9.1 httpx-0.13.3 huggingface-hub-0.11.0 hyperframe-5.2.0 icd10-cm-0.0.5 joblib-1.1.0 liac-arff-2.5.0 loguru-0.6.0 matplotlib-3.5.3 minio-7.1.12 multiprocess-0.70.13 openml-0.12.2 psutil-5.9.4 pyyaml-5.4.1 rdkit-2022.9.1 rdt-1.2.1 requests-2.28.1 responses-0.18.0 rfc3986-1.5.0 sdmetrics-0.6.0 seaborn-0.12.1 sniffio-1.3.0 textaugment-1.3.4 tokenizers-0.13.2 tqdm-4.64.0 transformers-4.24.0 transtab-0.0.2 urllib3-1.26.12 wget-3.2 xmltodict-0.13.0 xxhash-3.1.0\n",
            "\u001b[33mWARNING: Running pip as the 'root' user can result in broken permissions and conflicting behaviour with the system package manager. It is recommended to use a virtual environment instead: https://pip.pypa.io/warnings/venv\u001b[0m\u001b[33m\n",
            "\u001b[0m"
          ]
        },
        {
          "output_type": "display_data",
          "data": {
            "application/vnd.colab-display-data+json": {
              "pip_warning": {
                "packages": [
                  "matplotlib",
                  "mpl_toolkits",
                  "psutil"
                ]
              }
            }
          },
          "metadata": {}
        }
      ]
    },
    {
      "cell_type": "markdown",
      "source": [
        "### **Step 1 & 2: Import the package and prepare input data**"
      ],
      "metadata": {
        "id": "1CeYP2HB-iVg"
      }
    },
    {
      "cell_type": "code",
      "source": [
        "from pytrial.data.demo_data import load_synthetic_ehr_sequence\n",
        "data = load_synthetic_ehr_sequence()"
      ],
      "metadata": {
        "id": "-kGagjmL-hWc"
      },
      "execution_count": null,
      "outputs": []
    },
    {
      "cell_type": "code",
      "source": [
        "from pytrial.tasks.trial_simulation.data import SequencePatient\n",
        "\n",
        "train_data = SequencePatient(\n",
        "    data={\n",
        "        'v': data['visit'],\n",
        "        'y': data['y'],\n",
        "        'x': data['feature'],\n",
        "        },\n",
        "    metadata={\n",
        "        'visit': {'mode': 'dense'},\n",
        "        'label': {'mode': 'tensor'},\n",
        "        'voc': data['voc'],\n",
        "        'max_visit': 20,\n",
        "        'n_num_feature': data['n_num_feature'],\n",
        "        'cat_cardinalities': data['cat_cardinalities'],\n",
        "    }\n",
        ")"
      ],
      "metadata": {
        "id": "RjDwacsi-rEA"
      },
      "execution_count": null,
      "outputs": []
    },
    {
      "cell_type": "markdown",
      "source": [
        "### **Step 3: Init the model using pretrained weights**\n",
        "\n",
        "- `PromptEHR` is associated with pretrained weights on MIMIC-III data and can be used to generate synthetic directly."
      ],
      "metadata": {
        "id": "7WOFcfrp-vCC"
      }
    },
    {
      "cell_type": "code",
      "source": [
        "from pytrial.tasks.trial_simulation.sequence import PromptEHR\n",
        "\n",
        "vocs = data['voc']\n",
        "model = PromptEHR()\n",
        "model.from_pretrained()"
      ],
      "metadata": {
        "id": "vaGvemkU-2-9",
        "colab": {
          "base_uri": "https://localhost:8080/",
          "height": 200,
          "referenced_widgets": [
            "ba6762eaf22941078734e3eb5ac51928",
            "2296a8ad19c1451d98dd153376dc5429",
            "a9329c3916244954ad7948d84746c4e7",
            "3833751f35e6452bb2adeb6e40aad008",
            "d1a1abbe845d4ae58d1d54c6a89cf0a9",
            "23ca743fd46645309c4be281a4e1d7b6",
            "5742b7add1954834abe2bf611cfb1ff8",
            "08452c674e03459d83248fe03b25a901",
            "d8ab204f7f994f95a6d3921c0cac7d57",
            "aebf0cfc8b114c3ba4cef6c539362f13",
            "0fb9cf937c464dd79e3de8d6b7a7dc4a",
            "aa50c9fdbb134bc2b6071692f43d77f0",
            "c58a523a403f4a228ecc0490a9b6fc48",
            "c8b3be08caf2439086d4e4973703cd01",
            "ccd42e4fa1a04c1aab3d39ab50b96e2c",
            "1c83b7be83c1484081e3ef2e4826e41c",
            "99285c3809df45bfaa4168b3aaee575a",
            "968c4bde5cde4d60979c6fe10d68d88a",
            "7306e88354fd4677817e456a557e597b",
            "49df2c382cd4495296f0ddec0a2953e9",
            "c591b45de81c403a9bfed2b59ffe9673",
            "663a2745ea424b0291b9e2cadce7b7fe",
            "c294eb49b3db496ead60d60f1933bbe6",
            "a590cf8ac9124c3ab2393dd45676b615",
            "f2ef9c4318bf4349aea79da08ca72c93",
            "829bd2a0006141bbbb4d86ded460054e",
            "f981aa0e6f8546cca9664b0b371f8a11",
            "cd62f95a1c4849d59f152d9ef49bd099",
            "949bb59b44ce4dd1bed63cf3a3861d95",
            "4ea5d969b4d54faba2a6826598a183dd",
            "46bff17ff66a4bb88691e02a3d3acf34",
            "fa7689ad3af74733ad4a82a03ef892c6",
            "4965b57425934ea09b0c2d0d227eba48"
          ]
        },
        "outputId": "347e701d-d69a-40cb-ef78-5ff1c8d3f793"
      },
      "execution_count": null,
      "outputs": [
        {
          "output_type": "display_data",
          "data": {
            "text/plain": [
              "Downloading:   0%|          | 0.00/899k [00:00<?, ?B/s]"
            ],
            "application/vnd.jupyter.widget-view+json": {
              "version_major": 2,
              "version_minor": 0,
              "model_id": "ba6762eaf22941078734e3eb5ac51928"
            }
          },
          "metadata": {}
        },
        {
          "output_type": "display_data",
          "data": {
            "text/plain": [
              "Downloading:   0%|          | 0.00/456k [00:00<?, ?B/s]"
            ],
            "application/vnd.jupyter.widget-view+json": {
              "version_major": 2,
              "version_minor": 0,
              "model_id": "aa50c9fdbb134bc2b6071692f43d77f0"
            }
          },
          "metadata": {}
        },
        {
          "output_type": "display_data",
          "data": {
            "text/plain": [
              "Downloading:   0%|          | 0.00/1.72k [00:00<?, ?B/s]"
            ],
            "application/vnd.jupyter.widget-view+json": {
              "version_major": 2,
              "version_minor": 0,
              "model_id": "c294eb49b3db496ead60d60f1933bbe6"
            }
          },
          "metadata": {}
        },
        {
          "output_type": "stream",
          "name": "stderr",
          "text": [
            "The tokenizer class you load from this checkpoint is not the same type as the class this function is called from. It may result in unexpected tokenization. \n",
            "The tokenizer class you load from this checkpoint is 'BartTokenizer'. \n",
            "The class this function is called from is 'DataTokenizer'.\n"
          ]
        },
        {
          "output_type": "stream",
          "name": "stdout",
          "text": [
            "Load pretrained PromptEHR model from ./simulation/pretrained_promptEHR\n",
            "Load the pre-trained model from: ./simulation/pretrained_promptEHR\n"
          ]
        }
      ]
    },
    {
      "cell_type": "markdown",
      "source": [
        "### **Step 4: Synthetic data generation**"
      ],
      "metadata": {
        "id": "3TA0byvB_Thg"
      }
    },
    {
      "cell_type": "code",
      "source": [
        "synthetic_seqdata = model.predict(train_data, n=500, n_per_sample=1, verbose=True)"
      ],
      "metadata": {
        "id": "xRRvStlE_YIF",
        "colab": {
          "base_uri": "https://localhost:8080/"
        },
        "outputId": "248bae97-5711-452d-c23e-3443369a6a77"
      },
      "execution_count": null,
      "outputs": [
        {
          "output_type": "stream",
          "name": "stderr",
          "text": [
            "  2%|▏         | 11/500 [00:11<06:37,  1.23it/s]"
          ]
        },
        {
          "output_type": "stream",
          "name": "stdout",
          "text": [
            "522 reach model max length 512, do cut.\n",
            "514 reach model max length 512, do cut.\n",
            "524 reach model max length 512, do cut.\n",
            "519 reach model max length 512, do cut.\n",
            "517 reach model max length 512, do cut.\n",
            "513 reach model max length 512, do cut.\n",
            "527 reach model max length 512, do cut.\n",
            "514 reach model max length 512, do cut.\n",
            "517 reach model max length 512, do cut.\n",
            "518 reach model max length 512, do cut.\n",
            "522 reach model max length 512, do cut.\n",
            "516 reach model max length 512, do cut.\n",
            "515 reach model max length 512, do cut.\n",
            "526 reach model max length 512, do cut.\n",
            "518 reach model max length 512, do cut.\n"
          ]
        },
        {
          "output_type": "stream",
          "name": "stderr",
          "text": [
            " 75%|███████▍  | 373/500 [06:19<02:20,  1.11s/it]"
          ]
        },
        {
          "output_type": "stream",
          "name": "stdout",
          "text": [
            "513 reach model max length 512, do cut.\n"
          ]
        },
        {
          "output_type": "stream",
          "name": "stderr",
          "text": [
            "\r 75%|███████▍  | 374/500 [06:25<05:10,  2.46s/it]"
          ]
        },
        {
          "output_type": "stream",
          "name": "stdout",
          "text": [
            "520 reach model max length 512, do cut.\n"
          ]
        },
        {
          "output_type": "stream",
          "name": "stderr",
          "text": [
            " 93%|█████████▎| 465/500 [07:57<00:40,  1.16s/it]"
          ]
        },
        {
          "output_type": "stream",
          "name": "stdout",
          "text": [
            "517 reach model max length 512, do cut.\n"
          ]
        },
        {
          "output_type": "stream",
          "name": "stderr",
          "text": [
            "100%|██████████| 500/500 [08:42<00:00,  1.04s/it]\n"
          ]
        }
      ]
    },
    {
      "cell_type": "markdown",
      "source": [
        "- Let's take a look at the generated synthetic data, it should have the same format as the input `train_data`."
      ],
      "metadata": {
        "id": "rKV4PidG_eIa"
      }
    },
    {
      "cell_type": "code",
      "source": [
        "from torch.utils.data import DataLoader\n",
        "from pytrial.data.patient_data import SeqPatientCollator\n",
        "\n",
        "collate_fn = SeqPatientCollator(config={'visit_mode':'dense'})\n",
        "loader = DataLoader(synthetic_seqdata, batch_size=2, collate_fn=collate_fn, num_workers=0)\n",
        "loader = iter(loader)\n",
        "batch = next(loader)\n",
        "print(batch)"
      ],
      "metadata": {
        "colab": {
          "base_uri": "https://localhost:8080/"
        },
        "id": "-YjCDfnS_cyw",
        "outputId": "39c33f84-a634-4d55-dfa1-19119cfad1de"
      },
      "execution_count": null,
      "outputs": [
        {
          "output_type": "stream",
          "name": "stdout",
          "text": [
            "defaultdict(<class 'list'>, {'v': defaultdict(<class 'list'>, {'diag': [[[1, 7, 41, 269, 46, 49, 21, 664, 313, 7], [0, 49, 10, 69]], [[2, 69, 485, 135, 364, 13, 12, 47, 16, 14, 18, 20, 405, 630, 23, 24, 315, 15], [320, 0, 36, 485, 135, 39, 40, 364, 269, 47, 49, 630, 377, 187, 25]]], 'prod': [[[0, 584, 583], [1, 4]], [[66, 38, 39, 7, 265, 12, 15, 181, 118, 85, 91], [0, 85]]], 'med': [[[0, 2, 6, 7, 73, 10, 75, 44, 11, 12, 51, 19, 22, 26, 91], [0, 1, 3, 6, 7, 41, 44, 16, 22, 26, 91, 28]], [[0, 1, 3, 36, 5, 40, 11, 44, 14, 16, 29, 20, 22, 26, 27, 28, 61], [1, 33, 3, 5, 6, 7, 41, 44, 14, 22, 26, 27, 29]]]}), 'x': tensor([[-1.0202,  0.0000,  0.0000],\n",
            "        [ 1.3394,  1.0000,  0.0000]], dtype=torch.float64), 'y': tensor([False,  True])})\n"
          ]
        }
      ]
    },
    {
      "cell_type": "code",
      "source": [
        "batch.keys()"
      ],
      "metadata": {
        "colab": {
          "base_uri": "https://localhost:8080/"
        },
        "id": "qyKXCXi_DNHb",
        "outputId": "fed366a7-71ad-48e9-f174-acff39e42d95"
      },
      "execution_count": null,
      "outputs": [
        {
          "output_type": "execute_result",
          "data": {
            "text/plain": [
              "dict_keys(['v', 'x', 'y'])"
            ]
          },
          "metadata": {},
          "execution_count": 8
        }
      ]
    },
    {
      "cell_type": "markdown",
      "source": [
        "### **Step 5: Evaluate the generated synthetic records**\n",
        "\n",
        "- `RNNPrivacyDetection` trains an RNN model to discriminate synthetic and real data (binary classification), the output score is the ROC-AUC of the prediction. The higher the AUC, the more private (less realistic) the records are."
      ],
      "metadata": {
        "id": "nzuClG14_4Q7"
      }
    },
    {
      "cell_type": "code",
      "source": [
        "from pytrial.tasks.trial_simulation.sequence.evaluation import RNNPrivacyDetection, RNNUtilityDetection\n",
        "\n",
        "print(RNNPrivacyDetection.compute(train_data, synthetic_seqdata, device='cuda:0'))"
      ],
      "metadata": {
        "colab": {
          "base_uri": "https://localhost:8080/"
        },
        "id": "RjVQah_a_9K_",
        "outputId": "0dcb5849-0b69-424a-cb53-1f481330d5f6"
      },
      "execution_count": null,
      "outputs": [
        {
          "output_type": "stream",
          "name": "stdout",
          "text": [
            "{'lr': 0.0001, 'weight_decay': 0.0001}\n",
            "***** Running training *****\n",
            "  Num examples = 1200\n",
            "  Num Epochs = 10\n",
            "  Total optimization steps = 190\n"
          ]
        },
        {
          "output_type": "stream",
          "name": "stderr",
          "text": [
            "Training Epoch:   0%|          | 0/10 [00:00<?, ?it/s]\n",
            "Iteration:   0%|          | 0/19 [00:00<?, ?it/s]\u001b[A\n",
            "Iteration:  37%|███▋      | 7/19 [00:00<00:00, 69.05it/s]\u001b[A"
          ]
        },
        {
          "output_type": "stream",
          "name": "stdout",
          "text": [
            "\n",
            "######### Train Loss 10 #########\n",
            "0 0.6897 \n",
            "\n"
          ]
        },
        {
          "output_type": "stream",
          "name": "stderr",
          "text": [
            "\n",
            "Iteration: 100%|██████████| 19/19 [00:00<00:00, 33.97it/s]\n",
            "Training Epoch:  10%|█         | 1/10 [00:00<00:05,  1.75it/s]"
          ]
        },
        {
          "output_type": "stream",
          "name": "stdout",
          "text": [
            "\n",
            "######### Eval 10 #########\n",
            "auc: 0.5696\n"
          ]
        },
        {
          "output_type": "stream",
          "name": "stderr",
          "text": [
            "\n",
            "Iteration:   0%|          | 0/19 [00:00<?, ?it/s]\u001b[A"
          ]
        },
        {
          "output_type": "stream",
          "name": "stdout",
          "text": [
            "\n",
            "######### Train Loss 20 #########\n",
            "0 0.6868 \n",
            "\n"
          ]
        },
        {
          "output_type": "stream",
          "name": "stderr",
          "text": [
            "\n",
            "Iteration:   5%|▌         | 1/19 [00:00<00:05,  3.42it/s]\u001b[A\n",
            "Iteration:  37%|███▋      | 7/19 [00:00<00:00, 21.58it/s]\u001b[A"
          ]
        },
        {
          "output_type": "stream",
          "name": "stdout",
          "text": [
            "\n",
            "######### Eval 20 #########\n",
            "auc: 0.5766\n",
            "\n",
            "######### Train Loss 30 #########\n",
            "0 0.6839 \n",
            "\n"
          ]
        },
        {
          "output_type": "stream",
          "name": "stderr",
          "text": [
            "\n",
            "Iteration:  58%|█████▊    | 11/19 [00:00<00:00, 16.34it/s]\u001b[A\n",
            "Iteration: 100%|██████████| 19/19 [00:00<00:00, 22.33it/s]\n",
            "Training Epoch:  20%|██        | 2/10 [00:01<00:05,  1.34it/s]"
          ]
        },
        {
          "output_type": "stream",
          "name": "stdout",
          "text": [
            "\n",
            "######### Eval 30 #########\n",
            "auc: 0.5752\n"
          ]
        },
        {
          "output_type": "stream",
          "name": "stderr",
          "text": [
            "\n",
            "Iteration:   0%|          | 0/19 [00:00<?, ?it/s]\u001b[A"
          ]
        },
        {
          "output_type": "stream",
          "name": "stdout",
          "text": [
            "\n",
            "######### Train Loss 40 #########\n",
            "0 0.6818 \n",
            "\n"
          ]
        },
        {
          "output_type": "stream",
          "name": "stderr",
          "text": [
            "\n",
            "Iteration:  11%|█         | 2/19 [00:00<00:02,  6.83it/s]\u001b[A\n",
            "Iteration:  42%|████▏     | 8/19 [00:00<00:00, 24.25it/s]\u001b[A"
          ]
        },
        {
          "output_type": "stream",
          "name": "stdout",
          "text": [
            "\n",
            "######### Eval 40 #########\n",
            "auc: 0.5717\n",
            "\n",
            "######### Train Loss 50 #########\n",
            "0 0.6789 \n",
            "\n"
          ]
        },
        {
          "output_type": "stream",
          "name": "stderr",
          "text": [
            "\n",
            "Iteration:  63%|██████▎   | 12/19 [00:00<00:00, 17.68it/s]\u001b[A\n",
            "Iteration: 100%|██████████| 19/19 [00:00<00:00, 22.95it/s]\n",
            "Training Epoch:  30%|███       | 3/10 [00:02<00:05,  1.27it/s]"
          ]
        },
        {
          "output_type": "stream",
          "name": "stdout",
          "text": [
            "\n",
            "######### Eval 50 #########\n",
            "auc: 0.5684\n"
          ]
        },
        {
          "output_type": "stream",
          "name": "stderr",
          "text": [
            "\n",
            "Iteration:   0%|          | 0/19 [00:00<?, ?it/s]\u001b[A"
          ]
        },
        {
          "output_type": "stream",
          "name": "stdout",
          "text": [
            "\n",
            "######### Train Loss 60 #########\n",
            "0 0.6746 \n",
            "\n"
          ]
        },
        {
          "output_type": "stream",
          "name": "stderr",
          "text": [
            "\n",
            "Iteration:  16%|█▌        | 3/19 [00:00<00:01, 10.23it/s]\u001b[A\n",
            "Iteration:  47%|████▋     | 9/19 [00:00<00:00, 26.41it/s]\u001b[A"
          ]
        },
        {
          "output_type": "stream",
          "name": "stdout",
          "text": [
            "\n",
            "######### Eval 60 #########\n",
            "auc: 0.5686\n",
            "\n",
            "######### Train Loss 70 #########\n",
            "0 0.6687 \n",
            "\n"
          ]
        },
        {
          "output_type": "stream",
          "name": "stderr",
          "text": [
            "\n",
            "Iteration: 100%|██████████| 19/19 [00:00<00:00, 23.76it/s]\n",
            "Training Epoch:  40%|████      | 4/10 [00:03<00:04,  1.25it/s]"
          ]
        },
        {
          "output_type": "stream",
          "name": "stdout",
          "text": [
            "\n",
            "######### Eval 70 #########\n",
            "auc: 0.5702\n"
          ]
        },
        {
          "output_type": "stream",
          "name": "stderr",
          "text": [
            "\n",
            "Iteration:   0%|          | 0/19 [00:00<?, ?it/s]\u001b[A"
          ]
        },
        {
          "output_type": "stream",
          "name": "stdout",
          "text": [
            "\n",
            "######### Train Loss 80 #########\n",
            "0 0.6630 \n",
            "\n"
          ]
        },
        {
          "output_type": "stream",
          "name": "stderr",
          "text": [
            "\n",
            "Iteration:  21%|██        | 4/19 [00:00<00:01, 12.46it/s]\u001b[A\n",
            "Iteration:  53%|█████▎    | 10/19 [00:00<00:00, 26.21it/s]\u001b[A"
          ]
        },
        {
          "output_type": "stream",
          "name": "stdout",
          "text": [
            "\n",
            "######### Eval 80 #########\n",
            "auc: 0.5720\n",
            "\n",
            "######### Train Loss 90 #########\n",
            "0 0.6556 \n",
            "\n"
          ]
        },
        {
          "output_type": "stream",
          "name": "stderr",
          "text": [
            "\n",
            "Iteration: 100%|██████████| 19/19 [00:00<00:00, 22.90it/s]\n",
            "Training Epoch:  50%|█████     | 5/10 [00:03<00:04,  1.22it/s]"
          ]
        },
        {
          "output_type": "stream",
          "name": "stdout",
          "text": [
            "\n",
            "######### Eval 90 #########\n",
            "auc: 0.5743\n"
          ]
        },
        {
          "output_type": "stream",
          "name": "stderr",
          "text": [
            "\n",
            "Iteration:   0%|          | 0/19 [00:00<?, ?it/s]\u001b[A"
          ]
        },
        {
          "output_type": "stream",
          "name": "stdout",
          "text": [
            "\n",
            "######### Train Loss 100 #########\n",
            "0 0.6457 \n",
            "\n"
          ]
        },
        {
          "output_type": "stream",
          "name": "stderr",
          "text": [
            "\n",
            "Iteration:  26%|██▋       | 5/19 [00:00<00:00, 15.24it/s]\u001b[A\n",
            "Iteration:  58%|█████▊    | 11/19 [00:00<00:00, 28.23it/s]\u001b[A"
          ]
        },
        {
          "output_type": "stream",
          "name": "stdout",
          "text": [
            "\n",
            "######### Eval 100 #########\n",
            "auc: 0.5783\n",
            "\n",
            "######### Train Loss 110 #########\n",
            "0 0.6508 \n",
            "\n"
          ]
        },
        {
          "output_type": "stream",
          "name": "stderr",
          "text": [
            "\n",
            "Iteration: 100%|██████████| 19/19 [00:00<00:00, 22.60it/s]\n",
            "Training Epoch:  60%|██████    | 6/10 [00:04<00:03,  1.21it/s]"
          ]
        },
        {
          "output_type": "stream",
          "name": "stdout",
          "text": [
            "\n",
            "######### Eval 110 #########\n",
            "auc: 0.5844\n"
          ]
        },
        {
          "output_type": "stream",
          "name": "stderr",
          "text": [
            "\n",
            "Iteration:   0%|          | 0/19 [00:00<?, ?it/s]\u001b[A"
          ]
        },
        {
          "output_type": "stream",
          "name": "stdout",
          "text": [
            "\n",
            "######### Train Loss 120 #########\n",
            "0 0.6379 \n",
            "\n"
          ]
        },
        {
          "output_type": "stream",
          "name": "stderr",
          "text": [
            "\n",
            "Iteration:  32%|███▏      | 6/19 [00:00<00:00, 16.54it/s]\u001b[A\n",
            "Iteration:  63%|██████▎   | 12/19 [00:00<00:00, 28.16it/s]\u001b[A"
          ]
        },
        {
          "output_type": "stream",
          "name": "stdout",
          "text": [
            "\n",
            "######### Eval 120 #########\n",
            "auc: 0.5914\n",
            "\n",
            "######### Train Loss 130 #########\n",
            "0 0.6417 \n",
            "\n"
          ]
        },
        {
          "output_type": "stream",
          "name": "stderr",
          "text": [
            "\n",
            "Iteration: 100%|██████████| 19/19 [00:00<00:00, 21.60it/s]\n",
            "Training Epoch:  70%|███████   | 7/10 [00:05<00:02,  1.18it/s]"
          ]
        },
        {
          "output_type": "stream",
          "name": "stdout",
          "text": [
            "\n",
            "######### Eval 130 #########\n",
            "auc: 0.5997\n"
          ]
        },
        {
          "output_type": "stream",
          "name": "stderr",
          "text": [
            "\n",
            "Iteration:   0%|          | 0/19 [00:00<?, ?it/s]\u001b[A"
          ]
        },
        {
          "output_type": "stream",
          "name": "stdout",
          "text": [
            "\n",
            "######### Train Loss 140 #########\n",
            "0 0.6307 \n",
            "\n"
          ]
        },
        {
          "output_type": "stream",
          "name": "stderr",
          "text": [
            "\n",
            "Iteration:  37%|███▋      | 7/19 [00:00<00:00, 19.30it/s]\u001b[A\n",
            "Iteration:  74%|███████▎  | 14/19 [00:00<00:00, 32.70it/s]\u001b[A"
          ]
        },
        {
          "output_type": "stream",
          "name": "stdout",
          "text": [
            "\n",
            "######### Eval 140 #########\n",
            "auc: 0.6095\n",
            "\n",
            "######### Train Loss 150 #########\n",
            "0 0.6227 \n",
            "\n"
          ]
        },
        {
          "output_type": "stream",
          "name": "stderr",
          "text": [
            "\n",
            "Iteration: 100%|██████████| 19/19 [00:00<00:00, 22.90it/s]\n",
            "Training Epoch:  80%|████████  | 8/10 [00:06<00:01,  1.18it/s]"
          ]
        },
        {
          "output_type": "stream",
          "name": "stdout",
          "text": [
            "\n",
            "######### Eval 150 #########\n",
            "auc: 0.6204\n"
          ]
        },
        {
          "output_type": "stream",
          "name": "stderr",
          "text": [
            "\n",
            "Iteration:   0%|          | 0/19 [00:00<?, ?it/s]\u001b[A\n",
            "Iteration:  32%|███▏      | 6/19 [00:00<00:00, 55.79it/s]\u001b[A"
          ]
        },
        {
          "output_type": "stream",
          "name": "stdout",
          "text": [
            "\n",
            "######### Train Loss 160 #########\n",
            "0 0.6329 \n",
            "\n"
          ]
        },
        {
          "output_type": "stream",
          "name": "stderr",
          "text": [
            "\n",
            "Iteration:  63%|██████▎   | 12/19 [00:00<00:00, 22.51it/s]\u001b[A"
          ]
        },
        {
          "output_type": "stream",
          "name": "stdout",
          "text": [
            "\n",
            "######### Eval 160 #########\n",
            "auc: 0.6338\n",
            "\n",
            "######### Train Loss 170 #########\n",
            "0 0.6124 \n",
            "\n"
          ]
        },
        {
          "output_type": "stream",
          "name": "stderr",
          "text": [
            "\n",
            "Iteration: 100%|██████████| 19/19 [00:00<00:00, 21.61it/s]\n",
            "Training Epoch:  90%|█████████ | 9/10 [00:07<00:00,  1.16it/s]"
          ]
        },
        {
          "output_type": "stream",
          "name": "stdout",
          "text": [
            "\n",
            "######### Eval 170 #########\n",
            "auc: 0.6468\n"
          ]
        },
        {
          "output_type": "stream",
          "name": "stderr",
          "text": [
            "\n",
            "Iteration:   0%|          | 0/19 [00:00<?, ?it/s]\u001b[A\n",
            "Iteration:  32%|███▏      | 6/19 [00:00<00:00, 60.00it/s]\u001b[A"
          ]
        },
        {
          "output_type": "stream",
          "name": "stdout",
          "text": [
            "\n",
            "######### Train Loss 180 #########\n",
            "0 0.6322 \n",
            "\n"
          ]
        },
        {
          "output_type": "stream",
          "name": "stderr",
          "text": [
            "\n",
            "Iteration:  63%|██████▎   | 12/19 [00:00<00:00, 21.78it/s]\u001b[A"
          ]
        },
        {
          "output_type": "stream",
          "name": "stdout",
          "text": [
            "\n",
            "######### Eval 180 #########\n",
            "auc: 0.6633\n",
            "\n",
            "######### Train Loss 190 #########\n",
            "0 0.6041 \n",
            "\n"
          ]
        },
        {
          "output_type": "stream",
          "name": "stderr",
          "text": [
            "\n",
            "Iteration: 100%|██████████| 19/19 [00:00<00:00, 22.06it/s]\n",
            "Training Epoch: 100%|██████████| 10/10 [00:08<00:00,  1.20it/s]"
          ]
        },
        {
          "output_type": "stream",
          "name": "stdout",
          "text": [
            "\n",
            "######### Eval 190 #########\n",
            "auc: 0.6787\n",
            "Load best ckpt from `./checkpoints/best`.\n",
            "Training completes.\n"
          ]
        },
        {
          "output_type": "stream",
          "name": "stderr",
          "text": [
            "\n"
          ]
        },
        {
          "output_type": "stream",
          "name": "stdout",
          "text": [
            "0.6787337326998555\n"
          ]
        }
      ]
    },
    {
      "cell_type": "markdown",
      "source": [
        "- Utility detection measures the predictive model trained on the real data and on the synthetic data. Will return the AUC of the both models."
      ],
      "metadata": {
        "id": "qHVuNa25-6WQ"
      }
    },
    {
      "cell_type": "code",
      "source": [
        "print(RNNUtilityDetection.compute(train_data, synthetic_seqdata, device='cuda:0'))"
      ],
      "metadata": {
        "colab": {
          "base_uri": "https://localhost:8080/"
        },
        "id": "4H-QIfEA-U8R",
        "outputId": "76c80cd3-e07b-442e-f5de-324ecf01cb54"
      },
      "execution_count": null,
      "outputs": [
        {
          "output_type": "stream",
          "name": "stdout",
          "text": [
            "{'lr': 0.0005, 'weight_decay': 0}\n",
            "***** Running training *****\n",
            "  Num examples = 700\n",
            "  Num Epochs = 50\n",
            "  Total optimization steps = 300\n"
          ]
        },
        {
          "output_type": "stream",
          "name": "stderr",
          "text": [
            "Training Epoch:   0%|          | 0/50 [00:00<?, ?it/s]\n",
            "Iteration:   0%|          | 0/6 [00:00<?, ?it/s]\u001b[A\n",
            "Iteration:  17%|█▋        | 1/6 [00:00<00:00,  8.33it/s]\u001b[A\n",
            "Iteration:  50%|█████     | 3/6 [00:00<00:00, 13.30it/s]\u001b[A\n",
            "Iteration: 100%|██████████| 6/6 [00:00<00:00, 14.61it/s]\n",
            "Training Epoch:   2%|▏         | 1/50 [00:00<00:20,  2.36it/s]\n",
            "Iteration:   0%|          | 0/6 [00:00<?, ?it/s]\u001b[A\n",
            "Iteration:  50%|█████     | 3/6 [00:00<00:00, 23.20it/s]\u001b[A"
          ]
        },
        {
          "output_type": "stream",
          "name": "stdout",
          "text": [
            "\n",
            "######### Train Loss 10 #########\n",
            "0 0.6639 \n",
            "\n"
          ]
        },
        {
          "output_type": "stream",
          "name": "stderr",
          "text": [
            "\n",
            "Iteration: 100%|██████████| 6/6 [00:00<00:00, 10.31it/s]\n",
            "Training Epoch:   4%|▍         | 2/50 [00:01<00:25,  1.91it/s]"
          ]
        },
        {
          "output_type": "stream",
          "name": "stdout",
          "text": [
            "\n",
            "######### Eval 10 #########\n",
            "auc: 0.3306\n"
          ]
        },
        {
          "output_type": "stream",
          "name": "stderr",
          "text": [
            "\n",
            "Iteration:   0%|          | 0/6 [00:00<?, ?it/s]\u001b[A\n",
            "Iteration:  33%|███▎      | 2/6 [00:00<00:00, 14.39it/s]\u001b[A\n",
            "Iteration:  67%|██████▋   | 4/6 [00:00<00:00, 16.54it/s]\u001b[A\n",
            "Iteration: 100%|██████████| 6/6 [00:00<00:00, 14.46it/s]\n",
            "Training Epoch:   6%|▌         | 3/50 [00:01<00:22,  2.08it/s]\n",
            "Iteration:   0%|          | 0/6 [00:00<?, ?it/s]\u001b[A"
          ]
        },
        {
          "output_type": "stream",
          "name": "stdout",
          "text": [
            "\n",
            "######### Train Loss 20 #########\n",
            "0 0.6031 \n",
            "\n"
          ]
        },
        {
          "output_type": "stream",
          "name": "stderr",
          "text": [
            "\n",
            "Iteration:  33%|███▎      | 2/6 [00:00<00:01,  2.96it/s]\u001b[A\n",
            "Iteration:  67%|██████▋   | 4/6 [00:00<00:00,  5.55it/s]\u001b[A"
          ]
        },
        {
          "output_type": "stream",
          "name": "stdout",
          "text": [
            "\n",
            "######### Eval 20 #########\n",
            "auc: 0.3389\n"
          ]
        },
        {
          "output_type": "stream",
          "name": "stderr",
          "text": [
            "Iteration: 100%|██████████| 6/6 [00:00<00:00,  6.70it/s]\n",
            "Training Epoch:   8%|▊         | 4/50 [00:02<00:30,  1.53it/s]\n",
            "Iteration:   0%|          | 0/6 [00:00<?, ?it/s]\u001b[A\n",
            "Iteration:  33%|███▎      | 2/6 [00:00<00:00, 16.45it/s]\u001b[A\n",
            "Iteration:  67%|██████▋   | 4/6 [00:00<00:00, 16.73it/s]\u001b[A"
          ]
        },
        {
          "output_type": "stream",
          "name": "stdout",
          "text": [
            "\n",
            "######### Train Loss 30 #########\n",
            "0 0.5377 \n",
            "\n"
          ]
        },
        {
          "output_type": "stream",
          "name": "stderr",
          "text": [
            "\n",
            "Iteration: 100%|██████████| 6/6 [00:00<00:00, 10.00it/s]\n",
            "Training Epoch:  10%|█         | 5/50 [00:02<00:28,  1.56it/s]"
          ]
        },
        {
          "output_type": "stream",
          "name": "stdout",
          "text": [
            "\n",
            "######### Eval 30 #########\n",
            "auc: 0.3503\n"
          ]
        },
        {
          "output_type": "stream",
          "name": "stderr",
          "text": [
            "\n",
            "Iteration:   0%|          | 0/6 [00:00<?, ?it/s]\u001b[A\n",
            "Iteration:  33%|███▎      | 2/6 [00:00<00:00, 14.84it/s]\u001b[A\n",
            "Iteration: 100%|██████████| 6/6 [00:00<00:00, 18.68it/s]\n",
            "Training Epoch:  12%|█▏        | 6/50 [00:03<00:23,  1.87it/s]\n",
            "Iteration:   0%|          | 0/6 [00:00<?, ?it/s]\u001b[A\n",
            "Iteration:  50%|█████     | 3/6 [00:00<00:00, 19.12it/s]\u001b[A"
          ]
        },
        {
          "output_type": "stream",
          "name": "stdout",
          "text": [
            "\n",
            "######### Train Loss 40 #########\n",
            "0 0.5046 \n",
            "\n"
          ]
        },
        {
          "output_type": "stream",
          "name": "stderr",
          "text": [
            "\n",
            "Iteration: 100%|██████████| 6/6 [00:00<00:00,  9.76it/s]\n",
            "Training Epoch:  14%|█▍        | 7/50 [00:03<00:24,  1.77it/s]"
          ]
        },
        {
          "output_type": "stream",
          "name": "stdout",
          "text": [
            "\n",
            "######### Eval 40 #########\n",
            "auc: 0.3609\n"
          ]
        },
        {
          "output_type": "stream",
          "name": "stderr",
          "text": [
            "\n",
            "Iteration:   0%|          | 0/6 [00:00<?, ?it/s]\u001b[A\n",
            "Iteration:  33%|███▎      | 2/6 [00:00<00:00, 15.21it/s]\u001b[A\n",
            "Iteration: 100%|██████████| 6/6 [00:00<00:00, 18.18it/s]\n",
            "Training Epoch:  16%|█▌        | 8/50 [00:04<00:20,  2.02it/s]\n",
            "Iteration:   0%|          | 0/6 [00:00<?, ?it/s]\u001b[A"
          ]
        },
        {
          "output_type": "stream",
          "name": "stdout",
          "text": [
            "\n",
            "######### Train Loss 50 #########\n",
            "0 0.4999 \n",
            "\n"
          ]
        },
        {
          "output_type": "stream",
          "name": "stderr",
          "text": [
            "\n",
            "Iteration:  33%|███▎      | 2/6 [00:00<00:00,  4.86it/s]\u001b[A\n",
            "Iteration:  67%|██████▋   | 4/6 [00:00<00:00,  8.46it/s]\u001b[A"
          ]
        },
        {
          "output_type": "stream",
          "name": "stdout",
          "text": [
            "\n",
            "######### Eval 50 #########\n",
            "auc: 0.3843\n"
          ]
        },
        {
          "output_type": "stream",
          "name": "stderr",
          "text": [
            "\n",
            "Iteration: 100%|██████████| 6/6 [00:00<00:00,  9.21it/s]\n",
            "Training Epoch:  18%|█▊        | 9/50 [00:04<00:22,  1.82it/s]\n",
            "Iteration:   0%|          | 0/6 [00:00<?, ?it/s]\u001b[A\n",
            "Iteration:  33%|███▎      | 2/6 [00:00<00:00, 11.29it/s]\u001b[A\n",
            "Iteration:  67%|██████▋   | 4/6 [00:00<00:00, 10.65it/s]\u001b[A"
          ]
        },
        {
          "output_type": "stream",
          "name": "stdout",
          "text": [
            "\n",
            "######### Train Loss 60 #########\n",
            "0 0.4661 \n",
            "\n"
          ]
        },
        {
          "output_type": "stream",
          "name": "stderr",
          "text": [
            "\n",
            "Iteration: 100%|██████████| 6/6 [00:01<00:00,  5.76it/s]\n",
            "Training Epoch:  20%|██        | 10/50 [00:06<00:28,  1.42it/s]"
          ]
        },
        {
          "output_type": "stream",
          "name": "stdout",
          "text": [
            "\n",
            "######### Eval 60 #########\n",
            "auc: 0.4158\n"
          ]
        },
        {
          "output_type": "stream",
          "name": "stderr",
          "text": [
            "\n",
            "Iteration:   0%|          | 0/6 [00:00<?, ?it/s]\u001b[A\n",
            "Iteration:  17%|█▋        | 1/6 [00:00<00:00,  8.15it/s]\u001b[A\n",
            "Iteration:  50%|█████     | 3/6 [00:00<00:00, 10.07it/s]\u001b[A\n",
            "Iteration: 100%|██████████| 6/6 [00:00<00:00, 11.62it/s]\n",
            "Training Epoch:  22%|██▏       | 11/50 [00:06<00:25,  1.54it/s]\n",
            "Iteration:   0%|          | 0/6 [00:00<?, ?it/s]\u001b[A\n",
            "Iteration:  17%|█▋        | 1/6 [00:00<00:00,  9.46it/s]\u001b[A\n",
            "Iteration:  50%|█████     | 3/6 [00:00<00:00, 11.98it/s]\u001b[A"
          ]
        },
        {
          "output_type": "stream",
          "name": "stdout",
          "text": [
            "\n",
            "######### Train Loss 70 #########\n",
            "0 0.4627 \n",
            "\n"
          ]
        },
        {
          "output_type": "stream",
          "name": "stderr",
          "text": [
            "\n",
            "Iteration: 100%|██████████| 6/6 [00:01<00:00,  5.77it/s]\n",
            "Training Epoch:  24%|██▍       | 12/50 [00:07<00:29,  1.29it/s]"
          ]
        },
        {
          "output_type": "stream",
          "name": "stdout",
          "text": [
            "\n",
            "######### Eval 70 #########\n",
            "auc: 0.4626\n"
          ]
        },
        {
          "output_type": "stream",
          "name": "stderr",
          "text": [
            "\n",
            "Iteration:   0%|          | 0/6 [00:00<?, ?it/s]\u001b[A\n",
            "Iteration:  33%|███▎      | 2/6 [00:00<00:00, 13.55it/s]\u001b[A\n",
            "Iteration:  67%|██████▋   | 4/6 [00:00<00:00, 11.85it/s]\u001b[A\n",
            "Iteration: 100%|██████████| 6/6 [00:00<00:00, 13.04it/s]\n",
            "Training Epoch:  26%|██▌       | 13/50 [00:08<00:25,  1.47it/s]\n",
            "Iteration:   0%|          | 0/6 [00:00<?, ?it/s]\u001b[A"
          ]
        },
        {
          "output_type": "stream",
          "name": "stdout",
          "text": [
            "\n",
            "######### Train Loss 80 #########\n",
            "0 0.4507 \n",
            "\n"
          ]
        },
        {
          "output_type": "stream",
          "name": "stderr",
          "text": [
            "\n",
            "Iteration:  33%|███▎      | 2/6 [00:00<00:01,  2.85it/s]\u001b[A\n",
            "Iteration:  50%|█████     | 3/6 [00:00<00:00,  4.03it/s]\u001b[A"
          ]
        },
        {
          "output_type": "stream",
          "name": "stdout",
          "text": [
            "\n",
            "######### Eval 80 #########\n",
            "auc: 0.5153\n"
          ]
        },
        {
          "output_type": "stream",
          "name": "stderr",
          "text": [
            "\n",
            "Iteration: 100%|██████████| 6/6 [00:01<00:00,  5.87it/s]\n",
            "Training Epoch:  28%|██▊       | 14/50 [00:09<00:28,  1.27it/s]\n",
            "Iteration:   0%|          | 0/6 [00:00<?, ?it/s]\u001b[A\n",
            "Iteration:  33%|███▎      | 2/6 [00:00<00:00, 10.81it/s]\u001b[A\n",
            "Iteration:  67%|██████▋   | 4/6 [00:00<00:00, 10.12it/s]\u001b[A"
          ]
        },
        {
          "output_type": "stream",
          "name": "stdout",
          "text": [
            "\n",
            "######### Train Loss 90 #########\n",
            "0 0.4218 \n",
            "\n"
          ]
        },
        {
          "output_type": "stream",
          "name": "stderr",
          "text": [
            "\n",
            "Iteration: 100%|██████████| 6/6 [00:01<00:00,  5.69it/s]\n",
            "Training Epoch:  30%|███       | 15/50 [00:10<00:30,  1.14it/s]"
          ]
        },
        {
          "output_type": "stream",
          "name": "stdout",
          "text": [
            "\n",
            "######### Eval 90 #########\n",
            "auc: 0.5714\n"
          ]
        },
        {
          "output_type": "stream",
          "name": "stderr",
          "text": [
            "\n",
            "Iteration:   0%|          | 0/6 [00:00<?, ?it/s]\u001b[A\n",
            "Iteration:  33%|███▎      | 2/6 [00:00<00:00, 12.91it/s]\u001b[A\n",
            "Iteration: 100%|██████████| 6/6 [00:00<00:00, 13.04it/s]\n",
            "Training Epoch:  32%|███▏      | 16/50 [00:10<00:25,  1.33it/s]\n",
            "Iteration:   0%|          | 0/6 [00:00<?, ?it/s]\u001b[A\n",
            "Iteration:  33%|███▎      | 2/6 [00:00<00:00,  9.89it/s]\u001b[A"
          ]
        },
        {
          "output_type": "stream",
          "name": "stdout",
          "text": [
            "\n",
            "######### Train Loss 100 #########\n",
            "0 0.3857 \n",
            "\n"
          ]
        },
        {
          "output_type": "stream",
          "name": "stderr",
          "text": [
            "\n",
            "Iteration:  67%|██████▋   | 4/6 [00:00<00:00,  4.39it/s]\u001b[A\n",
            "Iteration: 100%|██████████| 6/6 [00:00<00:00,  6.10it/s]\n",
            "Training Epoch:  34%|███▍      | 17/50 [00:11<00:27,  1.21it/s]"
          ]
        },
        {
          "output_type": "stream",
          "name": "stdout",
          "text": [
            "\n",
            "######### Eval 100 #########\n",
            "auc: 0.6030\n"
          ]
        },
        {
          "output_type": "stream",
          "name": "stderr",
          "text": [
            "\n",
            "Iteration:   0%|          | 0/6 [00:00<?, ?it/s]\u001b[A\n",
            "Iteration:  33%|███▎      | 2/6 [00:00<00:00, 10.95it/s]\u001b[A\n",
            "Iteration:  67%|██████▋   | 4/6 [00:00<00:00, 10.58it/s]\u001b[A\n",
            "Iteration: 100%|██████████| 6/6 [00:00<00:00, 12.20it/s]\n",
            "Training Epoch:  36%|███▌      | 18/50 [00:12<00:23,  1.37it/s]\n",
            "Iteration:   0%|          | 0/6 [00:00<?, ?it/s]\u001b[A"
          ]
        },
        {
          "output_type": "stream",
          "name": "stdout",
          "text": [
            "\n",
            "######### Train Loss 110 #########\n",
            "0 0.3616 \n",
            "\n"
          ]
        },
        {
          "output_type": "stream",
          "name": "stderr",
          "text": [
            "\n",
            "Iteration:  33%|███▎      | 2/6 [00:00<00:00,  4.08it/s]\u001b[A\n",
            "Iteration:  67%|██████▋   | 4/6 [00:00<00:00,  7.66it/s]\u001b[A"
          ]
        },
        {
          "output_type": "stream",
          "name": "stdout",
          "text": [
            "\n",
            "######### Eval 110 #########\n",
            "auc: 0.6442\n"
          ]
        },
        {
          "output_type": "stream",
          "name": "stderr",
          "text": [
            "Iteration: 100%|██████████| 6/6 [00:00<00:00,  8.95it/s]\n",
            "Training Epoch:  38%|███▊      | 19/50 [00:12<00:22,  1.40it/s]\n",
            "Iteration:   0%|          | 0/6 [00:00<?, ?it/s]\u001b[A\n",
            "Iteration:  50%|█████     | 3/6 [00:00<00:00, 19.79it/s]\u001b[A\n",
            "Iteration:  83%|████████▎ | 5/6 [00:00<00:00, 16.01it/s]\u001b[A"
          ]
        },
        {
          "output_type": "stream",
          "name": "stdout",
          "text": [
            "\n",
            "######### Train Loss 120 #########\n",
            "0 0.3050 \n",
            "\n"
          ]
        },
        {
          "output_type": "stream",
          "name": "stderr",
          "text": [
            "Iteration: 100%|██████████| 6/6 [00:00<00:00,  9.50it/s]\n",
            "Training Epoch:  40%|████      | 20/50 [00:13<00:20,  1.44it/s]"
          ]
        },
        {
          "output_type": "stream",
          "name": "stdout",
          "text": [
            "\n",
            "######### Eval 120 #########\n",
            "auc: 0.6543\n"
          ]
        },
        {
          "output_type": "stream",
          "name": "stderr",
          "text": [
            "\n",
            "Iteration:   0%|          | 0/6 [00:00<?, ?it/s]\u001b[A\n",
            "Iteration:  50%|█████     | 3/6 [00:00<00:00, 22.65it/s]\u001b[A\n",
            "Iteration: 100%|██████████| 6/6 [00:00<00:00, 20.77it/s]\n",
            "Training Epoch:  42%|████▏     | 21/50 [00:13<00:16,  1.74it/s]\n",
            "Iteration:   0%|          | 0/6 [00:00<?, ?it/s]\u001b[A\n",
            "Iteration:  33%|███▎      | 2/6 [00:00<00:00, 16.82it/s]\u001b[A"
          ]
        },
        {
          "output_type": "stream",
          "name": "stdout",
          "text": [
            "\n",
            "######### Train Loss 130 #########\n",
            "0 0.2774 \n",
            "\n"
          ]
        },
        {
          "output_type": "stream",
          "name": "stderr",
          "text": [
            "\n",
            "Iteration: 100%|██████████| 6/6 [00:00<00:00,  9.38it/s]\n",
            "Training Epoch:  44%|████▍     | 22/50 [00:14<00:16,  1.67it/s]"
          ]
        },
        {
          "output_type": "stream",
          "name": "stdout",
          "text": [
            "\n",
            "######### Eval 130 #########\n",
            "auc: 0.6671\n"
          ]
        },
        {
          "output_type": "stream",
          "name": "stderr",
          "text": [
            "\n",
            "Iteration:   0%|          | 0/6 [00:00<?, ?it/s]\u001b[A\n",
            "Iteration:  33%|███▎      | 2/6 [00:00<00:00, 19.68it/s]\u001b[A\n",
            "Iteration: 100%|██████████| 6/6 [00:00<00:00, 18.88it/s]\n",
            "Training Epoch:  46%|████▌     | 23/50 [00:14<00:13,  1.93it/s]\n",
            "Iteration:   0%|          | 0/6 [00:00<?, ?it/s]\u001b[A"
          ]
        },
        {
          "output_type": "stream",
          "name": "stdout",
          "text": [
            "\n",
            "######### Train Loss 140 #########\n",
            "0 0.2445 \n",
            "\n"
          ]
        },
        {
          "output_type": "stream",
          "name": "stderr",
          "text": [
            "\n",
            "Iteration:  33%|███▎      | 2/6 [00:00<00:00,  4.96it/s]\u001b[A\n",
            "Iteration:  67%|██████▋   | 4/6 [00:00<00:00,  8.86it/s]\u001b[A"
          ]
        },
        {
          "output_type": "stream",
          "name": "stdout",
          "text": [
            "\n",
            "######### Eval 140 #########\n",
            "auc: 0.6643\n"
          ]
        },
        {
          "output_type": "stream",
          "name": "stderr",
          "text": [
            "\n",
            "Iteration: 100%|██████████| 6/6 [00:00<00:00,  9.83it/s]\n",
            "Training Epoch:  48%|████▊     | 24/50 [00:15<00:14,  1.82it/s]\n",
            "Iteration:   0%|          | 0/6 [00:00<?, ?it/s]\u001b[A\n",
            "Iteration:  33%|███▎      | 2/6 [00:00<00:00, 14.47it/s]\u001b[A\n",
            "Iteration:  67%|██████▋   | 4/6 [00:00<00:00, 15.86it/s]\u001b[A"
          ]
        },
        {
          "output_type": "stream",
          "name": "stdout",
          "text": [
            "\n",
            "######### Train Loss 150 #########\n",
            "0 0.2082 \n",
            "\n"
          ]
        },
        {
          "output_type": "stream",
          "name": "stderr",
          "text": [
            "\n",
            "Iteration: 100%|██████████| 6/6 [00:00<00:00,  9.87it/s]\n",
            "Training Epoch:  50%|█████     | 25/50 [00:15<00:14,  1.75it/s]"
          ]
        },
        {
          "output_type": "stream",
          "name": "stdout",
          "text": [
            "\n",
            "######### Eval 150 #########\n",
            "auc: 0.6568\n"
          ]
        },
        {
          "output_type": "stream",
          "name": "stderr",
          "text": [
            "\n",
            "Iteration:   0%|          | 0/6 [00:00<?, ?it/s]\u001b[A\n",
            "Iteration:  33%|███▎      | 2/6 [00:00<00:00, 19.12it/s]\u001b[A\n",
            "Iteration: 100%|██████████| 6/6 [00:00<00:00, 19.03it/s]\n",
            "Training Epoch:  52%|█████▏    | 26/50 [00:16<00:11,  2.01it/s]\n",
            "Iteration:   0%|          | 0/6 [00:00<?, ?it/s]\u001b[A\n",
            "Iteration:  50%|█████     | 3/6 [00:00<00:00, 20.45it/s]\u001b[A"
          ]
        },
        {
          "output_type": "stream",
          "name": "stdout",
          "text": [
            "\n",
            "######### Train Loss 160 #########\n",
            "0 0.1762 \n",
            "\n"
          ]
        },
        {
          "output_type": "stream",
          "name": "stderr",
          "text": [
            "\n",
            "Iteration: 100%|██████████| 6/6 [00:00<00:00, 10.06it/s]\n",
            "Training Epoch:  54%|█████▍    | 27/50 [00:16<00:12,  1.88it/s]"
          ]
        },
        {
          "output_type": "stream",
          "name": "stdout",
          "text": [
            "\n",
            "######### Eval 160 #########\n",
            "auc: 0.6365\n"
          ]
        },
        {
          "output_type": "stream",
          "name": "stderr",
          "text": [
            "\n",
            "Iteration:   0%|          | 0/6 [00:00<?, ?it/s]\u001b[A\n",
            "Iteration:  33%|███▎      | 2/6 [00:00<00:00, 14.26it/s]\u001b[A\n",
            "Iteration: 100%|██████████| 6/6 [00:00<00:00, 20.07it/s]\n",
            "Training Epoch:  56%|█████▌    | 28/50 [00:17<00:10,  2.14it/s]\n",
            "Iteration:   0%|          | 0/6 [00:00<?, ?it/s]\u001b[A"
          ]
        },
        {
          "output_type": "stream",
          "name": "stdout",
          "text": [
            "\n",
            "######### Train Loss 170 #########\n",
            "0 0.1326 \n",
            "\n"
          ]
        },
        {
          "output_type": "stream",
          "name": "stderr",
          "text": [
            "\n",
            "Iteration:  33%|███▎      | 2/6 [00:00<00:00,  5.27it/s]\u001b[A\n",
            "Iteration:  67%|██████▋   | 4/6 [00:00<00:00,  8.67it/s]\u001b[A"
          ]
        },
        {
          "output_type": "stream",
          "name": "stdout",
          "text": [
            "\n",
            "######### Eval 170 #########\n",
            "auc: 0.6347\n"
          ]
        },
        {
          "output_type": "stream",
          "name": "stderr",
          "text": [
            "Iteration: 100%|██████████| 6/6 [00:00<00:00, 10.06it/s]\n",
            "Training Epoch:  58%|█████▊    | 29/50 [00:17<00:10,  1.95it/s]\n",
            "Iteration:   0%|          | 0/6 [00:00<?, ?it/s]\u001b[A\n",
            "Iteration:  33%|███▎      | 2/6 [00:00<00:00, 19.76it/s]\u001b[A\n",
            "Iteration:  67%|██████▋   | 4/6 [00:00<00:00, 16.53it/s]\u001b[A"
          ]
        },
        {
          "output_type": "stream",
          "name": "stdout",
          "text": [
            "\n",
            "######### Train Loss 180 #########\n",
            "0 0.0992 \n",
            "\n"
          ]
        },
        {
          "output_type": "stream",
          "name": "stderr",
          "text": [
            "\n",
            "Iteration: 100%|██████████| 6/6 [00:00<00:00,  9.13it/s]\n",
            "Training Epoch:  60%|██████    | 30/50 [00:18<00:11,  1.79it/s]"
          ]
        },
        {
          "output_type": "stream",
          "name": "stdout",
          "text": [
            "\n",
            "######### Eval 180 #########\n",
            "auc: 0.6139\n"
          ]
        },
        {
          "output_type": "stream",
          "name": "stderr",
          "text": [
            "\n",
            "Iteration:   0%|          | 0/6 [00:00<?, ?it/s]\u001b[A\n",
            "Iteration:  33%|███▎      | 2/6 [00:00<00:00, 19.54it/s]\u001b[A\n",
            "Iteration: 100%|██████████| 6/6 [00:00<00:00, 19.23it/s]\n",
            "Training Epoch:  62%|██████▏   | 31/50 [00:18<00:09,  2.05it/s]\n",
            "Iteration:   0%|          | 0/6 [00:00<?, ?it/s]\u001b[A\n",
            "Iteration:  33%|███▎      | 2/6 [00:00<00:00, 16.50it/s]\u001b[A"
          ]
        },
        {
          "output_type": "stream",
          "name": "stdout",
          "text": [
            "\n",
            "######### Train Loss 190 #########\n",
            "0 0.0732 \n",
            "\n"
          ]
        },
        {
          "output_type": "stream",
          "name": "stderr",
          "text": [
            "\n",
            "Iteration: 100%|██████████| 6/6 [00:00<00:00, 10.16it/s]\n",
            "Training Epoch:  64%|██████▍   | 32/50 [00:19<00:09,  1.91it/s]"
          ]
        },
        {
          "output_type": "stream",
          "name": "stdout",
          "text": [
            "\n",
            "######### Eval 190 #########\n",
            "auc: 0.6041\n"
          ]
        },
        {
          "output_type": "stream",
          "name": "stderr",
          "text": [
            "\n",
            "Iteration:   0%|          | 0/6 [00:00<?, ?it/s]\u001b[A\n",
            "Iteration:  33%|███▎      | 2/6 [00:00<00:00, 14.73it/s]\u001b[A\n",
            "Iteration: 100%|██████████| 6/6 [00:00<00:00, 19.73it/s]\n",
            "Training Epoch:  66%|██████▌   | 33/50 [00:19<00:07,  2.17it/s]\n",
            "Iteration:   0%|          | 0/6 [00:00<?, ?it/s]\u001b[A"
          ]
        },
        {
          "output_type": "stream",
          "name": "stdout",
          "text": [
            "\n",
            "######### Train Loss 200 #########\n",
            "0 0.0519 \n",
            "\n"
          ]
        },
        {
          "output_type": "stream",
          "name": "stderr",
          "text": [
            "\n",
            "Iteration:  33%|███▎      | 2/6 [00:00<00:00,  5.74it/s]\u001b[A\n",
            "Iteration:  67%|██████▋   | 4/6 [00:00<00:00,  8.60it/s]\u001b[A"
          ]
        },
        {
          "output_type": "stream",
          "name": "stdout",
          "text": [
            "\n",
            "######### Eval 200 #########\n",
            "auc: 0.6129\n"
          ]
        },
        {
          "output_type": "stream",
          "name": "stderr",
          "text": [
            "Iteration: 100%|██████████| 6/6 [00:00<00:00, 10.09it/s]\n",
            "Training Epoch:  68%|██████▊   | 34/50 [00:20<00:08,  1.98it/s]\n",
            "Iteration:   0%|          | 0/6 [00:00<?, ?it/s]\u001b[A\n",
            "Iteration:  33%|███▎      | 2/6 [00:00<00:00, 19.98it/s]\u001b[A\n",
            "Iteration:  67%|██████▋   | 4/6 [00:00<00:00, 15.31it/s]\u001b[A"
          ]
        },
        {
          "output_type": "stream",
          "name": "stdout",
          "text": [
            "\n",
            "######### Train Loss 210 #########\n",
            "0 0.0358 \n",
            "\n"
          ]
        },
        {
          "output_type": "stream",
          "name": "stderr",
          "text": [
            "\n",
            "Iteration: 100%|██████████| 6/6 [00:00<00:00,  9.49it/s]\n",
            "Training Epoch:  70%|███████   | 35/50 [00:21<00:08,  1.82it/s]"
          ]
        },
        {
          "output_type": "stream",
          "name": "stdout",
          "text": [
            "\n",
            "######### Eval 210 #########\n",
            "auc: 0.6044\n"
          ]
        },
        {
          "output_type": "stream",
          "name": "stderr",
          "text": [
            "\n",
            "Iteration:   0%|          | 0/6 [00:00<?, ?it/s]\u001b[A\n",
            "Iteration:  17%|█▋        | 1/6 [00:00<00:00,  9.66it/s]\u001b[A\n",
            "Iteration:  50%|█████     | 3/6 [00:00<00:00,  8.97it/s]\u001b[A\n",
            "Iteration:  67%|██████▋   | 4/6 [00:00<00:00,  8.51it/s]\u001b[A\n",
            "Iteration: 100%|██████████| 6/6 [00:00<00:00, 10.21it/s]\n",
            "Training Epoch:  72%|███████▏  | 36/50 [00:21<00:07,  1.76it/s]\n",
            "Iteration:   0%|          | 0/6 [00:00<?, ?it/s]\u001b[A\n",
            "Iteration:  17%|█▋        | 1/6 [00:00<00:00,  7.71it/s]\u001b[A\n",
            "Iteration:  33%|███▎      | 2/6 [00:00<00:00,  8.62it/s]\u001b[A"
          ]
        },
        {
          "output_type": "stream",
          "name": "stdout",
          "text": [
            "\n",
            "######### Train Loss 220 #########\n",
            "0 0.0272 \n",
            "\n"
          ]
        },
        {
          "output_type": "stream",
          "name": "stderr",
          "text": [
            "\n",
            "Iteration: 100%|██████████| 6/6 [00:00<00:00,  6.09it/s]\n",
            "Training Epoch:  74%|███████▍  | 37/50 [00:22<00:09,  1.44it/s]"
          ]
        },
        {
          "output_type": "stream",
          "name": "stdout",
          "text": [
            "\n",
            "######### Eval 220 #########\n",
            "auc: 0.6068\n"
          ]
        },
        {
          "output_type": "stream",
          "name": "stderr",
          "text": [
            "\n",
            "Iteration:   0%|          | 0/6 [00:00<?, ?it/s]\u001b[A\n",
            "Iteration:  33%|███▎      | 2/6 [00:00<00:00,  9.63it/s]\u001b[A\n",
            "Iteration:  67%|██████▋   | 4/6 [00:00<00:00, 11.07it/s]\u001b[A\n",
            "Iteration: 100%|██████████| 6/6 [00:00<00:00, 11.19it/s]\n",
            "Training Epoch:  76%|███████▌  | 38/50 [00:23<00:07,  1.53it/s]\n",
            "Iteration:   0%|          | 0/6 [00:00<?, ?it/s]\u001b[A\n",
            "Iteration:  17%|█▋        | 1/6 [00:00<00:00,  8.40it/s]\u001b[A"
          ]
        },
        {
          "output_type": "stream",
          "name": "stdout",
          "text": [
            "\n",
            "######### Train Loss 230 #########\n",
            "0 0.0203 \n",
            "\n"
          ]
        },
        {
          "output_type": "stream",
          "name": "stderr",
          "text": [
            "\n",
            "Iteration:  33%|███▎      | 2/6 [00:00<00:01,  2.47it/s]\u001b[A\n",
            "Iteration:  50%|█████     | 3/6 [00:00<00:00,  3.68it/s]\u001b[A"
          ]
        },
        {
          "output_type": "stream",
          "name": "stdout",
          "text": [
            "\n",
            "######### Eval 230 #########\n",
            "auc: 0.6044\n"
          ]
        },
        {
          "output_type": "stream",
          "name": "stderr",
          "text": [
            "\n",
            "Iteration: 100%|██████████| 6/6 [00:01<00:00,  5.99it/s]\n",
            "Training Epoch:  78%|███████▊  | 39/50 [00:24<00:08,  1.30it/s]\n",
            "Iteration:   0%|          | 0/6 [00:00<?, ?it/s]\u001b[A\n",
            "Iteration:  33%|███▎      | 2/6 [00:00<00:00, 10.85it/s]\u001b[A\n",
            "Iteration:  67%|██████▋   | 4/6 [00:00<00:00, 10.76it/s]\u001b[A"
          ]
        },
        {
          "output_type": "stream",
          "name": "stdout",
          "text": [
            "\n",
            "######### Train Loss 240 #########\n",
            "0 0.0157 \n",
            "\n"
          ]
        },
        {
          "output_type": "stream",
          "name": "stderr",
          "text": [
            "\n",
            "Iteration: 100%|██████████| 6/6 [00:00<00:00,  6.31it/s]\n",
            "Training Epoch:  80%|████████  | 40/50 [00:25<00:08,  1.21it/s]"
          ]
        },
        {
          "output_type": "stream",
          "name": "stdout",
          "text": [
            "\n",
            "######### Eval 240 #########\n",
            "auc: 0.6065\n"
          ]
        },
        {
          "output_type": "stream",
          "name": "stderr",
          "text": [
            "\n",
            "Iteration:   0%|          | 0/6 [00:00<?, ?it/s]\u001b[A\n",
            "Iteration:  33%|███▎      | 2/6 [00:00<00:00, 10.16it/s]\u001b[A\n",
            "Iteration:  67%|██████▋   | 4/6 [00:00<00:00, 12.44it/s]\u001b[A\n",
            "Iteration: 100%|██████████| 6/6 [00:00<00:00, 13.24it/s]\n",
            "Training Epoch:  82%|████████▏ | 41/50 [00:25<00:06,  1.39it/s]\n",
            "Iteration:   0%|          | 0/6 [00:00<?, ?it/s]\u001b[A\n",
            "Iteration:  17%|█▋        | 1/6 [00:00<00:00,  9.42it/s]\u001b[A\n",
            "Iteration:  50%|█████     | 3/6 [00:00<00:00, 11.00it/s]\u001b[A"
          ]
        },
        {
          "output_type": "stream",
          "name": "stdout",
          "text": [
            "\n",
            "######### Train Loss 250 #########\n",
            "0 0.0125 \n",
            "\n"
          ]
        },
        {
          "output_type": "stream",
          "name": "stderr",
          "text": [
            "\n",
            "Iteration: 100%|██████████| 6/6 [00:00<00:00,  6.21it/s]\n",
            "Training Epoch:  84%|████████▍ | 42/50 [00:26<00:06,  1.26it/s]"
          ]
        },
        {
          "output_type": "stream",
          "name": "stdout",
          "text": [
            "\n",
            "######### Eval 250 #########\n",
            "auc: 0.6020\n"
          ]
        },
        {
          "output_type": "stream",
          "name": "stderr",
          "text": [
            "\n",
            "Iteration:   0%|          | 0/6 [00:00<?, ?it/s]\u001b[A\n",
            "Iteration:  33%|███▎      | 2/6 [00:00<00:00, 14.48it/s]\u001b[A\n",
            "Iteration:  67%|██████▋   | 4/6 [00:00<00:00, 12.04it/s]\u001b[A\n",
            "Iteration: 100%|██████████| 6/6 [00:00<00:00, 12.28it/s]\n",
            "Training Epoch:  86%|████████▌ | 43/50 [00:27<00:04,  1.41it/s]\n",
            "Iteration:   0%|          | 0/6 [00:00<?, ?it/s]\u001b[A"
          ]
        },
        {
          "output_type": "stream",
          "name": "stdout",
          "text": [
            "\n",
            "######### Train Loss 260 #########\n",
            "0 0.0110 \n",
            "\n"
          ]
        },
        {
          "output_type": "stream",
          "name": "stderr",
          "text": [
            "\n",
            "Iteration:  33%|███▎      | 2/6 [00:00<00:01,  3.17it/s]\u001b[A\n",
            "Iteration:  67%|██████▋   | 4/6 [00:00<00:00,  5.77it/s]\u001b[A"
          ]
        },
        {
          "output_type": "stream",
          "name": "stdout",
          "text": [
            "\n",
            "######### Eval 260 #########\n",
            "auc: 0.5978\n"
          ]
        },
        {
          "output_type": "stream",
          "name": "stderr",
          "text": [
            "\n",
            "Iteration: 100%|██████████| 6/6 [00:00<00:00,  6.68it/s]\n",
            "Training Epoch:  88%|████████▊ | 44/50 [00:28<00:04,  1.30it/s]\n",
            "Iteration:   0%|          | 0/6 [00:00<?, ?it/s]\u001b[A\n",
            "Iteration:  33%|███▎      | 2/6 [00:00<00:00, 12.28it/s]\u001b[A\n",
            "Iteration:  67%|██████▋   | 4/6 [00:00<00:00, 14.58it/s]\u001b[A"
          ]
        },
        {
          "output_type": "stream",
          "name": "stdout",
          "text": [
            "\n",
            "######### Train Loss 270 #########\n",
            "0 0.0088 \n",
            "\n"
          ]
        },
        {
          "output_type": "stream",
          "name": "stderr",
          "text": [
            "\n",
            "Iteration: 100%|██████████| 6/6 [00:00<00:00,  8.40it/s]\n",
            "Training Epoch:  90%|█████████ | 45/50 [00:28<00:03,  1.32it/s]"
          ]
        },
        {
          "output_type": "stream",
          "name": "stdout",
          "text": [
            "\n",
            "######### Eval 270 #########\n",
            "auc: 0.5970\n"
          ]
        },
        {
          "output_type": "stream",
          "name": "stderr",
          "text": [
            "\n",
            "Iteration:   0%|          | 0/6 [00:00<?, ?it/s]\u001b[A\n",
            "Iteration:  33%|███▎      | 2/6 [00:00<00:00, 15.72it/s]\u001b[A\n",
            "Iteration: 100%|██████████| 6/6 [00:00<00:00, 16.86it/s]\n",
            "Training Epoch:  92%|█████████▏| 46/50 [00:29<00:02,  1.56it/s]\n",
            "Iteration:   0%|          | 0/6 [00:00<?, ?it/s]\u001b[A\n",
            "Iteration:  33%|███▎      | 2/6 [00:00<00:00, 16.92it/s]\u001b[A"
          ]
        },
        {
          "output_type": "stream",
          "name": "stdout",
          "text": [
            "\n",
            "######### Train Loss 280 #########\n",
            "0 0.0079 \n",
            "\n"
          ]
        },
        {
          "output_type": "stream",
          "name": "stderr",
          "text": [
            "\n",
            "Iteration: 100%|██████████| 6/6 [00:00<00:00,  8.20it/s]\n",
            "Training Epoch:  94%|█████████▍| 47/50 [00:29<00:02,  1.49it/s]"
          ]
        },
        {
          "output_type": "stream",
          "name": "stdout",
          "text": [
            "\n",
            "######### Eval 280 #########\n",
            "auc: 0.5981\n"
          ]
        },
        {
          "output_type": "stream",
          "name": "stderr",
          "text": [
            "\n",
            "Iteration:   0%|          | 0/6 [00:00<?, ?it/s]\u001b[A\n",
            "Iteration:  33%|███▎      | 2/6 [00:00<00:00, 18.30it/s]\u001b[A\n",
            "Iteration: 100%|██████████| 6/6 [00:00<00:00, 18.14it/s]\n",
            "Training Epoch:  96%|█████████▌| 48/50 [00:30<00:01,  1.74it/s]\n",
            "Iteration:   0%|          | 0/6 [00:00<?, ?it/s]\u001b[A"
          ]
        },
        {
          "output_type": "stream",
          "name": "stdout",
          "text": [
            "\n",
            "######### Train Loss 290 #########\n",
            "0 0.0066 \n",
            "\n"
          ]
        },
        {
          "output_type": "stream",
          "name": "stderr",
          "text": [
            "\n",
            "Iteration:  33%|███▎      | 2/6 [00:00<00:00,  5.21it/s]\u001b[A\n",
            "Iteration:  67%|██████▋   | 4/6 [00:00<00:00,  9.05it/s]\u001b[A"
          ]
        },
        {
          "output_type": "stream",
          "name": "stdout",
          "text": [
            "\n",
            "######### Eval 290 #########\n",
            "auc: 0.5940\n"
          ]
        },
        {
          "output_type": "stream",
          "name": "stderr",
          "text": [
            "Iteration: 100%|██████████| 6/6 [00:00<00:00, 10.34it/s]\n",
            "Training Epoch:  98%|█████████▊| 49/50 [00:30<00:00,  1.72it/s]\n",
            "Iteration:   0%|          | 0/6 [00:00<?, ?it/s]\u001b[A\n",
            "Iteration:  33%|███▎      | 2/6 [00:00<00:00, 17.24it/s]\u001b[A\n",
            "Iteration:  67%|██████▋   | 4/6 [00:00<00:00, 18.33it/s]\u001b[A"
          ]
        },
        {
          "output_type": "stream",
          "name": "stdout",
          "text": [
            "\n",
            "######### Train Loss 300 #########\n",
            "0 0.0062 \n",
            "\n"
          ]
        },
        {
          "output_type": "stream",
          "name": "stderr",
          "text": [
            "\n",
            "Iteration: 100%|██████████| 6/6 [00:00<00:00,  9.95it/s]\n",
            "Training Epoch: 100%|██████████| 50/50 [00:31<00:00,  1.59it/s]\n"
          ]
        },
        {
          "output_type": "stream",
          "name": "stdout",
          "text": [
            "\n",
            "######### Eval 300 #########\n",
            "auc: 0.5922\n",
            "Load best ckpt from `./checkpoints/best`.\n",
            "Training completes.\n",
            "{'lr': 0.0005, 'weight_decay': 0}\n",
            "***** Running training *****\n",
            "  Num examples = 350\n",
            "  Num Epochs = 50\n",
            "  Total optimization steps = 150\n"
          ]
        },
        {
          "output_type": "stream",
          "name": "stderr",
          "text": [
            "Training Epoch:   0%|          | 0/50 [00:00<?, ?it/s]\n",
            "Iteration: 100%|██████████| 3/3 [00:00<00:00, 32.86it/s]\n",
            "Training Epoch:   2%|▏         | 1/50 [00:00<00:05,  9.74it/s]\n",
            "Iteration: 100%|██████████| 3/3 [00:00<00:00, 39.22it/s]\n",
            "\n",
            "Iteration: 100%|██████████| 3/3 [00:00<00:00, 38.96it/s]\n",
            "Training Epoch:   6%|▌         | 3/50 [00:00<00:04, 10.74it/s]\n",
            "Iteration:   0%|          | 0/3 [00:00<?, ?it/s]\u001b[A\n",
            "Iteration:  33%|███▎      | 1/3 [00:00<00:00,  5.29it/s]\u001b[A"
          ]
        },
        {
          "output_type": "stream",
          "name": "stdout",
          "text": [
            "\n",
            "######### Train Loss 10 #########\n",
            "0 0.6600 \n",
            "\n",
            "\n",
            "######### Eval 10 #########\n",
            "auc: 0.3604\n"
          ]
        },
        {
          "output_type": "stream",
          "name": "stderr",
          "text": [
            "\rIteration: 100%|██████████| 3/3 [00:00<00:00, 12.08it/s]\n",
            "\n",
            "Iteration: 100%|██████████| 3/3 [00:00<00:00, 38.22it/s]\n",
            "Training Epoch:  10%|█         | 5/50 [00:00<00:06,  7.23it/s]\n",
            "Iteration: 100%|██████████| 3/3 [00:00<00:00, 41.14it/s]\n",
            "\n",
            "Iteration:   0%|          | 0/3 [00:00<?, ?it/s]\u001b[A\n",
            "Iteration: 100%|██████████| 3/3 [00:00<00:00, 12.80it/s]\n",
            "Training Epoch:  14%|█▍        | 7/50 [00:00<00:06,  6.59it/s]"
          ]
        },
        {
          "output_type": "stream",
          "name": "stdout",
          "text": [
            "\n",
            "######### Train Loss 20 #########\n",
            "0 0.6140 \n",
            "\n",
            "\n",
            "######### Eval 20 #########\n",
            "auc: 0.3701\n"
          ]
        },
        {
          "output_type": "stream",
          "name": "stderr",
          "text": [
            "\n",
            "Iteration: 100%|██████████| 3/3 [00:00<00:00, 40.53it/s]\n",
            "\n",
            "Iteration: 100%|██████████| 3/3 [00:00<00:00, 42.96it/s]\n",
            "Training Epoch:  18%|█▊        | 9/50 [00:01<00:05,  7.89it/s]\n",
            "Iteration:   0%|          | 0/3 [00:00<?, ?it/s]\u001b[A\n",
            "Iteration: 100%|██████████| 3/3 [00:00<00:00, 12.84it/s]\n",
            "Training Epoch:  20%|██        | 10/50 [00:01<00:06,  6.49it/s]"
          ]
        },
        {
          "output_type": "stream",
          "name": "stdout",
          "text": [
            "\n",
            "######### Train Loss 30 #########\n",
            "0 0.5679 \n",
            "\n",
            "\n",
            "######### Eval 30 #########\n",
            "auc: 0.3848\n"
          ]
        },
        {
          "output_type": "stream",
          "name": "stderr",
          "text": [
            "\n",
            "Iteration: 100%|██████████| 3/3 [00:00<00:00, 36.01it/s]\n",
            "\n",
            "Iteration: 100%|██████████| 3/3 [00:00<00:00, 39.59it/s]\n",
            "Training Epoch:  24%|██▍       | 12/50 [00:01<00:04,  7.67it/s]\n",
            "Iteration: 100%|██████████| 3/3 [00:00<00:00, 38.75it/s]\n",
            "\n",
            "Iteration:   0%|          | 0/3 [00:00<?, ?it/s]\u001b[A\n",
            "Iteration:  33%|███▎      | 1/3 [00:00<00:00,  5.82it/s]\u001b[A"
          ]
        },
        {
          "output_type": "stream",
          "name": "stdout",
          "text": [
            "\n",
            "######### Train Loss 40 #########\n",
            "0 0.5443 \n",
            "\n",
            "\n",
            "######### Eval 40 #########\n",
            "auc: 0.4182\n"
          ]
        },
        {
          "output_type": "stream",
          "name": "stderr",
          "text": [
            "Iteration: 100%|██████████| 3/3 [00:00<00:00, 12.39it/s]\n",
            "Training Epoch:  28%|██▊       | 14/50 [00:01<00:05,  6.89it/s]\n",
            "Iteration: 100%|██████████| 3/3 [00:00<00:00, 43.74it/s]\n",
            "\n",
            "Iteration: 100%|██████████| 3/3 [00:00<00:00, 38.16it/s]\n",
            "Training Epoch:  32%|███▏      | 16/50 [00:02<00:04,  7.91it/s]\n",
            "Iteration:   0%|          | 0/3 [00:00<?, ?it/s]\u001b[A\n",
            "Iteration: 100%|██████████| 3/3 [00:00<00:00, 12.60it/s]\n",
            "Training Epoch:  34%|███▍      | 17/50 [00:02<00:04,  6.67it/s]"
          ]
        },
        {
          "output_type": "stream",
          "name": "stdout",
          "text": [
            "\n",
            "######### Train Loss 50 #########\n",
            "0 0.5314 \n",
            "\n",
            "\n",
            "######### Eval 50 #########\n",
            "auc: 0.5152\n"
          ]
        },
        {
          "output_type": "stream",
          "name": "stderr",
          "text": [
            "\n",
            "Iteration: 100%|██████████| 3/3 [00:00<00:00, 39.71it/s]\n",
            "\n",
            "Iteration: 100%|██████████| 3/3 [00:00<00:00, 41.68it/s]\n",
            "Training Epoch:  38%|███▊      | 19/50 [00:02<00:03,  7.75it/s]\n",
            "Iteration:   0%|          | 0/3 [00:00<?, ?it/s]\u001b[A\n",
            "Iteration: 100%|██████████| 3/3 [00:00<00:00, 13.12it/s]\n",
            "Training Epoch:  40%|████      | 20/50 [00:02<00:04,  6.61it/s]"
          ]
        },
        {
          "output_type": "stream",
          "name": "stdout",
          "text": [
            "\n",
            "######### Train Loss 60 #########\n",
            "0 0.4911 \n",
            "\n",
            "\n",
            "######### Eval 60 #########\n",
            "auc: 0.5932\n"
          ]
        },
        {
          "output_type": "stream",
          "name": "stderr",
          "text": [
            "\n",
            "Iteration: 100%|██████████| 3/3 [00:00<00:00, 35.95it/s]\n",
            "\n",
            "Iteration: 100%|██████████| 3/3 [00:00<00:00, 37.25it/s]\n",
            "Training Epoch:  44%|████▍     | 22/50 [00:02<00:03,  7.58it/s]\n",
            "Iteration: 100%|██████████| 3/3 [00:00<00:00, 40.03it/s]\n",
            "\n",
            "Iteration:   0%|          | 0/3 [00:00<?, ?it/s]\u001b[A\n",
            "Iteration:  33%|███▎      | 1/3 [00:00<00:00,  5.45it/s]\u001b[A"
          ]
        },
        {
          "output_type": "stream",
          "name": "stdout",
          "text": [
            "\n",
            "######### Train Loss 70 #########\n",
            "0 0.4528 \n",
            "\n",
            "\n",
            "######### Eval 70 #########\n",
            "auc: 0.6396\n"
          ]
        },
        {
          "output_type": "stream",
          "name": "stderr",
          "text": [
            "Iteration: 100%|██████████| 3/3 [00:00<00:00, 12.10it/s]\n",
            "Training Epoch:  48%|████▊     | 24/50 [00:03<00:03,  6.80it/s]\n",
            "Iteration: 100%|██████████| 3/3 [00:00<00:00, 36.95it/s]\n",
            "\n",
            "Iteration: 100%|██████████| 3/3 [00:00<00:00, 39.45it/s]\n",
            "Training Epoch:  52%|█████▏    | 26/50 [00:03<00:03,  7.74it/s]\n",
            "Iteration:   0%|          | 0/3 [00:00<?, ?it/s]\u001b[A\n",
            "Iteration:  67%|██████▋   | 2/3 [00:00<00:00,  8.01it/s]\u001b[A"
          ]
        },
        {
          "output_type": "stream",
          "name": "stdout",
          "text": [
            "\n",
            "######### Train Loss 80 #########\n",
            "0 0.3961 \n",
            "\n",
            "\n",
            "######### Eval 80 #########\n",
            "auc: 0.6772\n"
          ]
        },
        {
          "output_type": "stream",
          "name": "stderr",
          "text": [
            "Iteration: 100%|██████████| 3/3 [00:00<00:00, 10.54it/s]\n",
            "Training Epoch:  54%|█████▍    | 27/50 [00:03<00:03,  6.20it/s]\n",
            "Iteration: 100%|██████████| 3/3 [00:00<00:00, 40.65it/s]\n",
            "\n",
            "Iteration: 100%|██████████| 3/3 [00:00<00:00, 37.82it/s]\n",
            "Training Epoch:  58%|█████▊    | 29/50 [00:04<00:02,  7.27it/s]\n",
            "Iteration:   0%|          | 0/3 [00:00<?, ?it/s]\u001b[A\n",
            "Iteration: 100%|██████████| 3/3 [00:00<00:00, 13.05it/s]\n",
            "Training Epoch:  60%|██████    | 30/50 [00:04<00:03,  6.29it/s]"
          ]
        },
        {
          "output_type": "stream",
          "name": "stdout",
          "text": [
            "\n",
            "######### Train Loss 90 #########\n",
            "0 0.3256 \n",
            "\n",
            "\n",
            "######### Eval 90 #########\n",
            "auc: 0.6944\n"
          ]
        },
        {
          "output_type": "stream",
          "name": "stderr",
          "text": [
            "\n",
            "Iteration: 100%|██████████| 3/3 [00:00<00:00, 34.73it/s]\n",
            "Training Epoch:  62%|██████▏   | 31/50 [00:04<00:02,  6.85it/s]\n",
            "Iteration: 100%|██████████| 3/3 [00:00<00:00, 38.97it/s]\n",
            "\n",
            "Iteration: 100%|██████████| 3/3 [00:00<00:00, 39.76it/s]\n",
            "Training Epoch:  66%|██████▌   | 33/50 [00:04<00:02,  8.06it/s]\n",
            "Iteration:   0%|          | 0/3 [00:00<?, ?it/s]\u001b[A\n",
            "Iteration: 100%|██████████| 3/3 [00:00<00:00, 13.08it/s]"
          ]
        },
        {
          "output_type": "stream",
          "name": "stdout",
          "text": [
            "\n",
            "######### Train Loss 100 #########\n",
            "0 0.2753 \n",
            "\n",
            "\n",
            "######### Eval 100 #########\n",
            "auc: 0.7007\n"
          ]
        },
        {
          "output_type": "stream",
          "name": "stderr",
          "text": [
            "\n",
            "Training Epoch:  68%|██████▊   | 34/50 [00:04<00:02,  6.66it/s]\n",
            "Iteration: 100%|██████████| 3/3 [00:00<00:00, 42.48it/s]\n",
            "\n",
            "Iteration: 100%|██████████| 3/3 [00:00<00:00, 40.05it/s]\n",
            "Training Epoch:  72%|███████▏  | 36/50 [00:04<00:01,  8.00it/s]\n",
            "Iteration:   0%|          | 0/3 [00:00<?, ?it/s]\u001b[A\n",
            "Iteration: 100%|██████████| 3/3 [00:00<00:00, 12.93it/s]\n",
            "Training Epoch:  74%|███████▍  | 37/50 [00:05<00:01,  6.61it/s]"
          ]
        },
        {
          "output_type": "stream",
          "name": "stdout",
          "text": [
            "\n",
            "######### Train Loss 110 #########\n",
            "0 0.2247 \n",
            "\n",
            "\n",
            "######### Eval 110 #########\n",
            "auc: 0.7073\n"
          ]
        },
        {
          "output_type": "stream",
          "name": "stderr",
          "text": [
            "\n",
            "Iteration: 100%|██████████| 3/3 [00:00<00:00, 38.68it/s]\n",
            "\n",
            "Iteration: 100%|██████████| 3/3 [00:00<00:00, 38.18it/s]\n",
            "Training Epoch:  78%|███████▊  | 39/50 [00:05<00:01,  7.79it/s]\n",
            "Iteration:   0%|          | 0/3 [00:00<?, ?it/s]\u001b[A\n",
            "Iteration: 100%|██████████| 3/3 [00:00<00:00, 11.57it/s]\n",
            "Training Epoch:  80%|████████  | 40/50 [00:05<00:01,  6.30it/s]"
          ]
        },
        {
          "output_type": "stream",
          "name": "stdout",
          "text": [
            "\n",
            "######### Train Loss 120 #########\n",
            "0 0.1758 \n",
            "\n",
            "\n",
            "######### Eval 120 #########\n",
            "auc: 0.7112\n"
          ]
        },
        {
          "output_type": "stream",
          "name": "stderr",
          "text": [
            "\n",
            "Iteration: 100%|██████████| 3/3 [00:00<00:00, 33.05it/s]\n",
            "Training Epoch:  82%|████████▏ | 41/50 [00:05<00:01,  6.82it/s]\n",
            "Iteration: 100%|██████████| 3/3 [00:00<00:00, 35.75it/s]\n",
            "Training Epoch:  84%|████████▍ | 42/50 [00:05<00:01,  7.39it/s]\n",
            "Iteration: 100%|██████████| 3/3 [00:00<00:00, 38.78it/s]\n",
            "\n",
            "Iteration:   0%|          | 0/3 [00:00<?, ?it/s]\u001b[A\n",
            "Iteration:  33%|███▎      | 1/3 [00:00<00:00,  5.34it/s]\u001b[A"
          ]
        },
        {
          "output_type": "stream",
          "name": "stdout",
          "text": [
            "\n",
            "######### Train Loss 130 #########\n",
            "0 0.1313 \n",
            "\n",
            "\n",
            "######### Eval 130 #########\n",
            "auc: 0.7133\n"
          ]
        },
        {
          "output_type": "stream",
          "name": "stderr",
          "text": [
            "Iteration: 100%|██████████| 3/3 [00:00<00:00, 12.46it/s]\n",
            "Training Epoch:  88%|████████▊ | 44/50 [00:06<00:00,  6.58it/s]\n",
            "Iteration: 100%|██████████| 3/3 [00:00<00:00, 38.28it/s]\n",
            "\n",
            "Iteration: 100%|██████████| 3/3 [00:00<00:00, 38.51it/s]\n",
            "Training Epoch:  92%|█████████▏| 46/50 [00:06<00:00,  7.71it/s]\n",
            "Iteration:   0%|          | 0/3 [00:00<?, ?it/s]\u001b[A\n",
            "Iteration: 100%|██████████| 3/3 [00:00<00:00, 12.89it/s]\n",
            "Training Epoch:  94%|█████████▍| 47/50 [00:06<00:00,  6.42it/s]"
          ]
        },
        {
          "output_type": "stream",
          "name": "stdout",
          "text": [
            "\n",
            "######### Train Loss 140 #########\n",
            "0 0.0859 \n",
            "\n",
            "\n",
            "######### Eval 140 #########\n",
            "auc: 0.7055\n"
          ]
        },
        {
          "output_type": "stream",
          "name": "stderr",
          "text": [
            "\n",
            "Iteration: 100%|██████████| 3/3 [00:00<00:00, 39.00it/s]\n",
            "\n",
            "Iteration: 100%|██████████| 3/3 [00:00<00:00, 40.96it/s]\n",
            "Training Epoch:  98%|█████████▊| 49/50 [00:06<00:00,  7.62it/s]\n",
            "Iteration:   0%|          | 0/3 [00:00<?, ?it/s]\u001b[A\n",
            "Iteration: 100%|██████████| 3/3 [00:00<00:00, 15.07it/s]\n",
            "Training Epoch: 100%|██████████| 50/50 [00:07<00:00,  7.10it/s]"
          ]
        },
        {
          "output_type": "stream",
          "name": "stdout",
          "text": [
            "\n",
            "######### Train Loss 150 #########\n",
            "0 0.0482 \n",
            "\n",
            "\n",
            "######### Eval 150 #########\n",
            "auc: 0.7046\n",
            "Load best ckpt from `./checkpoints/best`.\n",
            "Training completes.\n"
          ]
        },
        {
          "output_type": "stream",
          "name": "stderr",
          "text": [
            "\n"
          ]
        },
        {
          "output_type": "stream",
          "name": "stdout",
          "text": [
            "{'real-data-model-auc': 0.6670813817330211, 'syn-data-model-auc': 0.6949648711943793}\n"
          ]
        }
      ]
    },
    {
      "cell_type": "markdown",
      "source": [
        "### **Step 6: Train the model**\n",
        "\n",
        "- We can also train PromptEHR from scratch."
      ],
      "metadata": {
        "id": "n3j21A4u9O07"
      }
    },
    {
      "cell_type": "code",
      "source": [
        "# reset the training hyperparameters\n",
        "model.update_config({'epoch':1, 'batch_size':2})"
      ],
      "metadata": {
        "colab": {
          "base_uri": "https://localhost:8080/"
        },
        "id": "DwXzSIJZFnpO",
        "outputId": "2342bf50-fa2a-4a87-c166-fc5c97fac502"
      },
      "execution_count": null,
      "outputs": [
        {
          "output_type": "stream",
          "name": "stdout",
          "text": [
            "### Model Config ###\n",
            "{'code_type': ['diag', 'prod', 'med'], 'n_num_feature': 1, 'cat_cardinalities': [2, 37], 'epoch': 1, 'batch_size': 2, 'eval_batch_size': 16, 'eval_step': 500, 'learning_rate': 5e-05, 'weight_decay': 0.0001}\n",
            "### Training Args ###\n",
            "TrainingArguments(\n",
            "_n_gpu=1,\n",
            "adafactor=False,\n",
            "adam_beta1=0.9,\n",
            "adam_beta2=0.999,\n",
            "adam_epsilon=1e-08,\n",
            "auto_find_batch_size=False,\n",
            "bf16=False,\n",
            "bf16_full_eval=False,\n",
            "data_seed=None,\n",
            "dataloader_drop_last=False,\n",
            "dataloader_num_workers=8,\n",
            "dataloader_pin_memory=True,\n",
            "ddp_bucket_cap_mb=None,\n",
            "ddp_find_unused_parameters=None,\n",
            "ddp_timeout=1800,\n",
            "debug=[],\n",
            "deepspeed=None,\n",
            "disable_tqdm=False,\n",
            "do_eval=True,\n",
            "do_predict=False,\n",
            "do_train=False,\n",
            "eval_accumulation_steps=10,\n",
            "eval_delay=0,\n",
            "eval_steps=1000,\n",
            "evaluation_strategy=steps,\n",
            "fp16=False,\n",
            "fp16_backend=auto,\n",
            "fp16_full_eval=False,\n",
            "fp16_opt_level=O1,\n",
            "fsdp=[],\n",
            "fsdp_min_num_params=0,\n",
            "fsdp_transformer_layer_cls_to_wrap=None,\n",
            "full_determinism=False,\n",
            "gradient_accumulation_steps=1,\n",
            "gradient_checkpointing=False,\n",
            "greater_is_better=False,\n",
            "group_by_length=False,\n",
            "half_precision_backend=auto,\n",
            "hub_model_id=None,\n",
            "hub_private_repo=False,\n",
            "hub_strategy=every_save,\n",
            "hub_token=<HUB_TOKEN>,\n",
            "ignore_data_skip=False,\n",
            "include_inputs_for_metrics=False,\n",
            "jit_mode_eval=False,\n",
            "label_names=None,\n",
            "label_smoothing_factor=0.0,\n",
            "learning_rate=5e-05,\n",
            "length_column_name=length,\n",
            "load_best_model_at_end=True,\n",
            "local_rank=-1,\n",
            "log_level=passive,\n",
            "log_level_replica=passive,\n",
            "log_on_each_node=True,\n",
            "logging_dir=./experiments_records/trial_simulation.sequence.promptehr/checkpoints,\n",
            "logging_first_step=False,\n",
            "logging_nan_inf_filter=True,\n",
            "logging_steps=1000,\n",
            "logging_strategy=steps,\n",
            "lr_scheduler_type=linear,\n",
            "max_grad_norm=0.5,\n",
            "max_steps=-1,\n",
            "metric_for_best_model=('eval_ppl_diag',),\n",
            "mp_parameters=,\n",
            "no_cuda=False,\n",
            "num_train_epochs=50,\n",
            "optim=adamw_hf,\n",
            "output_dir=./experiments_records/trial_simulation.sequence.promptehr/checkpoints,\n",
            "overwrite_output_dir=True,\n",
            "past_index=-1,\n",
            "per_device_eval_batch_size=16,\n",
            "per_device_train_batch_size=2,\n",
            "prediction_loss_only=False,\n",
            "push_to_hub=False,\n",
            "push_to_hub_model_id=None,\n",
            "push_to_hub_organization=None,\n",
            "push_to_hub_token=<PUSH_TO_HUB_TOKEN>,\n",
            "ray_scope=last,\n",
            "remove_unused_columns=True,\n",
            "report_to=['tensorboard'],\n",
            "resume_from_checkpoint=None,\n",
            "run_name=./experiments_records/trial_simulation.sequence.promptehr/checkpoints,\n",
            "save_on_each_node=False,\n",
            "save_steps=1000,\n",
            "save_strategy=steps,\n",
            "save_total_limit=5,\n",
            "seed=123,\n",
            "sharded_ddp=[],\n",
            "skip_memory_metrics=True,\n",
            "tf32=None,\n",
            "torchdynamo=None,\n",
            "tpu_metrics_debug=False,\n",
            "tpu_num_cores=None,\n",
            "use_ipex=False,\n",
            "use_legacy_prediction_loop=False,\n",
            "use_mps_device=False,\n",
            "warmup_ratio=0.06,\n",
            "warmup_steps=0,\n",
            "weight_decay=0.0001,\n",
            "xpu_backend=None,\n",
            ")\n"
          ]
        }
      ]
    },
    {
      "cell_type": "code",
      "source": [
        "import torch\n",
        "with torch.no_grad():\n",
        "    torch.cuda.empty_cache()"
      ],
      "metadata": {
        "id": "RLoaUqIkom_E"
      },
      "execution_count": null,
      "outputs": []
    },
    {
      "cell_type": "code",
      "source": [
        "model.fit(train_data)"
      ],
      "metadata": {
        "colab": {
          "base_uri": "https://localhost:8080/",
          "height": 1000
        },
        "id": "wBV-Sg-T9YpJ",
        "outputId": "4dca0686-de3b-4f06-921e-2443ee84c9f9"
      },
      "execution_count": null,
      "outputs": [
        {
          "output_type": "stream",
          "name": "stderr",
          "text": [
            "loading configuration file config.json from cache at /root/.cache/huggingface/hub/models--facebook--bart-base/snapshots/84358834e73de6a82c22cec1d90eb45ef4f6eba5/config.json\n",
            "Model config BartConfig {\n",
            "  \"_name_or_path\": \"bart-base\",\n",
            "  \"activation_dropout\": 0.1,\n",
            "  \"activation_function\": \"gelu\",\n",
            "  \"add_bias_logits\": false,\n",
            "  \"add_final_layer_norm\": false,\n",
            "  \"architectures\": [\n",
            "    \"BartModel\"\n",
            "  ],\n",
            "  \"attention_dropout\": 0.1,\n",
            "  \"bos_token_id\": 0,\n",
            "  \"classif_dropout\": 0.1,\n",
            "  \"classifier_dropout\": 0.0,\n",
            "  \"d_model\": 768,\n",
            "  \"decoder_attention_heads\": 12,\n",
            "  \"decoder_ffn_dim\": 3072,\n",
            "  \"decoder_layerdrop\": 0.0,\n",
            "  \"decoder_layers\": 6,\n",
            "  \"decoder_start_token_id\": 2,\n",
            "  \"dropout\": 0.1,\n",
            "  \"early_stopping\": true,\n",
            "  \"encoder_attention_heads\": 12,\n",
            "  \"encoder_ffn_dim\": 3072,\n",
            "  \"encoder_layerdrop\": 0.0,\n",
            "  \"encoder_layers\": 6,\n",
            "  \"eos_token_id\": 2,\n",
            "  \"forced_bos_token_id\": 0,\n",
            "  \"forced_eos_token_id\": 2,\n",
            "  \"gradient_checkpointing\": false,\n",
            "  \"id2label\": {\n",
            "    \"0\": \"LABEL_0\",\n",
            "    \"1\": \"LABEL_1\",\n",
            "    \"2\": \"LABEL_2\"\n",
            "  },\n",
            "  \"init_std\": 0.02,\n",
            "  \"is_encoder_decoder\": true,\n",
            "  \"label2id\": {\n",
            "    \"LABEL_0\": 0,\n",
            "    \"LABEL_1\": 1,\n",
            "    \"LABEL_2\": 2\n",
            "  },\n",
            "  \"max_position_embeddings\": 1024,\n",
            "  \"model_type\": \"bart\",\n",
            "  \"no_repeat_ngram_size\": 3,\n",
            "  \"normalize_before\": false,\n",
            "  \"normalize_embedding\": true,\n",
            "  \"num_beams\": 4,\n",
            "  \"num_hidden_layers\": 6,\n",
            "  \"pad_token_id\": 1,\n",
            "  \"scale_embedding\": false,\n",
            "  \"task_specific_params\": {\n",
            "    \"summarization\": {\n",
            "      \"length_penalty\": 1.0,\n",
            "      \"max_length\": 128,\n",
            "      \"min_length\": 12,\n",
            "      \"num_beams\": 4\n",
            "    },\n",
            "    \"summarization_cnn\": {\n",
            "      \"length_penalty\": 2.0,\n",
            "      \"max_length\": 142,\n",
            "      \"min_length\": 56,\n",
            "      \"num_beams\": 4\n",
            "    },\n",
            "    \"summarization_xsum\": {\n",
            "      \"length_penalty\": 1.0,\n",
            "      \"max_length\": 62,\n",
            "      \"min_length\": 11,\n",
            "      \"num_beams\": 6\n",
            "    }\n",
            "  },\n",
            "  \"torch_dtype\": \"float32\",\n",
            "  \"transformers_version\": \"4.24.0\",\n",
            "  \"use_cache\": true,\n",
            "  \"vocab_size\": 50265\n",
            "}\n",
            "\n"
          ]
        },
        {
          "output_type": "error",
          "ename": "RuntimeError",
          "evalue": "ignored",
          "traceback": [
            "\u001b[0;31m---------------------------------------------------------------------------\u001b[0m",
            "\u001b[0;31mRuntimeError\u001b[0m                              Traceback (most recent call last)",
            "\u001b[0;32m<ipython-input-21-2101b88d0b95>\u001b[0m in \u001b[0;36m<module>\u001b[0;34m\u001b[0m\n\u001b[0;32m----> 1\u001b[0;31m \u001b[0mmodel\u001b[0m\u001b[0;34m.\u001b[0m\u001b[0mfit\u001b[0m\u001b[0;34m(\u001b[0m\u001b[0mtrain_data\u001b[0m\u001b[0;34m)\u001b[0m\u001b[0;34m\u001b[0m\u001b[0;34m\u001b[0m\u001b[0m\n\u001b[0m",
            "\u001b[0;32m/content/gdrive/MyDrive/PyTrial_dev_group/tutorials/pytrial/tasks/trial_simulation/sequence/promptehr.py\u001b[0m in \u001b[0;36mfit\u001b[0;34m(self, train_data, val_data)\u001b[0m\n\u001b[1;32m    124\u001b[0m             \u001b[0mvisit\u001b[0m \u001b[0msequence\u001b[0m \u001b[0mof\u001b[0m \u001b[0mdifferent\u001b[0m \u001b[0mevents\u001b[0m\u001b[0;34m.\u001b[0m\u001b[0;34m\u001b[0m\u001b[0;34m\u001b[0m\u001b[0m\n\u001b[1;32m    125\u001b[0m         '''\n\u001b[0;32m--> 126\u001b[0;31m         \u001b[0mself\u001b[0m\u001b[0;34m.\u001b[0m\u001b[0mmodel\u001b[0m\u001b[0;34m.\u001b[0m\u001b[0mfit\u001b[0m\u001b[0;34m(\u001b[0m\u001b[0mtrain_data\u001b[0m\u001b[0;34m=\u001b[0m\u001b[0mtrain_data\u001b[0m\u001b[0;34m,\u001b[0m \u001b[0mval_data\u001b[0m\u001b[0;34m=\u001b[0m\u001b[0mval_data\u001b[0m\u001b[0;34m)\u001b[0m\u001b[0;34m\u001b[0m\u001b[0;34m\u001b[0m\u001b[0m\n\u001b[0m\u001b[1;32m    127\u001b[0m \u001b[0;34m\u001b[0m\u001b[0m\n\u001b[1;32m    128\u001b[0m     \u001b[0;32mdef\u001b[0m \u001b[0mpredict\u001b[0m\u001b[0;34m(\u001b[0m\u001b[0mself\u001b[0m\u001b[0;34m,\u001b[0m \u001b[0mtest_data\u001b[0m\u001b[0;34m,\u001b[0m \u001b[0mn_per_sample\u001b[0m\u001b[0;34m=\u001b[0m\u001b[0;32mNone\u001b[0m\u001b[0;34m,\u001b[0m \u001b[0mn\u001b[0m\u001b[0;34m=\u001b[0m\u001b[0;32mNone\u001b[0m\u001b[0;34m,\u001b[0m \u001b[0msample_config\u001b[0m\u001b[0;34m=\u001b[0m\u001b[0;32mNone\u001b[0m\u001b[0;34m,\u001b[0m \u001b[0mverbose\u001b[0m\u001b[0;34m=\u001b[0m\u001b[0;32mTrue\u001b[0m\u001b[0;34m)\u001b[0m\u001b[0;34m:\u001b[0m\u001b[0;34m\u001b[0m\u001b[0;34m\u001b[0m\u001b[0m\n",
            "\u001b[0;32m/usr/local/lib/python3.7/dist-packages/promptehr/promptehr.py\u001b[0m in \u001b[0;36mfit\u001b[0;34m(self, train_data, val_data)\u001b[0m\n\u001b[1;32m    168\u001b[0m \u001b[0;34m\u001b[0m\u001b[0m\n\u001b[1;32m    169\u001b[0m         \u001b[0;31m# can only build model after fit\u001b[0m\u001b[0;34m\u001b[0m\u001b[0;34m\u001b[0m\u001b[0;34m\u001b[0m\u001b[0m\n\u001b[0;32m--> 170\u001b[0;31m         \u001b[0mself\u001b[0m\u001b[0;34m.\u001b[0m\u001b[0m_build_model\u001b[0m\u001b[0;34m(\u001b[0m\u001b[0;34m)\u001b[0m\u001b[0;34m\u001b[0m\u001b[0;34m\u001b[0m\u001b[0m\n\u001b[0m\u001b[1;32m    171\u001b[0m \u001b[0;34m\u001b[0m\u001b[0m\n\u001b[1;32m    172\u001b[0m         \u001b[0;31m# start training\u001b[0m\u001b[0;34m\u001b[0m\u001b[0;34m\u001b[0m\u001b[0;34m\u001b[0m\u001b[0m\n",
            "\u001b[0;32m/usr/local/lib/python3.7/dist-packages/promptehr/promptehr.py\u001b[0m in \u001b[0;36m_build_model\u001b[0;34m(self)\u001b[0m\n\u001b[1;32m    509\u001b[0m             \u001b[0mself\u001b[0m\u001b[0;34m.\u001b[0m\u001b[0mmodel\u001b[0m\u001b[0;34m.\u001b[0m\u001b[0mcuda\u001b[0m\u001b[0;34m(\u001b[0m\u001b[0;34m)\u001b[0m\u001b[0;34m\u001b[0m\u001b[0;34m\u001b[0m\u001b[0m\n\u001b[1;32m    510\u001b[0m         \u001b[0;32melif\u001b[0m \u001b[0;34m'cuda'\u001b[0m \u001b[0;32min\u001b[0m \u001b[0mself\u001b[0m\u001b[0;34m.\u001b[0m\u001b[0mdevice\u001b[0m\u001b[0;34m:\u001b[0m\u001b[0;34m\u001b[0m\u001b[0;34m\u001b[0m\u001b[0m\n\u001b[0;32m--> 511\u001b[0;31m             \u001b[0mself\u001b[0m\u001b[0;34m.\u001b[0m\u001b[0mmodel\u001b[0m\u001b[0;34m.\u001b[0m\u001b[0mcuda\u001b[0m\u001b[0;34m(\u001b[0m\u001b[0;34m)\u001b[0m\u001b[0;34m\u001b[0m\u001b[0;34m\u001b[0m\u001b[0m\n\u001b[0m\u001b[1;32m    512\u001b[0m         \u001b[0;32melse\u001b[0m\u001b[0;34m:\u001b[0m\u001b[0;34m\u001b[0m\u001b[0;34m\u001b[0m\u001b[0m\n\u001b[1;32m    513\u001b[0m             \u001b[0;31m# on cpu\u001b[0m\u001b[0;34m\u001b[0m\u001b[0;34m\u001b[0m\u001b[0;34m\u001b[0m\u001b[0m\n",
            "\u001b[0;32m/usr/local/lib/python3.7/dist-packages/torch/nn/modules/module.py\u001b[0m in \u001b[0;36mcuda\u001b[0;34m(self, device)\u001b[0m\n\u001b[1;32m    687\u001b[0m             \u001b[0mModule\u001b[0m\u001b[0;34m:\u001b[0m \u001b[0mself\u001b[0m\u001b[0;34m\u001b[0m\u001b[0;34m\u001b[0m\u001b[0m\n\u001b[1;32m    688\u001b[0m         \"\"\"\n\u001b[0;32m--> 689\u001b[0;31m         \u001b[0;32mreturn\u001b[0m \u001b[0mself\u001b[0m\u001b[0;34m.\u001b[0m\u001b[0m_apply\u001b[0m\u001b[0;34m(\u001b[0m\u001b[0;32mlambda\u001b[0m \u001b[0mt\u001b[0m\u001b[0;34m:\u001b[0m \u001b[0mt\u001b[0m\u001b[0;34m.\u001b[0m\u001b[0mcuda\u001b[0m\u001b[0;34m(\u001b[0m\u001b[0mdevice\u001b[0m\u001b[0;34m)\u001b[0m\u001b[0;34m)\u001b[0m\u001b[0;34m\u001b[0m\u001b[0;34m\u001b[0m\u001b[0m\n\u001b[0m\u001b[1;32m    690\u001b[0m \u001b[0;34m\u001b[0m\u001b[0m\n\u001b[1;32m    691\u001b[0m     \u001b[0;32mdef\u001b[0m \u001b[0mipu\u001b[0m\u001b[0;34m(\u001b[0m\u001b[0mself\u001b[0m\u001b[0;34m:\u001b[0m \u001b[0mT\u001b[0m\u001b[0;34m,\u001b[0m \u001b[0mdevice\u001b[0m\u001b[0;34m:\u001b[0m \u001b[0mOptional\u001b[0m\u001b[0;34m[\u001b[0m\u001b[0mUnion\u001b[0m\u001b[0;34m[\u001b[0m\u001b[0mint\u001b[0m\u001b[0;34m,\u001b[0m \u001b[0mdevice\u001b[0m\u001b[0;34m]\u001b[0m\u001b[0;34m]\u001b[0m \u001b[0;34m=\u001b[0m \u001b[0;32mNone\u001b[0m\u001b[0;34m)\u001b[0m \u001b[0;34m->\u001b[0m \u001b[0mT\u001b[0m\u001b[0;34m:\u001b[0m\u001b[0;34m\u001b[0m\u001b[0;34m\u001b[0m\u001b[0m\n",
            "\u001b[0;32m/usr/local/lib/python3.7/dist-packages/torch/nn/modules/module.py\u001b[0m in \u001b[0;36m_apply\u001b[0;34m(self, fn)\u001b[0m\n\u001b[1;32m    577\u001b[0m     \u001b[0;32mdef\u001b[0m \u001b[0m_apply\u001b[0m\u001b[0;34m(\u001b[0m\u001b[0mself\u001b[0m\u001b[0;34m,\u001b[0m \u001b[0mfn\u001b[0m\u001b[0;34m)\u001b[0m\u001b[0;34m:\u001b[0m\u001b[0;34m\u001b[0m\u001b[0;34m\u001b[0m\u001b[0m\n\u001b[1;32m    578\u001b[0m         \u001b[0;32mfor\u001b[0m \u001b[0mmodule\u001b[0m \u001b[0;32min\u001b[0m \u001b[0mself\u001b[0m\u001b[0;34m.\u001b[0m\u001b[0mchildren\u001b[0m\u001b[0;34m(\u001b[0m\u001b[0;34m)\u001b[0m\u001b[0;34m:\u001b[0m\u001b[0;34m\u001b[0m\u001b[0;34m\u001b[0m\u001b[0m\n\u001b[0;32m--> 579\u001b[0;31m             \u001b[0mmodule\u001b[0m\u001b[0;34m.\u001b[0m\u001b[0m_apply\u001b[0m\u001b[0;34m(\u001b[0m\u001b[0mfn\u001b[0m\u001b[0;34m)\u001b[0m\u001b[0;34m\u001b[0m\u001b[0;34m\u001b[0m\u001b[0m\n\u001b[0m\u001b[1;32m    580\u001b[0m \u001b[0;34m\u001b[0m\u001b[0m\n\u001b[1;32m    581\u001b[0m         \u001b[0;32mdef\u001b[0m \u001b[0mcompute_should_use_set_data\u001b[0m\u001b[0;34m(\u001b[0m\u001b[0mtensor\u001b[0m\u001b[0;34m,\u001b[0m \u001b[0mtensor_applied\u001b[0m\u001b[0;34m)\u001b[0m\u001b[0;34m:\u001b[0m\u001b[0;34m\u001b[0m\u001b[0;34m\u001b[0m\u001b[0m\n",
            "\u001b[0;32m/usr/local/lib/python3.7/dist-packages/torch/nn/modules/module.py\u001b[0m in \u001b[0;36m_apply\u001b[0;34m(self, fn)\u001b[0m\n\u001b[1;32m    577\u001b[0m     \u001b[0;32mdef\u001b[0m \u001b[0m_apply\u001b[0m\u001b[0;34m(\u001b[0m\u001b[0mself\u001b[0m\u001b[0;34m,\u001b[0m \u001b[0mfn\u001b[0m\u001b[0;34m)\u001b[0m\u001b[0;34m:\u001b[0m\u001b[0;34m\u001b[0m\u001b[0;34m\u001b[0m\u001b[0m\n\u001b[1;32m    578\u001b[0m         \u001b[0;32mfor\u001b[0m \u001b[0mmodule\u001b[0m \u001b[0;32min\u001b[0m \u001b[0mself\u001b[0m\u001b[0;34m.\u001b[0m\u001b[0mchildren\u001b[0m\u001b[0;34m(\u001b[0m\u001b[0;34m)\u001b[0m\u001b[0;34m:\u001b[0m\u001b[0;34m\u001b[0m\u001b[0;34m\u001b[0m\u001b[0m\n\u001b[0;32m--> 579\u001b[0;31m             \u001b[0mmodule\u001b[0m\u001b[0;34m.\u001b[0m\u001b[0m_apply\u001b[0m\u001b[0;34m(\u001b[0m\u001b[0mfn\u001b[0m\u001b[0;34m)\u001b[0m\u001b[0;34m\u001b[0m\u001b[0;34m\u001b[0m\u001b[0m\n\u001b[0m\u001b[1;32m    580\u001b[0m \u001b[0;34m\u001b[0m\u001b[0m\n\u001b[1;32m    581\u001b[0m         \u001b[0;32mdef\u001b[0m \u001b[0mcompute_should_use_set_data\u001b[0m\u001b[0;34m(\u001b[0m\u001b[0mtensor\u001b[0m\u001b[0;34m,\u001b[0m \u001b[0mtensor_applied\u001b[0m\u001b[0;34m)\u001b[0m\u001b[0;34m:\u001b[0m\u001b[0;34m\u001b[0m\u001b[0;34m\u001b[0m\u001b[0m\n",
            "\u001b[0;32m/usr/local/lib/python3.7/dist-packages/torch/nn/modules/module.py\u001b[0m in \u001b[0;36m_apply\u001b[0;34m(self, fn)\u001b[0m\n\u001b[1;32m    600\u001b[0m             \u001b[0;31m# `with torch.no_grad():`\u001b[0m\u001b[0;34m\u001b[0m\u001b[0;34m\u001b[0m\u001b[0;34m\u001b[0m\u001b[0m\n\u001b[1;32m    601\u001b[0m             \u001b[0;32mwith\u001b[0m \u001b[0mtorch\u001b[0m\u001b[0;34m.\u001b[0m\u001b[0mno_grad\u001b[0m\u001b[0;34m(\u001b[0m\u001b[0;34m)\u001b[0m\u001b[0;34m:\u001b[0m\u001b[0;34m\u001b[0m\u001b[0;34m\u001b[0m\u001b[0m\n\u001b[0;32m--> 602\u001b[0;31m                 \u001b[0mparam_applied\u001b[0m \u001b[0;34m=\u001b[0m \u001b[0mfn\u001b[0m\u001b[0;34m(\u001b[0m\u001b[0mparam\u001b[0m\u001b[0;34m)\u001b[0m\u001b[0;34m\u001b[0m\u001b[0;34m\u001b[0m\u001b[0m\n\u001b[0m\u001b[1;32m    603\u001b[0m             \u001b[0mshould_use_set_data\u001b[0m \u001b[0;34m=\u001b[0m \u001b[0mcompute_should_use_set_data\u001b[0m\u001b[0;34m(\u001b[0m\u001b[0mparam\u001b[0m\u001b[0;34m,\u001b[0m \u001b[0mparam_applied\u001b[0m\u001b[0;34m)\u001b[0m\u001b[0;34m\u001b[0m\u001b[0;34m\u001b[0m\u001b[0m\n\u001b[1;32m    604\u001b[0m             \u001b[0;32mif\u001b[0m \u001b[0mshould_use_set_data\u001b[0m\u001b[0;34m:\u001b[0m\u001b[0;34m\u001b[0m\u001b[0;34m\u001b[0m\u001b[0m\n",
            "\u001b[0;32m/usr/local/lib/python3.7/dist-packages/torch/nn/modules/module.py\u001b[0m in \u001b[0;36m<lambda>\u001b[0;34m(t)\u001b[0m\n\u001b[1;32m    687\u001b[0m             \u001b[0mModule\u001b[0m\u001b[0;34m:\u001b[0m \u001b[0mself\u001b[0m\u001b[0;34m\u001b[0m\u001b[0;34m\u001b[0m\u001b[0m\n\u001b[1;32m    688\u001b[0m         \"\"\"\n\u001b[0;32m--> 689\u001b[0;31m         \u001b[0;32mreturn\u001b[0m \u001b[0mself\u001b[0m\u001b[0;34m.\u001b[0m\u001b[0m_apply\u001b[0m\u001b[0;34m(\u001b[0m\u001b[0;32mlambda\u001b[0m \u001b[0mt\u001b[0m\u001b[0;34m:\u001b[0m \u001b[0mt\u001b[0m\u001b[0;34m.\u001b[0m\u001b[0mcuda\u001b[0m\u001b[0;34m(\u001b[0m\u001b[0mdevice\u001b[0m\u001b[0;34m)\u001b[0m\u001b[0;34m)\u001b[0m\u001b[0;34m\u001b[0m\u001b[0;34m\u001b[0m\u001b[0m\n\u001b[0m\u001b[1;32m    690\u001b[0m \u001b[0;34m\u001b[0m\u001b[0m\n\u001b[1;32m    691\u001b[0m     \u001b[0;32mdef\u001b[0m \u001b[0mipu\u001b[0m\u001b[0;34m(\u001b[0m\u001b[0mself\u001b[0m\u001b[0;34m:\u001b[0m \u001b[0mT\u001b[0m\u001b[0;34m,\u001b[0m \u001b[0mdevice\u001b[0m\u001b[0;34m:\u001b[0m \u001b[0mOptional\u001b[0m\u001b[0;34m[\u001b[0m\u001b[0mUnion\u001b[0m\u001b[0;34m[\u001b[0m\u001b[0mint\u001b[0m\u001b[0;34m,\u001b[0m \u001b[0mdevice\u001b[0m\u001b[0;34m]\u001b[0m\u001b[0;34m]\u001b[0m \u001b[0;34m=\u001b[0m \u001b[0;32mNone\u001b[0m\u001b[0;34m)\u001b[0m \u001b[0;34m->\u001b[0m \u001b[0mT\u001b[0m\u001b[0;34m:\u001b[0m\u001b[0;34m\u001b[0m\u001b[0;34m\u001b[0m\u001b[0m\n",
            "\u001b[0;31mRuntimeError\u001b[0m: CUDA out of memory. Tried to allocate 158.00 MiB (GPU 0; 14.76 GiB total capacity; 13.31 GiB already allocated; 57.75 MiB free; 13.53 GiB reserved in total by PyTorch) If reserved memory is >> allocated memory try setting max_split_size_mb to avoid fragmentation.  See documentation for Memory Management and PYTORCH_CUDA_ALLOC_CONF"
          ]
        }
      ]
    },
    {
      "cell_type": "markdown",
      "source": [
        "### **Step 7: Save the model**"
      ],
      "metadata": {
        "id": "mDCFeiVmD9Tk"
      }
    },
    {
      "cell_type": "code",
      "source": [
        "model.save_model('./save_model/promptehr')\n",
        "model.load_model('./save_model/promptehr')"
      ],
      "metadata": {
        "id": "IGvn-N-vEA3u",
        "colab": {
          "base_uri": "https://localhost:8080/",
          "height": 1000
        },
        "outputId": "564240e4-2474-4ea3-f175-e8a72807b393"
      },
      "execution_count": null,
      "outputs": [
        {
          "output_type": "stream",
          "name": "stderr",
          "text": [
            "Configuration saved in ./save_model/promptehr/config.json\n"
          ]
        },
        {
          "output_type": "stream",
          "name": "stdout",
          "text": [
            "Save the trained model to: ./save_model/promptehr\n"
          ]
        },
        {
          "output_type": "stream",
          "name": "stderr",
          "text": [
            "loading configuration file config.json from cache at /root/.cache/huggingface/hub/models--facebook--bart-base/snapshots/84358834e73de6a82c22cec1d90eb45ef4f6eba5/config.json\n",
            "Model config BartConfig {\n",
            "  \"_name_or_path\": \"bart-base\",\n",
            "  \"activation_dropout\": 0.1,\n",
            "  \"activation_function\": \"gelu\",\n",
            "  \"add_bias_logits\": false,\n",
            "  \"add_final_layer_norm\": false,\n",
            "  \"architectures\": [\n",
            "    \"BartModel\"\n",
            "  ],\n",
            "  \"attention_dropout\": 0.1,\n",
            "  \"bos_token_id\": 0,\n",
            "  \"classif_dropout\": 0.1,\n",
            "  \"classifier_dropout\": 0.0,\n",
            "  \"d_model\": 768,\n",
            "  \"decoder_attention_heads\": 12,\n",
            "  \"decoder_ffn_dim\": 3072,\n",
            "  \"decoder_layerdrop\": 0.0,\n",
            "  \"decoder_layers\": 6,\n",
            "  \"decoder_start_token_id\": 2,\n",
            "  \"dropout\": 0.1,\n",
            "  \"early_stopping\": true,\n",
            "  \"encoder_attention_heads\": 12,\n",
            "  \"encoder_ffn_dim\": 3072,\n",
            "  \"encoder_layerdrop\": 0.0,\n",
            "  \"encoder_layers\": 6,\n",
            "  \"eos_token_id\": 2,\n",
            "  \"forced_bos_token_id\": 0,\n",
            "  \"forced_eos_token_id\": 2,\n",
            "  \"gradient_checkpointing\": false,\n",
            "  \"id2label\": {\n",
            "    \"0\": \"LABEL_0\",\n",
            "    \"1\": \"LABEL_1\",\n",
            "    \"2\": \"LABEL_2\"\n",
            "  },\n",
            "  \"init_std\": 0.02,\n",
            "  \"is_encoder_decoder\": true,\n",
            "  \"label2id\": {\n",
            "    \"LABEL_0\": 0,\n",
            "    \"LABEL_1\": 1,\n",
            "    \"LABEL_2\": 2\n",
            "  },\n",
            "  \"max_position_embeddings\": 1024,\n",
            "  \"model_type\": \"bart\",\n",
            "  \"no_repeat_ngram_size\": 3,\n",
            "  \"normalize_before\": false,\n",
            "  \"normalize_embedding\": true,\n",
            "  \"num_beams\": 4,\n",
            "  \"num_hidden_layers\": 6,\n",
            "  \"pad_token_id\": 1,\n",
            "  \"scale_embedding\": false,\n",
            "  \"task_specific_params\": {\n",
            "    \"summarization\": {\n",
            "      \"length_penalty\": 1.0,\n",
            "      \"max_length\": 128,\n",
            "      \"min_length\": 12,\n",
            "      \"num_beams\": 4\n",
            "    },\n",
            "    \"summarization_cnn\": {\n",
            "      \"length_penalty\": 2.0,\n",
            "      \"max_length\": 142,\n",
            "      \"min_length\": 56,\n",
            "      \"num_beams\": 4\n",
            "    },\n",
            "    \"summarization_xsum\": {\n",
            "      \"length_penalty\": 1.0,\n",
            "      \"max_length\": 62,\n",
            "      \"min_length\": 11,\n",
            "      \"num_beams\": 6\n",
            "    }\n",
            "  },\n",
            "  \"torch_dtype\": \"float32\",\n",
            "  \"transformers_version\": \"4.24.0\",\n",
            "  \"use_cache\": true,\n",
            "  \"vocab_size\": 50265\n",
            "}\n",
            "\n",
            "loading configuration file ./save_model/promptehr/config.json\n",
            "Model config BartConfig {\n",
            "  \"_name_or_path\": \"bart-base\",\n",
            "  \"activation_dropout\": 0.1,\n",
            "  \"activation_function\": \"gelu\",\n",
            "  \"add_bias_logits\": false,\n",
            "  \"add_final_layer_norm\": false,\n",
            "  \"architectures\": [\n",
            "    \"BartModel\"\n",
            "  ],\n",
            "  \"attention_dropout\": 0.1,\n",
            "  \"bos_token_id\": 0,\n",
            "  \"cat_cardinalities\": [\n",
            "    2,\n",
            "    37\n",
            "  ],\n",
            "  \"classif_dropout\": 0.1,\n",
            "  \"classifier_dropout\": 0.0,\n",
            "  \"d_model\": 768,\n",
            "  \"d_prompt_hidden\": 128,\n",
            "  \"data_tokenizer_num_vocab\": 53771,\n",
            "  \"decoder_attention_heads\": 12,\n",
            "  \"decoder_ffn_dim\": 3072,\n",
            "  \"decoder_layerdrop\": 0.0,\n",
            "  \"decoder_layers\": 6,\n",
            "  \"decoder_start_token_id\": 2,\n",
            "  \"diag\": 1958,\n",
            "  \"dropout\": 0.1,\n",
            "  \"early_stopping\": true,\n",
            "  \"encoder_attention_heads\": 12,\n",
            "  \"encoder_ffn_dim\": 3072,\n",
            "  \"encoder_layerdrop\": 0.0,\n",
            "  \"encoder_layers\": 6,\n",
            "  \"eos_token_id\": 2,\n",
            "  \"forced_bos_token_id\": 0,\n",
            "  \"forced_eos_token_id\": 2,\n",
            "  \"gradient_checkpointing\": false,\n",
            "  \"id2label\": {\n",
            "    \"0\": \"LABEL_0\",\n",
            "    \"1\": \"LABEL_1\",\n",
            "    \"2\": \"LABEL_2\"\n",
            "  },\n",
            "  \"init_std\": 0.02,\n",
            "  \"is_encoder_decoder\": true,\n",
            "  \"label2id\": {\n",
            "    \"LABEL_0\": 0,\n",
            "    \"LABEL_1\": 1,\n",
            "    \"LABEL_2\": 2\n",
            "  },\n",
            "  \"max_position_embeddings\": 1024,\n",
            "  \"med\": 112,\n",
            "  \"model_type\": \"bart\",\n",
            "  \"n_num_feature\": 1,\n",
            "  \"no_repeat_ngram_size\": 3,\n",
            "  \"normalize_before\": false,\n",
            "  \"normalize_embedding\": true,\n",
            "  \"num_beams\": 4,\n",
            "  \"num_hidden_layers\": 6,\n",
            "  \"pad_token_id\": 1,\n",
            "  \"prod\": 1430,\n",
            "  \"scale_embedding\": false,\n",
            "  \"task_specific_params\": {\n",
            "    \"summarization\": {\n",
            "      \"length_penalty\": 1.0,\n",
            "      \"max_length\": 128,\n",
            "      \"min_length\": 12,\n",
            "      \"num_beams\": 4\n",
            "    },\n",
            "    \"summarization_cnn\": {\n",
            "      \"length_penalty\": 2.0,\n",
            "      \"max_length\": 142,\n",
            "      \"min_length\": 56,\n",
            "      \"num_beams\": 4\n",
            "    },\n",
            "    \"summarization_xsum\": {\n",
            "      \"length_penalty\": 1.0,\n",
            "      \"max_length\": 62,\n",
            "      \"min_length\": 11,\n",
            "      \"num_beams\": 6\n",
            "    }\n",
            "  },\n",
            "  \"torch_dtype\": \"float32\",\n",
            "  \"transformers_version\": \"4.24.0\",\n",
            "  \"use_cache\": true,\n",
            "  \"vocab_size\": 53771\n",
            "}\n",
            "\n"
          ]
        },
        {
          "output_type": "error",
          "ename": "RuntimeError",
          "evalue": "ignored",
          "traceback": [
            "\u001b[0;31m---------------------------------------------------------------------------\u001b[0m",
            "\u001b[0;31mRuntimeError\u001b[0m                              Traceback (most recent call last)",
            "\u001b[0;32m<ipython-input-23-4cfc1e445af6>\u001b[0m in \u001b[0;36m<module>\u001b[0;34m\u001b[0m\n\u001b[1;32m      1\u001b[0m \u001b[0mmodel\u001b[0m\u001b[0;34m.\u001b[0m\u001b[0msave_model\u001b[0m\u001b[0;34m(\u001b[0m\u001b[0;34m'./save_model/promptehr'\u001b[0m\u001b[0;34m)\u001b[0m\u001b[0;34m\u001b[0m\u001b[0;34m\u001b[0m\u001b[0m\n\u001b[0;32m----> 2\u001b[0;31m \u001b[0mmodel\u001b[0m\u001b[0;34m.\u001b[0m\u001b[0mload_model\u001b[0m\u001b[0;34m(\u001b[0m\u001b[0;34m'./save_model/promptehr'\u001b[0m\u001b[0;34m)\u001b[0m\u001b[0;34m\u001b[0m\u001b[0;34m\u001b[0m\u001b[0m\n\u001b[0m",
            "\u001b[0;32m/content/gdrive/MyDrive/PyTrial_dev_group/tutorials/pytrial/tasks/trial_simulation/sequence/promptehr.py\u001b[0m in \u001b[0;36mload_model\u001b[0;34m(self, checkpoint)\u001b[0m\n\u001b[1;32m    184\u001b[0m             \u001b[0mThe\u001b[0m \u001b[0minput\u001b[0m \u001b[0mdir\u001b[0m \u001b[0mthat\u001b[0m \u001b[0mstores\u001b[0m \u001b[0mthe\u001b[0m \u001b[0mpretrained\u001b[0m \u001b[0mmodel\u001b[0m\u001b[0;34m.\u001b[0m\u001b[0;34m\u001b[0m\u001b[0;34m\u001b[0m\u001b[0m\n\u001b[1;32m    185\u001b[0m         '''\n\u001b[0;32m--> 186\u001b[0;31m         \u001b[0mself\u001b[0m\u001b[0;34m.\u001b[0m\u001b[0mmodel\u001b[0m\u001b[0;34m.\u001b[0m\u001b[0mload_model\u001b[0m\u001b[0;34m(\u001b[0m\u001b[0mcheckpoint\u001b[0m\u001b[0;34m)\u001b[0m\u001b[0;34m\u001b[0m\u001b[0;34m\u001b[0m\u001b[0m\n\u001b[0m\u001b[1;32m    187\u001b[0m \u001b[0;34m\u001b[0m\u001b[0m\n\u001b[1;32m    188\u001b[0m     \u001b[0;32mdef\u001b[0m \u001b[0msave_model\u001b[0m\u001b[0;34m(\u001b[0m\u001b[0mself\u001b[0m\u001b[0;34m,\u001b[0m \u001b[0moutput_dir\u001b[0m\u001b[0;34m)\u001b[0m\u001b[0;34m:\u001b[0m\u001b[0;34m\u001b[0m\u001b[0;34m\u001b[0m\u001b[0m\n",
            "\u001b[0;32m/usr/local/lib/python3.7/dist-packages/promptehr/promptehr.py\u001b[0m in \u001b[0;36mload_model\u001b[0;34m(self, checkpoint)\u001b[0m\n\u001b[1;32m    285\u001b[0m \u001b[0;34m\u001b[0m\u001b[0m\n\u001b[1;32m    286\u001b[0m         \u001b[0;31m# build model\u001b[0m\u001b[0;34m\u001b[0m\u001b[0;34m\u001b[0m\u001b[0;34m\u001b[0m\u001b[0m\n\u001b[0;32m--> 287\u001b[0;31m         \u001b[0mself\u001b[0m\u001b[0;34m.\u001b[0m\u001b[0m_build_model\u001b[0m\u001b[0;34m(\u001b[0m\u001b[0;34m)\u001b[0m\u001b[0;34m\u001b[0m\u001b[0;34m\u001b[0m\u001b[0m\n\u001b[0m\u001b[1;32m    288\u001b[0m \u001b[0;34m\u001b[0m\u001b[0m\n\u001b[1;32m    289\u001b[0m         \u001b[0;31m# load checkpoint\u001b[0m\u001b[0;34m\u001b[0m\u001b[0;34m\u001b[0m\u001b[0;34m\u001b[0m\u001b[0m\n",
            "\u001b[0;32m/usr/local/lib/python3.7/dist-packages/promptehr/promptehr.py\u001b[0m in \u001b[0;36m_build_model\u001b[0;34m(self)\u001b[0m\n\u001b[1;32m    509\u001b[0m             \u001b[0mself\u001b[0m\u001b[0;34m.\u001b[0m\u001b[0mmodel\u001b[0m\u001b[0;34m.\u001b[0m\u001b[0mcuda\u001b[0m\u001b[0;34m(\u001b[0m\u001b[0;34m)\u001b[0m\u001b[0;34m\u001b[0m\u001b[0;34m\u001b[0m\u001b[0m\n\u001b[1;32m    510\u001b[0m         \u001b[0;32melif\u001b[0m \u001b[0;34m'cuda'\u001b[0m \u001b[0;32min\u001b[0m \u001b[0mself\u001b[0m\u001b[0;34m.\u001b[0m\u001b[0mdevice\u001b[0m\u001b[0;34m:\u001b[0m\u001b[0;34m\u001b[0m\u001b[0;34m\u001b[0m\u001b[0m\n\u001b[0;32m--> 511\u001b[0;31m             \u001b[0mself\u001b[0m\u001b[0;34m.\u001b[0m\u001b[0mmodel\u001b[0m\u001b[0;34m.\u001b[0m\u001b[0mcuda\u001b[0m\u001b[0;34m(\u001b[0m\u001b[0;34m)\u001b[0m\u001b[0;34m\u001b[0m\u001b[0;34m\u001b[0m\u001b[0m\n\u001b[0m\u001b[1;32m    512\u001b[0m         \u001b[0;32melse\u001b[0m\u001b[0;34m:\u001b[0m\u001b[0;34m\u001b[0m\u001b[0;34m\u001b[0m\u001b[0m\n\u001b[1;32m    513\u001b[0m             \u001b[0;31m# on cpu\u001b[0m\u001b[0;34m\u001b[0m\u001b[0;34m\u001b[0m\u001b[0;34m\u001b[0m\u001b[0m\n",
            "\u001b[0;32m/usr/local/lib/python3.7/dist-packages/torch/nn/modules/module.py\u001b[0m in \u001b[0;36mcuda\u001b[0;34m(self, device)\u001b[0m\n\u001b[1;32m    687\u001b[0m             \u001b[0mModule\u001b[0m\u001b[0;34m:\u001b[0m \u001b[0mself\u001b[0m\u001b[0;34m\u001b[0m\u001b[0;34m\u001b[0m\u001b[0m\n\u001b[1;32m    688\u001b[0m         \"\"\"\n\u001b[0;32m--> 689\u001b[0;31m         \u001b[0;32mreturn\u001b[0m \u001b[0mself\u001b[0m\u001b[0;34m.\u001b[0m\u001b[0m_apply\u001b[0m\u001b[0;34m(\u001b[0m\u001b[0;32mlambda\u001b[0m \u001b[0mt\u001b[0m\u001b[0;34m:\u001b[0m \u001b[0mt\u001b[0m\u001b[0;34m.\u001b[0m\u001b[0mcuda\u001b[0m\u001b[0;34m(\u001b[0m\u001b[0mdevice\u001b[0m\u001b[0;34m)\u001b[0m\u001b[0;34m)\u001b[0m\u001b[0;34m\u001b[0m\u001b[0;34m\u001b[0m\u001b[0m\n\u001b[0m\u001b[1;32m    690\u001b[0m \u001b[0;34m\u001b[0m\u001b[0m\n\u001b[1;32m    691\u001b[0m     \u001b[0;32mdef\u001b[0m \u001b[0mipu\u001b[0m\u001b[0;34m(\u001b[0m\u001b[0mself\u001b[0m\u001b[0;34m:\u001b[0m \u001b[0mT\u001b[0m\u001b[0;34m,\u001b[0m \u001b[0mdevice\u001b[0m\u001b[0;34m:\u001b[0m \u001b[0mOptional\u001b[0m\u001b[0;34m[\u001b[0m\u001b[0mUnion\u001b[0m\u001b[0;34m[\u001b[0m\u001b[0mint\u001b[0m\u001b[0;34m,\u001b[0m \u001b[0mdevice\u001b[0m\u001b[0;34m]\u001b[0m\u001b[0;34m]\u001b[0m \u001b[0;34m=\u001b[0m \u001b[0;32mNone\u001b[0m\u001b[0;34m)\u001b[0m \u001b[0;34m->\u001b[0m \u001b[0mT\u001b[0m\u001b[0;34m:\u001b[0m\u001b[0;34m\u001b[0m\u001b[0;34m\u001b[0m\u001b[0m\n",
            "\u001b[0;32m/usr/local/lib/python3.7/dist-packages/torch/nn/modules/module.py\u001b[0m in \u001b[0;36m_apply\u001b[0;34m(self, fn)\u001b[0m\n\u001b[1;32m    577\u001b[0m     \u001b[0;32mdef\u001b[0m \u001b[0m_apply\u001b[0m\u001b[0;34m(\u001b[0m\u001b[0mself\u001b[0m\u001b[0;34m,\u001b[0m \u001b[0mfn\u001b[0m\u001b[0;34m)\u001b[0m\u001b[0;34m:\u001b[0m\u001b[0;34m\u001b[0m\u001b[0;34m\u001b[0m\u001b[0m\n\u001b[1;32m    578\u001b[0m         \u001b[0;32mfor\u001b[0m \u001b[0mmodule\u001b[0m \u001b[0;32min\u001b[0m \u001b[0mself\u001b[0m\u001b[0;34m.\u001b[0m\u001b[0mchildren\u001b[0m\u001b[0;34m(\u001b[0m\u001b[0;34m)\u001b[0m\u001b[0;34m:\u001b[0m\u001b[0;34m\u001b[0m\u001b[0;34m\u001b[0m\u001b[0m\n\u001b[0;32m--> 579\u001b[0;31m             \u001b[0mmodule\u001b[0m\u001b[0;34m.\u001b[0m\u001b[0m_apply\u001b[0m\u001b[0;34m(\u001b[0m\u001b[0mfn\u001b[0m\u001b[0;34m)\u001b[0m\u001b[0;34m\u001b[0m\u001b[0;34m\u001b[0m\u001b[0m\n\u001b[0m\u001b[1;32m    580\u001b[0m \u001b[0;34m\u001b[0m\u001b[0m\n\u001b[1;32m    581\u001b[0m         \u001b[0;32mdef\u001b[0m \u001b[0mcompute_should_use_set_data\u001b[0m\u001b[0;34m(\u001b[0m\u001b[0mtensor\u001b[0m\u001b[0;34m,\u001b[0m \u001b[0mtensor_applied\u001b[0m\u001b[0;34m)\u001b[0m\u001b[0;34m:\u001b[0m\u001b[0;34m\u001b[0m\u001b[0;34m\u001b[0m\u001b[0m\n",
            "\u001b[0;32m/usr/local/lib/python3.7/dist-packages/torch/nn/modules/module.py\u001b[0m in \u001b[0;36m_apply\u001b[0;34m(self, fn)\u001b[0m\n\u001b[1;32m    577\u001b[0m     \u001b[0;32mdef\u001b[0m \u001b[0m_apply\u001b[0m\u001b[0;34m(\u001b[0m\u001b[0mself\u001b[0m\u001b[0;34m,\u001b[0m \u001b[0mfn\u001b[0m\u001b[0;34m)\u001b[0m\u001b[0;34m:\u001b[0m\u001b[0;34m\u001b[0m\u001b[0;34m\u001b[0m\u001b[0m\n\u001b[1;32m    578\u001b[0m         \u001b[0;32mfor\u001b[0m \u001b[0mmodule\u001b[0m \u001b[0;32min\u001b[0m \u001b[0mself\u001b[0m\u001b[0;34m.\u001b[0m\u001b[0mchildren\u001b[0m\u001b[0;34m(\u001b[0m\u001b[0;34m)\u001b[0m\u001b[0;34m:\u001b[0m\u001b[0;34m\u001b[0m\u001b[0;34m\u001b[0m\u001b[0m\n\u001b[0;32m--> 579\u001b[0;31m             \u001b[0mmodule\u001b[0m\u001b[0;34m.\u001b[0m\u001b[0m_apply\u001b[0m\u001b[0;34m(\u001b[0m\u001b[0mfn\u001b[0m\u001b[0;34m)\u001b[0m\u001b[0;34m\u001b[0m\u001b[0;34m\u001b[0m\u001b[0m\n\u001b[0m\u001b[1;32m    580\u001b[0m \u001b[0;34m\u001b[0m\u001b[0m\n\u001b[1;32m    581\u001b[0m         \u001b[0;32mdef\u001b[0m \u001b[0mcompute_should_use_set_data\u001b[0m\u001b[0;34m(\u001b[0m\u001b[0mtensor\u001b[0m\u001b[0;34m,\u001b[0m \u001b[0mtensor_applied\u001b[0m\u001b[0;34m)\u001b[0m\u001b[0;34m:\u001b[0m\u001b[0;34m\u001b[0m\u001b[0;34m\u001b[0m\u001b[0m\n",
            "\u001b[0;32m/usr/local/lib/python3.7/dist-packages/torch/nn/modules/module.py\u001b[0m in \u001b[0;36m_apply\u001b[0;34m(self, fn)\u001b[0m\n\u001b[1;32m    600\u001b[0m             \u001b[0;31m# `with torch.no_grad():`\u001b[0m\u001b[0;34m\u001b[0m\u001b[0;34m\u001b[0m\u001b[0;34m\u001b[0m\u001b[0m\n\u001b[1;32m    601\u001b[0m             \u001b[0;32mwith\u001b[0m \u001b[0mtorch\u001b[0m\u001b[0;34m.\u001b[0m\u001b[0mno_grad\u001b[0m\u001b[0;34m(\u001b[0m\u001b[0;34m)\u001b[0m\u001b[0;34m:\u001b[0m\u001b[0;34m\u001b[0m\u001b[0;34m\u001b[0m\u001b[0m\n\u001b[0;32m--> 602\u001b[0;31m                 \u001b[0mparam_applied\u001b[0m \u001b[0;34m=\u001b[0m \u001b[0mfn\u001b[0m\u001b[0;34m(\u001b[0m\u001b[0mparam\u001b[0m\u001b[0;34m)\u001b[0m\u001b[0;34m\u001b[0m\u001b[0;34m\u001b[0m\u001b[0m\n\u001b[0m\u001b[1;32m    603\u001b[0m             \u001b[0mshould_use_set_data\u001b[0m \u001b[0;34m=\u001b[0m \u001b[0mcompute_should_use_set_data\u001b[0m\u001b[0;34m(\u001b[0m\u001b[0mparam\u001b[0m\u001b[0;34m,\u001b[0m \u001b[0mparam_applied\u001b[0m\u001b[0;34m)\u001b[0m\u001b[0;34m\u001b[0m\u001b[0;34m\u001b[0m\u001b[0m\n\u001b[1;32m    604\u001b[0m             \u001b[0;32mif\u001b[0m \u001b[0mshould_use_set_data\u001b[0m\u001b[0;34m:\u001b[0m\u001b[0;34m\u001b[0m\u001b[0;34m\u001b[0m\u001b[0m\n",
            "\u001b[0;32m/usr/local/lib/python3.7/dist-packages/torch/nn/modules/module.py\u001b[0m in \u001b[0;36m<lambda>\u001b[0;34m(t)\u001b[0m\n\u001b[1;32m    687\u001b[0m             \u001b[0mModule\u001b[0m\u001b[0;34m:\u001b[0m \u001b[0mself\u001b[0m\u001b[0;34m\u001b[0m\u001b[0;34m\u001b[0m\u001b[0m\n\u001b[1;32m    688\u001b[0m         \"\"\"\n\u001b[0;32m--> 689\u001b[0;31m         \u001b[0;32mreturn\u001b[0m \u001b[0mself\u001b[0m\u001b[0;34m.\u001b[0m\u001b[0m_apply\u001b[0m\u001b[0;34m(\u001b[0m\u001b[0;32mlambda\u001b[0m \u001b[0mt\u001b[0m\u001b[0;34m:\u001b[0m \u001b[0mt\u001b[0m\u001b[0;34m.\u001b[0m\u001b[0mcuda\u001b[0m\u001b[0;34m(\u001b[0m\u001b[0mdevice\u001b[0m\u001b[0;34m)\u001b[0m\u001b[0;34m)\u001b[0m\u001b[0;34m\u001b[0m\u001b[0;34m\u001b[0m\u001b[0m\n\u001b[0m\u001b[1;32m    690\u001b[0m \u001b[0;34m\u001b[0m\u001b[0m\n\u001b[1;32m    691\u001b[0m     \u001b[0;32mdef\u001b[0m \u001b[0mipu\u001b[0m\u001b[0;34m(\u001b[0m\u001b[0mself\u001b[0m\u001b[0;34m:\u001b[0m \u001b[0mT\u001b[0m\u001b[0;34m,\u001b[0m \u001b[0mdevice\u001b[0m\u001b[0;34m:\u001b[0m \u001b[0mOptional\u001b[0m\u001b[0;34m[\u001b[0m\u001b[0mUnion\u001b[0m\u001b[0;34m[\u001b[0m\u001b[0mint\u001b[0m\u001b[0;34m,\u001b[0m \u001b[0mdevice\u001b[0m\u001b[0;34m]\u001b[0m\u001b[0;34m]\u001b[0m \u001b[0;34m=\u001b[0m \u001b[0;32mNone\u001b[0m\u001b[0;34m)\u001b[0m \u001b[0;34m->\u001b[0m \u001b[0mT\u001b[0m\u001b[0;34m:\u001b[0m\u001b[0;34m\u001b[0m\u001b[0;34m\u001b[0m\u001b[0m\n",
            "\u001b[0;31mRuntimeError\u001b[0m: CUDA out of memory. Tried to allocate 158.00 MiB (GPU 0; 14.76 GiB total capacity; 13.31 GiB already allocated; 57.75 MiB free; 13.53 GiB reserved in total by PyTorch) If reserved memory is >> allocated memory try setting max_split_size_mb to avoid fragmentation.  See documentation for Memory Management and PYTORCH_CUDA_ALLOC_CONF"
          ]
        }
      ]
    }
  ]
}